{
 "cells": [
  {
   "cell_type": "code",
   "execution_count": 1,
   "metadata": {
    "collapsed": true
   },
   "outputs": [],
   "source": [
    "%matplotlib inline"
   ]
  },
  {
   "cell_type": "code",
   "execution_count": 2,
   "metadata": {
    "collapsed": true
   },
   "outputs": [],
   "source": [
    "import sqlite3\n",
    "import os\n",
    "import pandas as pd\n",
    "import matplotlib.pyplot as plt\n",
    "import numpy as np\n",
    "from sklearn.decomposition import PCA"
   ]
  },
  {
   "cell_type": "code",
   "execution_count": 3,
   "metadata": {
    "collapsed": true
   },
   "outputs": [],
   "source": [
    "import sys\n",
    "sys.path.insert(0, os.path.abspath('..'))\n",
    "from milleniumcohort import create_config\n",
    "config = create_config('../config.yml')"
   ]
  },
  {
   "cell_type": "code",
   "execution_count": 4,
   "metadata": {
    "collapsed": false
   },
   "outputs": [
    {
     "data": {
      "text/plain": [
       "'/media/sf_VBox_Shared/London/CLSdata500/results/mod_10st_0b_15r_720t_acceleration'"
      ]
     },
     "execution_count": 4,
     "metadata": {},
     "output_type": "execute_result"
    }
   ],
   "source": [
    "config.model_path"
   ]
  },
  {
   "cell_type": "code",
   "execution_count": 5,
   "metadata": {
    "collapsed": false
   },
   "outputs": [],
   "source": [
    "model1_path = os.path.join(config.model_path, '../mod_10st_0b_15r_720t_acceleration')\n",
    "model2_path = os.path.join(config.model_path, '../mod_10st_0b_15r_720t_acceleration_anglex_angley_anglez')"
   ]
  },
  {
   "cell_type": "code",
   "execution_count": 6,
   "metadata": {
    "collapsed": false
   },
   "outputs": [],
   "source": [
    "conn1 = sqlite3.connect(os.path.join(model1_path, 'milleniumcohort.db'))\n",
    "model1_times_long = pd.read_sql('Select filename, state, count(*) from data_with_states group by filename, state', conn1)\n",
    "model1_times = model1_times_long.pivot('filename', 'state')"
   ]
  },
  {
   "cell_type": "code",
   "execution_count": 7,
   "metadata": {
    "collapsed": false
   },
   "outputs": [],
   "source": [
    "conn2 = sqlite3.connect(os.path.join(model2_path, 'milleniumcohort.db'))\n",
    "model2_times_long = pd.read_sql('Select filename, state, count(*) from data_with_states group by filename, state', conn2)\n",
    "model2_times = model2_times_long.pivot('filename', 'state')"
   ]
  },
  {
   "cell_type": "code",
   "execution_count": 8,
   "metadata": {
    "collapsed": true
   },
   "outputs": [],
   "source": [
    "cutoff_times_long = pd.read_sql('Select filename, heuristic, count(*) from data_with_states group by filename, heuristic', conn1)\n",
    "cutoff_times = cutoff_times_long.pivot('filename', 'heuristic')"
   ]
  },
  {
   "cell_type": "code",
   "execution_count": 9,
   "metadata": {
    "collapsed": true
   },
   "outputs": [],
   "source": [
    "conn1.close()\n",
    "conn2.close()"
   ]
  },
  {
   "cell_type": "code",
   "execution_count": 10,
   "metadata": {
    "collapsed": false
   },
   "outputs": [
    {
     "data": {
      "text/plain": [
       "True"
      ]
     },
     "execution_count": 10,
     "metadata": {},
     "output_type": "execute_result"
    }
   ],
   "source": [
    "# Are the filenames the same?\n",
    "np.all(model1_times.index == model2_times.index)"
   ]
  },
  {
   "cell_type": "code",
   "execution_count": 11,
   "metadata": {
    "collapsed": true
   },
   "outputs": [],
   "source": [
    "def table_to_X(times, min_hours = 20):\n",
    "    total_5sec = times.sum(axis=1)\n",
    "    times_norm = times.divide(total_5sec, axis='index')\n",
    "    times_norm = times_norm[total_5sec>min_hours*60*12]\n",
    "    times_norm = times_norm.fillna(0)\n",
    "    X = times_norm.as_matrix()\n",
    "    return X"
   ]
  },
  {
   "cell_type": "code",
   "execution_count": 12,
   "metadata": {
    "collapsed": false
   },
   "outputs": [],
   "source": [
    "X_cutoff = table_to_X(cutoff_times)\n",
    "X_model1 = table_to_X(model1_times)\n",
    "X_model2 = table_to_X(model2_times)"
   ]
  },
  {
   "cell_type": "markdown",
   "metadata": {},
   "source": [
    "## PCA"
   ]
  },
  {
   "cell_type": "code",
   "execution_count": 13,
   "metadata": {
    "collapsed": false
   },
   "outputs": [
    {
     "data": {
      "text/plain": [
       "PCA(copy=True, n_components=10, whiten=False)"
      ]
     },
     "execution_count": 13,
     "metadata": {},
     "output_type": "execute_result"
    }
   ],
   "source": [
    "pca_cutoff = PCA(n_components=X_cutoff.shape[1])\n",
    "pca_cutoff.fit(X_cutoff)\n",
    "\n",
    "pca_model1 = PCA(n_components=X_model1.shape[1])\n",
    "pca_model1.fit(X_model1)\n",
    "\n",
    "pca_model2 = PCA(n_components=X_model2.shape[1])\n",
    "pca_model2.fit(X_model2)"
   ]
  },
  {
   "cell_type": "code",
   "execution_count": 34,
   "metadata": {
    "collapsed": false
   },
   "outputs": [
    {
     "data": {
      "image/png": "[encoded data removed]",
      "text/plain": [
       "<matplotlib.figure.Figure at 0x7f5394d3a3d0>"
      ]
     },
     "metadata": {},
     "output_type": "display_data"
    }
   ],
   "source": [
    "total_nr = X_cutoff.shape[1]\n",
    "\n",
    "plt.plot(np.cumsum(pca_cutoff.explained_variance_ratio_), label='cut-point', marker='o')\n",
    "plt.plot(np.cumsum(pca_model1.explained_variance_ratio_), label='acceleration', marker='s')\n",
    "plt.plot(np.cumsum(pca_model2.explained_variance_ratio_), label='acceleration+angles', marker='D')\n",
    "plt.xlabel('# components')\n",
    "plt.ylabel('fraction explained variance')\n",
    "plt.xticks(range(total_nr), range(1, total_nr+1))\n",
    "plt.legend(loc=4)\n",
    "plt.show()"
   ]
  },
  {
   "cell_type": "code",
   "execution_count": 15,
   "metadata": {
    "collapsed": false
   },
   "outputs": [
    {
     "data": {
      "text/html": [
       "<div>\n",
       "<table border=\"1\" class=\"dataframe\">\n",
       "  <thead>\n",
       "    <tr style=\"text-align: right;\">\n",
       "      <th></th>\n",
       "      <th>acceleration</th>\n",
       "      <th>acceleration+angles</th>\n",
       "      <th>cut-point</th>\n",
       "    </tr>\n",
       "  </thead>\n",
       "  <tbody>\n",
       "    <tr>\n",
       "      <th>1</th>\n",
       "      <td>0.427021</td>\n",
       "      <td>0.298421</td>\n",
       "      <td>0.602489</td>\n",
       "    </tr>\n",
       "    <tr>\n",
       "      <th>2</th>\n",
       "      <td>0.747319</td>\n",
       "      <td>0.472888</td>\n",
       "      <td>0.865201</td>\n",
       "    </tr>\n",
       "    <tr>\n",
       "      <th>3</th>\n",
       "      <td>0.890441</td>\n",
       "      <td>0.614171</td>\n",
       "      <td>0.942725</td>\n",
       "    </tr>\n",
       "    <tr>\n",
       "      <th>4</th>\n",
       "      <td>0.932423</td>\n",
       "      <td>0.723598</td>\n",
       "      <td>0.976155</td>\n",
       "    </tr>\n",
       "    <tr>\n",
       "      <th>5</th>\n",
       "      <td>0.958923</td>\n",
       "      <td>0.814668</td>\n",
       "      <td>0.989934</td>\n",
       "    </tr>\n",
       "    <tr>\n",
       "      <th>6</th>\n",
       "      <td>0.979353</td>\n",
       "      <td>0.883950</td>\n",
       "      <td>0.995426</td>\n",
       "    </tr>\n",
       "    <tr>\n",
       "      <th>7</th>\n",
       "      <td>0.990285</td>\n",
       "      <td>0.942428</td>\n",
       "      <td>0.998366</td>\n",
       "    </tr>\n",
       "    <tr>\n",
       "      <th>8</th>\n",
       "      <td>0.998683</td>\n",
       "      <td>0.983887</td>\n",
       "      <td>0.999913</td>\n",
       "    </tr>\n",
       "    <tr>\n",
       "      <th>9</th>\n",
       "      <td>1.000000</td>\n",
       "      <td>1.000000</td>\n",
       "      <td>1.000000</td>\n",
       "    </tr>\n",
       "    <tr>\n",
       "      <th>10</th>\n",
       "      <td>1.000000</td>\n",
       "      <td>1.000000</td>\n",
       "      <td>1.000000</td>\n",
       "    </tr>\n",
       "  </tbody>\n",
       "</table>\n",
       "</div>"
      ],
      "text/plain": [
       "    acceleration  acceleration+angles  cut-point\n",
       "1       0.427021             0.298421   0.602489\n",
       "2       0.747319             0.472888   0.865201\n",
       "3       0.890441             0.614171   0.942725\n",
       "4       0.932423             0.723598   0.976155\n",
       "5       0.958923             0.814668   0.989934\n",
       "6       0.979353             0.883950   0.995426\n",
       "7       0.990285             0.942428   0.998366\n",
       "8       0.998683             0.983887   0.999913\n",
       "9       1.000000             1.000000   1.000000\n",
       "10      1.000000             1.000000   1.000000"
      ]
     },
     "execution_count": 15,
     "metadata": {},
     "output_type": "execute_result"
    }
   ],
   "source": [
    "cumvars = pd.DataFrame({'acceleration': np.cumsum(pca_model1.explained_variance_ratio_),\n",
    "                        'acceleration+angles': np.cumsum(pca_model2.explained_variance_ratio_),\n",
    "              'cut-point': np.cumsum(pca_cutoff.explained_variance_ratio_)})\n",
    "cumvars.index = np.arange(1, 11)\n",
    "cumvars"
   ]
  },
  {
   "cell_type": "markdown",
   "metadata": {},
   "source": [
    "## Correlation"
   ]
  },
  {
   "cell_type": "code",
   "execution_count": 16,
   "metadata": {
    "collapsed": true
   },
   "outputs": [],
   "source": [
    "def get_pcolorplot(correlations, ax, cmap='coolwarm', vmin=-1, vmax=1, xlabels=None, ylabels=None):\n",
    "    ax.pcolor(correlations, cmap=cmap, vmin=vmin, vmax=vmax)\n",
    "    ax.set_yticks(np.arange(correlations.shape[0]) + 0.5, minor=False)\n",
    "    ax.set_xticks(np.arange(correlations.shape[1]) + 0.5, minor=False)\n",
    "    if xlabels is None:\n",
    "        xlabels = range(correlations.shape[0])\n",
    "    if ylabels is None:\n",
    "        ylabels2 = range(correlations.shape[1])\n",
    "    else:\n",
    "        ylabels2 = ylabels\n",
    "    ax.invert_yaxis()\n",
    "    ax.set_xticklabels(xlabels, minor=False)\n",
    "    ax.set_yticklabels(ylabels2, minor=False)"
   ]
  },
  {
   "cell_type": "code",
   "execution_count": 17,
   "metadata": {
    "collapsed": true
   },
   "outputs": [],
   "source": [
    "cor_model1 = np.corrcoef(X_model1.transpose())\n",
    "cor_model2 = np.corrcoef(X_model2.transpose())\n",
    "cor_cutoff = np.corrcoef(X_cutoff.transpose())"
   ]
  },
  {
   "cell_type": "code",
   "execution_count": 18,
   "metadata": {
    "collapsed": false
   },
   "outputs": [
    {
     "data": {
      "text/plain": [
       "<matplotlib.text.Text at 0x7f539501da90>"
      ]
     },
     "execution_count": 18,
     "metadata": {},
     "output_type": "execute_result"
    },
    {
     "data": {
      "image/png": "[encoded data removed]",
      "text/plain": [
       "<matplotlib.figure.Figure at 0x7f5395225450>"
      ]
     },
     "metadata": {},
     "output_type": "display_data"
    }
   ],
   "source": [
    "fig, axes = plt.subplots(2,3, figsize=(15,10))\n",
    "get_pcolorplot(cor_cutoff, axes[0,0])\n",
    "get_pcolorplot(cor_model1, axes[0,1])\n",
    "get_pcolorplot(cor_model2, axes[0,2])\n",
    "get_pcolorplot(np.abs(cor_cutoff), axes[1,0], plt.cm.Greys, 0, 1)\n",
    "get_pcolorplot(np.abs(cor_model1), axes[1,1], plt.cm.Greys, 0, 1)\n",
    "get_pcolorplot(np.abs(cor_model2), axes[1,2], plt.cm.Greys, 0, 1)\n",
    "\n",
    "axes[0,0].set_title('cut-point')\n",
    "axes[0,1].set_title('acceleration')\n",
    "axes[0,2].set_title('acceleration+angles')"
   ]
  },
  {
   "cell_type": "code",
   "execution_count": 31,
   "metadata": {
    "collapsed": false
   },
   "outputs": [
    {
     "name": "stdout",
     "output_type": "stream",
     "text": [
      "45\n",
      "cutoff: 0.27±0.24\n",
      "acceleration: 0.25±0.18\n",
      "acceleration+angles: 0.20±0.13\n"
     ]
    }
   ],
   "source": [
    "mask = np.triu(np.ones(cor_cutoff.shape, dtype=bool), 1)\n",
    "cor_cutoff_values = cor_cutoff[mask]\n",
    "cor_model1_values = cor_model1[mask]\n",
    "cor_model2_values = cor_model2[mask]\n",
    "\n",
    "print(len(cor_cutoff_values))\n",
    "print('cutoff: {:.2f}±{:.2f}'.format(np.mean(np.abs(cor_cutoff_values)), np.std(np.abs(cor_cutoff_values))))\n",
    "print('acceleration: {:.2f}±{:.2f}'.format(np.mean(np.abs(cor_model1_values)), np.std(np.abs(cor_model1_values))))\n",
    "print('acceleration+angles: {:.2f}±{:.2f}'.format(np.mean(np.abs(cor_model2_values)), np.std(np.abs(cor_model2_values))))"
   ]
  },
  {
   "cell_type": "code",
   "execution_count": 32,
   "metadata": {
    "collapsed": false
   },
   "outputs": [
    {
     "name": "stdout",
     "output_type": "stream",
     "text": [
      "cutoff: 8\n",
      "acceleration: 6\n",
      "acceleration+angles: 1\n"
     ]
    }
   ],
   "source": [
    "print('cutoff: {}'.format(sum(np.abs(cor_cutoff_values)>.5)))\n",
    "print('acceleration: {}'.format(sum(np.abs(cor_model1_values)>.5)))\n",
    "print('acceleration+angles: {}'.format(sum(np.abs(cor_model2_values)>.5)))"
   ]
  },
  {
   "cell_type": "code",
   "execution_count": null,
   "metadata": {
    "collapsed": true
   },
   "outputs": [],
   "source": []
  }
 ],
 "metadata": {
  "anaconda-cloud": {},
  "kernelspec": {
   "display_name": "Python [conda env:ucl2]",
   "language": "python",
   "name": "conda-env-ucl2-py"
  },
  "language_info": {
   "codemirror_mode": {
    "name": "ipython",
    "version": 2
   },
   "file_extension": ".py",
   "mimetype": "text/x-python",
   "name": "python",
   "nbconvert_exporter": "python",
   "pygments_lexer": "ipython2",
   "version": "2.7.12"
  }
 },
 "nbformat": 4,
 "nbformat_minor": 0
}
