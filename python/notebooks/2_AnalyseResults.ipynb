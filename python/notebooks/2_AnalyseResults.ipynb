{
 "cells": [
  {
   "cell_type": "code",
   "execution_count": 1,
   "metadata": {
    "collapsed": false
   },
   "outputs": [],
   "source": [
    "%matplotlib inline\n",
    "%load_ext autoreload\n",
    "%autoreload 2"
   ]
  },
  {
   "cell_type": "code",
   "execution_count": 2,
   "metadata": {
    "collapsed": false
   },
   "outputs": [],
   "source": [
    "import pandas as pd\n",
    "from __future__ import print_function\n",
    "\n",
    "import numpy as np\n",
    "import matplotlib.pyplot as plt\n",
    "import scipy"
   ]
  },
  {
   "cell_type": "code",
   "execution_count": 3,
   "metadata": {
    "collapsed": false
   },
   "outputs": [],
   "source": [
    "import sys\n",
    "import os\n",
    "sys.path.insert(0, os.path.abspath('..'))\n",
    "from UKMovementSensing import hsmm\n",
    "from milleniumcohort import create_config"
   ]
  },
  {
   "cell_type": "code",
   "execution_count": 4,
   "metadata": {
    "collapsed": false
   },
   "outputs": [],
   "source": [
    "config = create_config('../config.yml')\n",
    "config.create_data_paths()"
   ]
  },
  {
   "cell_type": "code",
   "execution_count": 5,
   "metadata": {
    "collapsed": false
   },
   "outputs": [],
   "source": [
    "import sqlite3\n",
    "conn = sqlite3.connect(os.path.join(config.model_path, 'milleniumcohort.db'))"
   ]
  },
  {
   "cell_type": "markdown",
   "metadata": {},
   "source": [
    "## Load data in database"
   ]
  },
  {
   "cell_type": "code",
   "execution_count": 6,
   "metadata": {
    "collapsed": false
   },
   "outputs": [
    {
     "data": {
      "text/plain": [
       "'/media/sf_VBox_Shared/London/london_data_19Mei2017/results/mod_4st_0b_15r_720t_acceleration_anglex_angley_anglez'"
      ]
     },
     "execution_count": 6,
     "metadata": {},
     "output_type": "execute_result"
    }
   ],
   "source": [
    "config.model_path"
   ]
  },
  {
   "cell_type": "code",
   "execution_count": 7,
   "metadata": {
    "collapsed": true
   },
   "outputs": [],
   "source": [
    "# Import data with states\n",
    "filenames = os.listdir(config.states_path)\n",
    "filenames = [fn for fn in filenames if os.path.isfile(os.path.join(config.states_path,fn))]"
   ]
  },
  {
   "cell_type": "code",
   "execution_count": null,
   "metadata": {
    "collapsed": false
   },
   "outputs": [],
   "source": [
    "# Only do this if database is not filled yet!\n",
    "fill_again = False\n",
    "if(fill_again):\n",
    "    c = conn.cursor()\n",
    "    c.execute('drop table if exists data_with_states')\n",
    "    for fn in filenames:\n",
    "        dataset = pd.read_csv(os.path.join(config.states_path,fn), encoding='utf-8', index_col='timestamp', parse_dates=True)\n",
    "        dataset.to_sql('data_with_states', conn, if_exists='append')\n"
   ]
  },
  {
   "cell_type": "code",
   "execution_count": null,
   "metadata": {
    "collapsed": false
   },
   "outputs": [],
   "source": [
    "pd.read_sql('Select * from data_with_states limit 50', conn)"
   ]
  },
  {
   "cell_type": "code",
   "execution_count": null,
   "metadata": {
    "collapsed": false
   },
   "outputs": [],
   "source": [
    "pd.read_sql('Select count(distinct filename), count(*) from data_with_states', conn)"
   ]
  },
  {
   "cell_type": "code",
   "execution_count": null,
   "metadata": {
    "collapsed": false
   },
   "outputs": [],
   "source": [
    "pd.read_sql('pragma table_info(data_with_states)', conn)"
   ]
  },
  {
   "cell_type": "markdown",
   "metadata": {},
   "source": [
    "## Preperation"
   ]
  },
  {
   "cell_type": "code",
   "execution_count": null,
   "metadata": {
    "collapsed": false
   },
   "outputs": [],
   "source": [
    "states = pd.read_sql('Select distinct state from data_with_states', conn)"
   ]
  },
  {
   "cell_type": "code",
   "execution_count": null,
   "metadata": {
    "collapsed": false
   },
   "outputs": [],
   "source": [
    "len(states)"
   ]
  },
  {
   "cell_type": "code",
   "execution_count": null,
   "metadata": {
    "collapsed": false
   },
   "outputs": [],
   "source": [
    "#Define consistent colormap\n",
    "from matplotlib.colors import LinearSegmentedColormap\n",
    "# One more than the number of states, so we have a color for 'All'\n",
    "nr_states = len(states)\n",
    "colormap, cmap = hsmm.get_color_map(nr_states+1)\n",
    "cmap_states = LinearSegmentedColormap.from_list('name',\n",
    "                                             [colormap[i] for i in range(nr_states)],\n",
    "                                             nr_states)"
   ]
  },
  {
   "cell_type": "code",
   "execution_count": null,
   "metadata": {
    "collapsed": false
   },
   "outputs": [],
   "source": [
    "# Load simplified activities map\n",
    "activities_simplified = pd.read_csv(config.activities_simplified_path, header=0, sep=',', dtype=str, encoding='utf-8')\n",
    "levelmap = {'0': \"low\", '1': \"high\", '2':\"mixed\"}\n",
    "def get_category_des(motion, arm_changes):\n",
    "    return levelmap[motion]+\" motion, \" + levelmap[arm_changes] + \" arm changes\"\n",
    "activities_simplified['simplified_category'] = [get_category_des(row[1], row[2]) for row in activities_simplified.get_values()]\n",
    "activities_simplified.to_sql('activities_simplified', conn)"
   ]
  },
  {
   "cell_type": "code",
   "execution_count": 8,
   "metadata": {
    "collapsed": false
   },
   "outputs": [],
   "source": [
    "\n",
    "heuristic_classes = ['1 - no activity',  #1\n",
    "                     '2 - inactivity', #2\n",
    "                     '3 - light activity', #3 \n",
    "                     '4 - vigorous activity', #4\n",
    "                    '5 - MVPA at least 10 min', #5\n",
    "                    '6 - MVPA 1-10 min', #6\n",
    "                    '7 - inactivity at least 30min'] #7 \n",
    "get_heuristic = lambda i: heuristic_classes[int(i)-1]"
   ]
  },
  {
   "cell_type": "markdown",
   "metadata": {},
   "source": [
    "## Get subjects with >20 hour data"
   ]
  },
  {
   "cell_type": "code",
   "execution_count": null,
   "metadata": {
    "collapsed": true
   },
   "outputs": [],
   "source": [
    "timecounts = pd.read_sql('Select filename, count(*) from data_with_states group by filename', conn)"
   ]
  },
  {
   "cell_type": "code",
   "execution_count": null,
   "metadata": {
    "collapsed": false
   },
   "outputs": [],
   "source": [
    "timecounts = timecounts.set_index('filename')\n",
    "timecounts.columns = ['cnt_5sec']\n",
    "timecounts['cnt_hours'] = timecounts['cnt_5sec'] / (12.0 * 60)"
   ]
  },
  {
   "cell_type": "code",
   "execution_count": null,
   "metadata": {
    "collapsed": false
   },
   "outputs": [],
   "source": [
    "timecounts.to_sql('timecounts', conn)"
   ]
  },
  {
   "cell_type": "code",
   "execution_count": null,
   "metadata": {
    "collapsed": false
   },
   "outputs": [],
   "source": [
    "longdays = timecounts[timecounts['cnt_hours']>=24].index\n",
    "longdays.shape"
   ]
  },
  {
   "cell_type": "markdown",
   "metadata": {},
   "source": [
    "## Calculate per-state statistics"
   ]
  },
  {
   "cell_type": "code",
   "execution_count": null,
   "metadata": {
    "collapsed": false
   },
   "outputs": [],
   "source": [
    "numerical_columns = ['acceleration','EN',\n",
    "        'anglex','angley',u'anglez',u'roll_med_acc_x',u'roll_med_acc_y',\n",
    "        u'roll_med_acc_z',u'dev_roll_med_acc_x',\n",
    "             u'dev_roll_med_acc_y',u'dev_roll_med_acc_z']\n",
    "query = '''Select state, ''' +  ','.join(['avg({})'.format(co) for co in numerical_columns]) + '''\n",
    "from data_with_states group by state'''\n",
    "\n",
    "avg_bystate = pd.read_sql(query, conn)"
   ]
  },
  {
   "cell_type": "code",
   "execution_count": null,
   "metadata": {
    "collapsed": false
   },
   "outputs": [],
   "source": [
    "avg_bystate = avg_bystate.set_index('state').transpose()\n",
    "avg_bystate.index = numerical_columns"
   ]
  },
  {
   "cell_type": "code",
   "execution_count": null,
   "metadata": {
    "collapsed": false
   },
   "outputs": [],
   "source": [
    "means = avg_bystate.loc[config.hsmmconfig.column_names]\n",
    "means.style.background_gradient(cmap='coolwarm',axis=1)"
   ]
  },
  {
   "cell_type": "code",
   "execution_count": null,
   "metadata": {
    "collapsed": false,
    "scrolled": true
   },
   "outputs": [],
   "source": [
    "avg_bystate.style.background_gradient(cmap='coolwarm',axis=1)"
   ]
  },
  {
   "cell_type": "code",
   "execution_count": 9,
   "metadata": {
    "collapsed": true
   },
   "outputs": [],
   "source": [
    "#Create random sample to do calculations on\n",
    "sample = pd.read_sql(\n",
    "    '''select state, heuristic, acceleration, anglex, angley, anglez\n",
    "        from data_with_states\n",
    "        where abs(random()%1) < 0.1 \n",
    "    ''', conn)"
   ]
  },
  {
   "cell_type": "code",
   "execution_count": 10,
   "metadata": {
    "collapsed": false
   },
   "outputs": [
    {
     "data": {
      "text/plain": [
       "(24278040, 6)"
      ]
     },
     "execution_count": 10,
     "metadata": {},
     "output_type": "execute_result"
    }
   ],
   "source": [
    "sample.shape"
   ]
  },
  {
   "cell_type": "code",
   "execution_count": 11,
   "metadata": {
    "collapsed": true
   },
   "outputs": [],
   "source": [
    "sample['cut-off'] = [get_heuristic(i) for i in sample['heuristic']]"
   ]
  },
  {
   "cell_type": "code",
   "execution_count": 12,
   "metadata": {
    "collapsed": false
   },
   "outputs": [
    {
     "name": "stderr",
     "output_type": "stream",
     "text": [
      "/home/dafne/anaconda2/envs/ucl2/lib/python2.7/site-packages/pandas/core/frame.py:5945: UserWarning: When passing multiple axes, sharex and sharey are ignored. These settings must be specified when creating axes\n",
      "  return_type=return_type, **kwds)\n"
     ]
    },
    {
     "data": {
      "image/png": "[encoded data removed]",
      "text/plain": [
       "<matplotlib.figure.Figure at 0x7f4d6b0bb450>"
      ]
     },
     "metadata": {},
     "output_type": "display_data"
    }
   ],
   "source": [
    "cols = ['acceleration', 'anglex', 'angley', 'anglez']\n",
    "fig, axes = plt.subplots(len(cols), 2, figsize=(15, 20))\n",
    "plt.subplots_adjust(hspace=1)\n",
    "fig.set_label('')\n",
    "sample.boxplot(by='state', column=cols, ax=axes[:,0])\n",
    "sample.boxplot(by='cut-off', column=cols, ax=axes[:, 1], rot=45)\n",
    "ymax_acc = 0.5\n",
    "axes[0, 0].set_ylim(0, ymax_acc)\n",
    "axes[0, 1].set_ylim(0, ymax_acc)\n",
    "plt.savefig(os.path.join(config.image_path, 'boxplots.png'))"
   ]
  },
  {
   "cell_type": "markdown",
   "metadata": {},
   "source": [
    "## Get sojourn times"
   ]
  },
  {
   "cell_type": "code",
   "execution_count": null,
   "metadata": {
    "collapsed": true
   },
   "outputs": [],
   "source": [
    "data_sc = pd.read_sql('''select filename, subset, state, heuristic from data_with_states''', conn) "
   ]
  },
  {
   "cell_type": "code",
   "execution_count": null,
   "metadata": {
    "collapsed": false
   },
   "outputs": [],
   "source": [
    "data_sc['fn_s'] = data_sc['subset'].astype('str') + data_sc['filename']"
   ]
  },
  {
   "cell_type": "code",
   "execution_count": null,
   "metadata": {
    "collapsed": true
   },
   "outputs": [],
   "source": [
    "def sojourn_times(df, colname):\n",
    "    changepoints = (df[colname].shift(1) != df[colname]) | (df.fn_s.shift(1) != df.fn_s)\n",
    "    df['block'] = changepoints.astype(int).cumsum()\n",
    "    sojourn_times = df.groupby([colname, 'block'])['fn_s'].count()\n",
    "    sojourn_times = sojourn_times.reset_index()[[colname, 'fn_s']]\n",
    "    sojourn_times.columns = [colname, 'time']\n",
    "    df.drop('block', 1)\n",
    "    return sojourn_times"
   ]
  },
  {
   "cell_type": "code",
   "execution_count": null,
   "metadata": {
    "collapsed": true
   },
   "outputs": [],
   "source": [
    "sojourn_times_state = sojourn_times(data_sc, 'state')"
   ]
  },
  {
   "cell_type": "code",
   "execution_count": null,
   "metadata": {
    "collapsed": false
   },
   "outputs": [],
   "source": [
    "sojourn_times_cutoff = sojourn_times(data_sc, 'heuristic')"
   ]
  },
  {
   "cell_type": "code",
   "execution_count": null,
   "metadata": {
    "collapsed": true
   },
   "outputs": [],
   "source": [
    "sojourn_times_state['time_sec'] = sojourn_times_state['time']*5\n",
    "sojourn_times_cutoff['time_sec'] = sojourn_times_cutoff['time']*5\n",
    "sojourn_times_state['time_min'] = sojourn_times_state['time']/12.0\n",
    "sojourn_times_cutoff['time_min'] = sojourn_times_cutoff['time']/12.0"
   ]
  },
  {
   "cell_type": "code",
   "execution_count": null,
   "metadata": {
    "collapsed": false
   },
   "outputs": [],
   "source": [
    "sojourn_times_cutoff['cut-off'] = [get_heuristic(i) for i in sojourn_times_cutoff['heuristic']]"
   ]
  },
  {
   "cell_type": "code",
   "execution_count": null,
   "metadata": {
    "collapsed": false
   },
   "outputs": [],
   "source": [
    "sojourn_times_cutoff.head()"
   ]
  },
  {
   "cell_type": "code",
   "execution_count": null,
   "metadata": {
    "collapsed": false
   },
   "outputs": [],
   "source": [
    "s_grouped = sojourn_times_state.groupby('state')['time_sec']\n",
    "pd.concat((s_grouped.mean(), s_grouped.std(), s_grouped.max()), axis=1, keys=['mean', 'sigma', 'max'])"
   ]
  },
  {
   "cell_type": "code",
   "execution_count": null,
   "metadata": {
    "collapsed": false
   },
   "outputs": [],
   "source": [
    "from matplotlib.ticker import FormatStrFormatter\n",
    "fig, axes = plt.subplots(1, 2, sharey=True, figsize=(15, 5))\n",
    "fig.set_label('')\n",
    "ymax = 60*60\n",
    "sojourn_times_state.boxplot(by='state', column='time_sec', ax=axes[0])\n",
    "axes[0].set_ylim(top=ymax)\n",
    "axes[0].yaxis.set_major_formatter(FormatStrFormatter('%d sec'))\n",
    "axes[0].set_title('sojourn time per state')\n",
    "sojourn_times_cutoff.boxplot(by='cut-off', column='time_sec', ax=axes[1], rot=45)\n",
    "axes[1].set_ylim(top=ymax)\n",
    "axes[1].set_title('sojourn time per cut-off category')\n",
    "plt.savefig(os.path.join(config.image_path, 'sojourn.png'))\n",
    "#plt.show()"
   ]
  },
  {
   "cell_type": "markdown",
   "metadata": {},
   "source": [
    "## Cross table activity - state"
   ]
  },
  {
   "cell_type": "markdown",
   "metadata": {},
   "source": [
    "Let's compare the states with the known activities. First we have look at how many 5-seconds frame we have for each state/activity, and we sort from largest to smallest"
   ]
  },
  {
   "cell_type": "code",
   "execution_count": null,
   "metadata": {
    "collapsed": true
   },
   "outputs": [],
   "source": [
    "ctab_long = pd.read_sql('''select label, state, count(*) from data_with_states group by label, state''', conn) "
   ]
  },
  {
   "cell_type": "code",
   "execution_count": null,
   "metadata": {
    "collapsed": false
   },
   "outputs": [],
   "source": [
    "ctab = ctab_long.pivot(index='label', columns='state', values='count(*)')"
   ]
  },
  {
   "cell_type": "code",
   "execution_count": null,
   "metadata": {
    "collapsed": false
   },
   "outputs": [],
   "source": [
    "activities_simplified"
   ]
  },
  {
   "cell_type": "code",
   "execution_count": null,
   "metadata": {
    "collapsed": false
   },
   "outputs": [],
   "source": [
    "ctab_merged = ctab_long.merge(activities_simplified, left_on='label', right_on='Label')\n",
    "ctab_simplified_long = ctab_merged.groupby(['simplified_category', 'state'])[['count(*)']].sum()\n",
    "ctab_simplified = ctab_simplified_long.reset_index().pivot(index='simplified_category', columns='state', values='count(*)')"
   ]
  },
  {
   "cell_type": "code",
   "execution_count": null,
   "metadata": {
    "collapsed": false
   },
   "outputs": [],
   "source": [
    "ctab_simplified"
   ]
  },
  {
   "cell_type": "code",
   "execution_count": null,
   "metadata": {
    "collapsed": false
   },
   "outputs": [],
   "source": [
    "from __future__ import unicode_literals\n",
    "fig, ax = plt.subplots(figsize=(15,30))\n",
    "\n",
    "states = ctab.columns\n",
    "acts = ctab.index\n",
    "\n",
    "n_groups = len(acts)\n",
    "index = len(states)*np.arange(n_groups)\n",
    "bar_width = 1./len(states)*3\n",
    "colors = colormap\n",
    "\n",
    "#Draw all states, but don't draw All\n",
    "for i in range(len(states)):\n",
    "    rects1 = plt.barh(index + i*bar_width, \n",
    "                     ctab[states[i]], \n",
    "                     bar_width,\n",
    "                     color=colors[i],\n",
    "                     label=states[i])\n",
    "\n",
    "plt.yticks(index + bar_width, ctab.index, fontsize=15)\n",
    "plt.legend()\n",
    "\n",
    "#Set maximum to something reasonable, namely the maximum of not-all\n",
    "#ax.set_xlim(0, ctab[states[-1]][acts[1]])\n",
    "plt.show()"
   ]
  },
  {
   "cell_type": "code",
   "execution_count": null,
   "metadata": {
    "collapsed": false
   },
   "outputs": [],
   "source": [
    "#Now normalize over the activity and sort by total number\n",
    "ctab_norm1 = ctab_simplified.copy()\n",
    "ctab_norm1.loc['All',:] = ctab_norm1.sum()\n",
    "ctab_norm1 = ctab_norm1.divide(ctab_norm1.sum(axis=1), axis='index')"
   ]
  },
  {
   "cell_type": "code",
   "execution_count": null,
   "metadata": {
    "collapsed": false
   },
   "outputs": [],
   "source": [
    "ctab_norm1.style.background_gradient(cmap='BuGn',axis=1)"
   ]
  },
  {
   "cell_type": "code",
   "execution_count": null,
   "metadata": {
    "collapsed": true
   },
   "outputs": [],
   "source": [
    "ctab_norm1.to_clipboard()"
   ]
  },
  {
   "cell_type": "code",
   "execution_count": null,
   "metadata": {
    "collapsed": false
   },
   "outputs": [],
   "source": [
    "ctab_norm2 = ctab_simplified.copy()\n",
    "ctab_norm2['All'] = ctab_norm2.sum(axis=1)\n",
    "ctab_norm2.divide(ctab_norm2.sum(axis=0), axis='columns')"
   ]
  },
  {
   "cell_type": "code",
   "execution_count": null,
   "metadata": {
    "collapsed": false
   },
   "outputs": [],
   "source": [
    "#Now normalize over state and sort by total number\n",
    "#ind = list(ctab.index)\n",
    "ctab_norm2 = ctab_simplified.copy()\n",
    "ctab_norm2.loc['All'] = ctab_norm2.sum(axis=0)\n",
    "ctab_norm2 = ctab_norm2.divide(ctab_norm2.sum(axis=1), axis='rows')"
   ]
  },
  {
   "cell_type": "code",
   "execution_count": null,
   "metadata": {
    "collapsed": false
   },
   "outputs": [],
   "source": [
    "ctab_norm2.style.background_gradient(cmap='BuGn',axis=0)"
   ]
  },
  {
   "cell_type": "markdown",
   "metadata": {},
   "source": [
    "Check if there is a significant correlation between the states and the activities:"
   ]
  },
  {
   "cell_type": "code",
   "execution_count": null,
   "metadata": {
    "collapsed": false
   },
   "outputs": [],
   "source": [
    "ctab['All'] = ctab.sum(axis=1)\n",
    "ctab = ctab.sort_values('All', ascending=False)"
   ]
  },
  {
   "cell_type": "code",
   "execution_count": null,
   "metadata": {
    "collapsed": false
   },
   "outputs": [],
   "source": [
    "topactivities = 10 # take most frequent activities\n",
    "counts = ctab.as_matrix()[1:1+topactivities,:-1]\n",
    "chi2, p, dof, expected = scipy.stats.chi2_contingency(counts)\n",
    "\n",
    "print(chi2, p)"
   ]
  },
  {
   "cell_type": "code",
   "execution_count": null,
   "metadata": {
    "collapsed": false
   },
   "outputs": [],
   "source": [
    "ctab.head(10)"
   ]
  },
  {
   "cell_type": "code",
   "execution_count": null,
   "metadata": {
    "collapsed": false
   },
   "outputs": [],
   "source": [
    "# Only easy interpreted activities\n",
    "activities = ['Sleeping and resting (including sick in bed)', 'Jogging, running, walking, hiking']\n",
    "ctab[[a in activities for a in ctab.index]]"
   ]
  },
  {
   "cell_type": "markdown",
   "metadata": {},
   "source": [
    "## Compare with heuristic"
   ]
  },
  {
   "cell_type": "code",
   "execution_count": null,
   "metadata": {
    "collapsed": true
   },
   "outputs": [],
   "source": [
    "ctab_heuristic_long = pd.read_sql('''select heuristic, state, count(*) from data_with_states group by heuristic, state''', conn)"
   ]
  },
  {
   "cell_type": "code",
   "execution_count": null,
   "metadata": {
    "collapsed": false
   },
   "outputs": [],
   "source": [
    "ctab_heuristic = ctab_heuristic_long.pivot(index='heuristic', columns='state', values='count(*)').fillna(0)"
   ]
  },
  {
   "cell_type": "code",
   "execution_count": null,
   "metadata": {
    "collapsed": false
   },
   "outputs": [],
   "source": [
    "ctab_heuristic.index = [get_heuristic(i) for i in ctab_heuristic.index]"
   ]
  },
  {
   "cell_type": "code",
   "execution_count": null,
   "metadata": {
    "collapsed": false
   },
   "outputs": [],
   "source": [
    "ctab_heuristic_norm = ctab_heuristic.divide(ctab_heuristic.sum(axis=0), axis=1)\n",
    "ctab_heuristic_norm.style.background_gradient(cmap='BuGn',axis=0)"
   ]
  },
  {
   "cell_type": "code",
   "execution_count": null,
   "metadata": {
    "collapsed": false
   },
   "outputs": [],
   "source": [
    "ctab_heuristic_norm = ctab_heuristic.divide(ctab_heuristic.sum(axis=1), axis=0)\n",
    "ctab_heuristic_norm.style.background_gradient(cmap='BuGn',axis=1)"
   ]
  },
  {
   "cell_type": "markdown",
   "metadata": {},
   "source": [
    "## Heuristic vs states, per person"
   ]
  },
  {
   "cell_type": "code",
   "execution_count": null,
   "metadata": {
    "collapsed": false
   },
   "outputs": [],
   "source": [
    "heuristic_states = pd.read_sql('''select d.filename, d.state, d.heuristic, count(*)\n",
    "                from data_with_states d\n",
    "                join timecounts t\n",
    "                on t.filename = d.filename\n",
    "                where t.cnt_hours > 20\n",
    "                group by d.filename, d.state, d.heuristic;''', \n",
    "                               conn)"
   ]
  },
  {
   "cell_type": "code",
   "execution_count": null,
   "metadata": {
    "collapsed": false
   },
   "outputs": [],
   "source": [
    "nr_subjects = len(heuristic_states['filename'].unique())\n",
    "ctab = heuristic_states.groupby(['state', 'heuristic'])['count(*)'].sum()\n",
    "ctab = ctab / nr_subjects\n",
    "ctab = ctab.unstack(level=-1)\n",
    "ctab = ctab.fillna(0)\n",
    "ctab['total'] = heuristic_states.groupby(['state'])['count(*)'].sum() / nr_subjects\n",
    "ctab.loc['total',] = ctab.sum(axis=0) \n",
    "ctab.applymap(lambda c: float(c)/nr_subjects)\n",
    "ctab = ctab.applymap(lambda c: '{:.0f} min'.format(c/12.0))\n",
    "ctab.columns = [get_heuristic(i) for i in ctab.columns[:-1]] + ['total']"
   ]
  },
  {
   "cell_type": "code",
   "execution_count": null,
   "metadata": {
    "collapsed": false
   },
   "outputs": [],
   "source": [
    "ctab"
   ]
  },
  {
   "cell_type": "markdown",
   "metadata": {},
   "source": [
    "## Distributions for the heuristic levels"
   ]
  },
  {
   "cell_type": "markdown",
   "metadata": {},
   "source": [
    "## States for an example sequence"
   ]
  },
  {
   "cell_type": "code",
   "execution_count": null,
   "metadata": {
    "collapsed": true
   },
   "outputs": [],
   "source": [
    "example_index = 674"
   ]
  },
  {
   "cell_type": "code",
   "execution_count": null,
   "metadata": {
    "collapsed": false
   },
   "outputs": [],
   "source": [
    "fn = filenames[example_index]\n",
    "data = pd.read_csv(os.path.join(config.states_path,fn), encoding='utf-8', index_col='timestamp', parse_dates=True)\n",
    "data.head()"
   ]
  },
  {
   "cell_type": "code",
   "execution_count": null,
   "metadata": {
    "collapsed": false
   },
   "outputs": [],
   "source": [
    "hidden_states = data['state']"
   ]
  },
  {
   "cell_type": "code",
   "execution_count": null,
   "metadata": {
    "collapsed": false,
    "scrolled": true
   },
   "outputs": [],
   "source": [
    "hsmm.plot_states_and_var(data, hidden_states, columns=['acceleration',], by='activity', cmap=cmap_states);\n",
    "#plt.show()"
   ]
  },
  {
   "cell_type": "code",
   "execution_count": null,
   "metadata": {
    "collapsed": false,
    "scrolled": false
   },
   "outputs": [],
   "source": [
    "start =int(6*12*60)\n",
    "end = 8*12*60\n",
    "print(data[start:end].shape)\n",
    "fig, ax = hsmm.plot_states_and_var(data[start:end], hidden_states[start:end], cmap=cmap_states, columns=['acceleration'], by=None)\n",
    "ax.set_title('acceleration')"
   ]
  },
  {
   "cell_type": "code",
   "execution_count": null,
   "metadata": {
    "collapsed": false
   },
   "outputs": [],
   "source": [
    "start =int(8*12*60)\n",
    "end = 9*12*60\n",
    "hsmm.plot_states_and_var(data[start:end], hidden_states[start:end], cmap=cmap_states, columns=['acceleration'], by='activity')"
   ]
  },
  {
   "cell_type": "code",
   "execution_count": null,
   "metadata": {
    "collapsed": false,
    "scrolled": false
   },
   "outputs": [],
   "source": [
    "hsmm.plot_states_and_var(data[start:end], hidden_states[start:end], cmap=cmap_states, columns=['anglex', 'angley', 'anglez'], by='activity')"
   ]
  },
  {
   "cell_type": "code",
   "execution_count": null,
   "metadata": {
    "collapsed": true
   },
   "outputs": [],
   "source": []
  }
 ],
 "metadata": {
  "anaconda-cloud": {},
  "kernelspec": {
   "display_name": "Python [conda env:ucl2]",
   "language": "python",
   "name": "conda-env-ucl2-py"
  },
  "language_info": {
   "codemirror_mode": {
    "name": "ipython",
    "version": 2
   },
   "file_extension": ".py",
   "mimetype": "text/x-python",
   "name": "python",
   "nbconvert_exporter": "python",
   "pygments_lexer": "ipython2",
   "version": "2.7.12"
  }
 },
 "nbformat": 4,
 "nbformat_minor": 0
}
