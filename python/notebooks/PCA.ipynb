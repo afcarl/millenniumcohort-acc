{
 "cells": [
  {
   "cell_type": "code",
   "execution_count": 1,
   "metadata": {
    "collapsed": true
   },
   "outputs": [],
   "source": [
    "%matplotlib inline"
   ]
  },
  {
   "cell_type": "code",
   "execution_count": 2,
   "metadata": {
    "collapsed": true
   },
   "outputs": [],
   "source": [
    "import sqlite3\n",
    "import os\n",
    "import pandas as pd\n",
    "import matplotlib.pyplot as plt\n",
    "import numpy as np"
   ]
  },
  {
   "cell_type": "code",
   "execution_count": 3,
   "metadata": {
    "collapsed": false
   },
   "outputs": [],
   "source": [
    "import sys\n",
    "sys.path.insert(0, os.path.abspath('..'))\n",
    "from milleniumcohort import create_config\n",
    "config = create_config('../config.yml')"
   ]
  },
  {
   "cell_type": "code",
   "execution_count": 4,
   "metadata": {
    "collapsed": false
   },
   "outputs": [],
   "source": [
    "conn = sqlite3.connect(os.path.join(config.model_path, 'milleniumcohort.db'))"
   ]
  },
  {
   "cell_type": "code",
   "execution_count": 5,
   "metadata": {
    "collapsed": false
   },
   "outputs": [],
   "source": [
    "state_times_long = pd.read_sql('Select filename, state, count(*) from data_with_states group by filename, state', conn)\n",
    "state_times = state_times_long.pivot('filename', 'state')"
   ]
  },
  {
   "cell_type": "code",
   "execution_count": 6,
   "metadata": {
    "collapsed": true
   },
   "outputs": [],
   "source": [
    "cutoff_times_long = pd.read_sql('Select filename, heuristic, count(*) from data_with_states group by filename, heuristic', conn)\n",
    "cutoff_times = cutoff_times_long.pivot('filename', 'heuristic')"
   ]
  },
  {
   "cell_type": "code",
   "execution_count": 7,
   "metadata": {
    "collapsed": true
   },
   "outputs": [],
   "source": [
    "state_cutoff_times_long = pd.read_sql('Select filename, heuristic, state, count(*) from data_with_states group by filename, heuristic, state', conn)"
   ]
  },
  {
   "cell_type": "code",
   "execution_count": 8,
   "metadata": {
    "collapsed": false
   },
   "outputs": [
    {
     "data": {
      "text/html": [
       "<div>\n",
       "<table border=\"1\" class=\"dataframe\">\n",
       "  <thead>\n",
       "    <tr style=\"text-align: right;\">\n",
       "      <th></th>\n",
       "      <th>filename</th>\n",
       "      <th>heuristic</th>\n",
       "      <th>state</th>\n",
       "      <th>count(*)</th>\n",
       "    </tr>\n",
       "  </thead>\n",
       "  <tbody>\n",
       "    <tr>\n",
       "      <th>0</th>\n",
       "      <td>__016563_2015-10-27 09-40-29.bin_day1.csv</td>\n",
       "      <td>1</td>\n",
       "      <td>5</td>\n",
       "      <td>3110</td>\n",
       "    </tr>\n",
       "    <tr>\n",
       "      <th>1</th>\n",
       "      <td>__016563_2015-10-27 09-40-29.bin_day1.csv</td>\n",
       "      <td>1</td>\n",
       "      <td>6</td>\n",
       "      <td>3</td>\n",
       "    </tr>\n",
       "    <tr>\n",
       "      <th>2</th>\n",
       "      <td>__016563_2015-10-27 09-40-29.bin_day1.csv</td>\n",
       "      <td>1</td>\n",
       "      <td>7</td>\n",
       "      <td>13</td>\n",
       "    </tr>\n",
       "    <tr>\n",
       "      <th>3</th>\n",
       "      <td>__016563_2015-10-27 09-40-29.bin_day1.csv</td>\n",
       "      <td>2</td>\n",
       "      <td>0</td>\n",
       "      <td>178</td>\n",
       "    </tr>\n",
       "    <tr>\n",
       "      <th>4</th>\n",
       "      <td>__016563_2015-10-27 09-40-29.bin_day1.csv</td>\n",
       "      <td>2</td>\n",
       "      <td>1</td>\n",
       "      <td>8</td>\n",
       "    </tr>\n",
       "  </tbody>\n",
       "</table>\n",
       "</div>"
      ],
      "text/plain": [
       "                                    filename  heuristic  state  count(*)\n",
       "0  __016563_2015-10-27 09-40-29.bin_day1.csv          1      5      3110\n",
       "1  __016563_2015-10-27 09-40-29.bin_day1.csv          1      6         3\n",
       "2  __016563_2015-10-27 09-40-29.bin_day1.csv          1      7        13\n",
       "3  __016563_2015-10-27 09-40-29.bin_day1.csv          2      0       178\n",
       "4  __016563_2015-10-27 09-40-29.bin_day1.csv          2      1         8"
      ]
     },
     "execution_count": 8,
     "metadata": {},
     "output_type": "execute_result"
    }
   ],
   "source": [
    "state_cutoff_times_long.head()"
   ]
  },
  {
   "cell_type": "code",
   "execution_count": 9,
   "metadata": {
    "collapsed": false
   },
   "outputs": [
    {
     "data": {
      "text/plain": [
       "912"
      ]
     },
     "execution_count": 9,
     "metadata": {},
     "output_type": "execute_result"
    }
   ],
   "source": [
    "state_cutoff_times_long['filename'].nunique()"
   ]
  },
  {
   "cell_type": "code",
   "execution_count": 10,
   "metadata": {
    "collapsed": false
   },
   "outputs": [],
   "source": [
    "state_cutoff_times = state_cutoff_times_long.pivot_table(values='count(*)', \n",
    "                                                         index='filename', \n",
    "                                                         columns=['heuristic', 'state'])\n",
    "total_5sec = state_cutoff_times.sum(axis=1)\n",
    "state_cutoff_times_norm = state_cutoff_times.divide(total_5sec, axis='index')\n",
    "\n",
    "# Only take min 20 hours\n",
    "state_cutoff_times_norm = state_cutoff_times_norm[total_5sec>20*60*12]\n",
    "state_cutoff_times_norm = state_cutoff_times_norm.fillna(0)"
   ]
  },
  {
   "cell_type": "code",
   "execution_count": 11,
   "metadata": {
    "collapsed": true
   },
   "outputs": [],
   "source": [
    "total_5sec = state_times.sum(axis=1)\n",
    "state_times_norm = state_times.divide(total_5sec, axis='index')\n",
    "\n",
    "# Only take min 20 hours\n",
    "state_times_norm = state_times_norm[total_5sec>20*60*12]\n",
    "state_times_norm = state_times_norm.fillna(0)"
   ]
  },
  {
   "cell_type": "code",
   "execution_count": 12,
   "metadata": {
    "collapsed": false
   },
   "outputs": [],
   "source": [
    "total_5sec = cutoff_times.sum(axis=1)\n",
    "cutoff_times_norm = cutoff_times.divide(total_5sec, axis='index')\n",
    "\n",
    "# Only take min 20 hours\n",
    "cutoff_times_norm = cutoff_times_norm[total_5sec>20*60*12]\n",
    "cutoff_times_norm = cutoff_times_norm.fillna(0)"
   ]
  },
  {
   "cell_type": "code",
   "execution_count": 13,
   "metadata": {
    "collapsed": true
   },
   "outputs": [],
   "source": [
    "from sklearn.decomposition import PCA"
   ]
  },
  {
   "cell_type": "code",
   "execution_count": 14,
   "metadata": {
    "collapsed": false
   },
   "outputs": [
    {
     "name": "stdout",
     "output_type": "stream",
     "text": [
      "(699, 10)\n"
     ]
    },
    {
     "data": {
      "image/png": "[encoded data removed]",
      "text/plain": [
       "<matplotlib.figure.Figure at 0x7f779819e790>"
      ]
     },
     "metadata": {},
     "output_type": "display_data"
    }
   ],
   "source": [
    "X_states = state_times_norm.as_matrix()\n",
    "print(X_states.shape)\n",
    "fig, axes = plt.subplots(1,2, figsize=(12,5))\n",
    "pca = PCA(n_components=X_states.shape[1])\n",
    "pca.fit(X_states)\n",
    "axes[0].plot(np.cumsum(pca.explained_variance_ratio_))\n",
    "axes[1].pcolor(pca.components_, cmap=plt.cm.Greens)\n",
    "axes[1].invert_yaxis()"
   ]
  },
  {
   "cell_type": "code",
   "execution_count": 15,
   "metadata": {
    "collapsed": false
   },
   "outputs": [
    {
     "name": "stdout",
     "output_type": "stream",
     "text": [
      "(699, 10)\n"
     ]
    },
    {
     "data": {
      "image/png": "[encoded data removed]",
      "text/plain": [
       "<matplotlib.figure.Figure at 0x7f7795de70d0>"
      ]
     },
     "metadata": {},
     "output_type": "display_data"
    }
   ],
   "source": [
    "X_cutoff = cutoff_times_norm.as_matrix()\n",
    "print(X_cutoff.shape)\n",
    "fig, axes = plt.subplots(1,2, figsize=(12,5))\n",
    "pca_cutoff = PCA(n_components=X_cutoff.shape[1])\n",
    "pca_cutoff.fit(X_cutoff)\n",
    "axes[0].plot(np.cumsum(pca_cutoff.explained_variance_ratio_), label='cut-off')\n",
    "axes[1].pcolor(pca_cutoff.components_, cmap=plt.cm.Greens)\n",
    "axes[1].invert_yaxis()"
   ]
  },
  {
   "cell_type": "code",
   "execution_count": 16,
   "metadata": {
    "collapsed": false
   },
   "outputs": [
    {
     "data": {
      "image/png": "[encoded data removed]",
      "text/plain": [
       "<matplotlib.figure.Figure at 0x7f7798194950>"
      ]
     },
     "metadata": {},
     "output_type": "display_data"
    }
   ],
   "source": [
    "plt.plot(np.cumsum(pca.explained_variance_ratio_), label='states')\n",
    "plt.plot(np.cumsum(pca_cutoff.explained_variance_ratio_), label='cut-off')\n",
    "plt.xlabel('# components')\n",
    "plt.ylabel('fraction explained variance')\n",
    "plt.legend()\n",
    "plt.show()"
   ]
  },
  {
   "cell_type": "code",
   "execution_count": 17,
   "metadata": {
    "collapsed": false
   },
   "outputs": [
    {
     "data": {
      "text/html": [
       "<div>\n",
       "<table border=\"1\" class=\"dataframe\">\n",
       "  <thead>\n",
       "    <tr style=\"text-align: right;\">\n",
       "      <th></th>\n",
       "      <th>cut-off</th>\n",
       "      <th>state</th>\n",
       "    </tr>\n",
       "  </thead>\n",
       "  <tbody>\n",
       "    <tr>\n",
       "      <th>1</th>\n",
       "      <td>0.602489</td>\n",
       "      <td>0.427021</td>\n",
       "    </tr>\n",
       "    <tr>\n",
       "      <th>2</th>\n",
       "      <td>0.865201</td>\n",
       "      <td>0.747319</td>\n",
       "    </tr>\n",
       "    <tr>\n",
       "      <th>3</th>\n",
       "      <td>0.942725</td>\n",
       "      <td>0.890441</td>\n",
       "    </tr>\n",
       "    <tr>\n",
       "      <th>4</th>\n",
       "      <td>0.976155</td>\n",
       "      <td>0.932423</td>\n",
       "    </tr>\n",
       "    <tr>\n",
       "      <th>5</th>\n",
       "      <td>0.989934</td>\n",
       "      <td>0.958923</td>\n",
       "    </tr>\n",
       "    <tr>\n",
       "      <th>6</th>\n",
       "      <td>0.995426</td>\n",
       "      <td>0.979353</td>\n",
       "    </tr>\n",
       "    <tr>\n",
       "      <th>7</th>\n",
       "      <td>0.998366</td>\n",
       "      <td>0.990285</td>\n",
       "    </tr>\n",
       "    <tr>\n",
       "      <th>8</th>\n",
       "      <td>0.999913</td>\n",
       "      <td>0.998683</td>\n",
       "    </tr>\n",
       "    <tr>\n",
       "      <th>9</th>\n",
       "      <td>1.000000</td>\n",
       "      <td>1.000000</td>\n",
       "    </tr>\n",
       "    <tr>\n",
       "      <th>10</th>\n",
       "      <td>1.000000</td>\n",
       "      <td>1.000000</td>\n",
       "    </tr>\n",
       "  </tbody>\n",
       "</table>\n",
       "</div>"
      ],
      "text/plain": [
       "     cut-off     state\n",
       "1   0.602489  0.427021\n",
       "2   0.865201  0.747319\n",
       "3   0.942725  0.890441\n",
       "4   0.976155  0.932423\n",
       "5   0.989934  0.958923\n",
       "6   0.995426  0.979353\n",
       "7   0.998366  0.990285\n",
       "8   0.999913  0.998683\n",
       "9   1.000000  1.000000\n",
       "10  1.000000  1.000000"
      ]
     },
     "execution_count": 17,
     "metadata": {},
     "output_type": "execute_result"
    }
   ],
   "source": [
    "cumvars = pd.DataFrame({'state': np.cumsum(pca.explained_variance_ratio_), \n",
    "              'cut-off': np.cumsum(pca_cutoff.explained_variance_ratio_)})\n",
    "cumvars.index = np.arange(1, 11)\n",
    "cumvars"
   ]
  },
  {
   "cell_type": "code",
   "execution_count": 18,
   "metadata": {
    "collapsed": true
   },
   "outputs": [],
   "source": [
    "def get_pcolorplot(correlations, ax, cmap='coolwarm', vmin=-1, vmax=1, xlabels=None, ylabels=None):\n",
    "    ax.pcolor(correlations, cmap=cmap, vmin=vmin, vmax=vmax)\n",
    "    ax.set_yticks(np.arange(correlations.shape[0]) + 0.5, minor=False)\n",
    "    ax.set_xticks(np.arange(correlations.shape[1]) + 0.5, minor=False)\n",
    "    if xlabels is None:\n",
    "        xlabels = range(correlations.shape[0])\n",
    "    if ylabels is None:\n",
    "        ylabels2 = range(correlations.shape[1])\n",
    "    else:\n",
    "        ylabels2 = ylabels\n",
    "    ax.invert_yaxis()\n",
    "    ax.set_xticklabels(xlabels, minor=False)\n",
    "    ax.set_yticklabels(ylabels2, minor=False)"
   ]
  },
  {
   "cell_type": "markdown",
   "metadata": {},
   "source": [
    "# Center log ratio transformation"
   ]
  },
  {
   "cell_type": "code",
   "execution_count": 19,
   "metadata": {
    "collapsed": false
   },
   "outputs": [],
   "source": [
    "from scipy.stats import gmean\n",
    "from skbio.stats.composition import ilr"
   ]
  },
  {
   "cell_type": "code",
   "execution_count": 64,
   "metadata": {
    "collapsed": true
   },
   "outputs": [],
   "source": [
    "def get_ilr(X):\n",
    "    D = X.shape[1]\n",
    "    X_out = np.zeros((X.shape[0], D-1))\n",
    "\n",
    "    for j in range(1, D):\n",
    "        c = np.sqrt(float(D-j)/(D-j+1))\n",
    "        denom = np.power(X[:, j:].prod(axis=1), D-j)\n",
    "        X_out[:, j-1] = c*np.log(X[:, j-1].transpose()/denom).transpose()\n",
    "    return X_out"
   ]
  },
  {
   "cell_type": "code",
   "execution_count": 118,
   "metadata": {
    "collapsed": false
   },
   "outputs": [
    {
     "name": "stdout",
     "output_type": "stream",
     "text": [
      "((699, 9), (699, 9))\n"
     ]
    }
   ],
   "source": [
    "# take lognorm (compositional analysis)\n",
    "eps = 0.000001\n",
    "X_states[X_states==0] = eps\n",
    "X_cutoff[X_cutoff==0] = eps\n",
    "\n",
    "# CLR\n",
    "X_lognorm_states_clr = np.log(X_states.transpose()/ gmean(X_states, axis=1)).transpose()\n",
    "X_lognorm_cutoff_clr = np.log(X_cutoff.transpose()/ gmean(X_cutoff, axis=1)).transpose()\n",
    "\n",
    "# ILR\n",
    "X_lognorm_states_ilr = ilr(X_states)\n",
    "X_lognorm_cutoff_ilr = ilr(X_cutoff)\n",
    "\n",
    "#ILR, own implementation:\n",
    "X_lognorm_states_ilr2 = get_ilr(X_states)\n",
    "X_lognorm_cutoff_ilr2 = get_ilr(X_cutoff)\n",
    "\n",
    "X_lognorm_states = X_lognorm_states_ilr\n",
    "X_lognorm_cutoff = X_lognorm_cutoff_ilr\n",
    "\n",
    "print(X_lognorm_states.shape, X_lognorm_cutoff.shape)"
   ]
  },
  {
   "cell_type": "code",
   "execution_count": 119,
   "metadata": {
    "collapsed": false
   },
   "outputs": [
    {
     "name": "stdout",
     "output_type": "stream",
     "text": [
      "0\n",
      "0\n",
      "0\n",
      "0\n",
      "0\n",
      "0\n"
     ]
    }
   ],
   "source": [
    "print(np.sum(X_lognorm_cutoff==-np.infty))\n",
    "print(np.sum(np.isnan(X_lognorm_cutoff)))\n",
    "print(np.sum(X_lognorm_cutoff==np.infty))\n",
    "print(np.sum(X_lognorm_states==-np.infty))\n",
    "print(np.sum(np.isnan(X_lognorm_states)))\n",
    "print(np.sum(X_lognorm_states==np.infty))"
   ]
  },
  {
   "cell_type": "code",
   "execution_count": 120,
   "metadata": {
    "collapsed": false
   },
   "outputs": [],
   "source": [
    "# fill infinity\n",
    "#X_lognorm_states[X_lognorm_states==-np.infty] = -10000000\n",
    "#X_lognorm_cutoff[X_lognorm_cutoff==-np.infty] = -10000000"
   ]
  },
  {
   "cell_type": "code",
   "execution_count": 121,
   "metadata": {
    "collapsed": false
   },
   "outputs": [
    {
     "data": {
      "image/png": "[encoded data removed]",
      "text/plain": [
       "<matplotlib.figure.Figure at 0x7f7795b63590>"
      ]
     },
     "metadata": {},
     "output_type": "display_data"
    }
   ],
   "source": [
    "fig, axes = plt.subplots(1,2, figsize=(12,5))\n",
    "pca_state_log = PCA(n_components=X_lognorm_states.shape[1])\n",
    "pca_state_log.fit(X_lognorm_states)\n",
    "axes[0].plot(np.cumsum(pca_state_log.explained_variance_ratio_), label='log states')\n",
    "axes[0].set_ylim(0,1)\n",
    "axes[1].pcolor(pca_state_log.components_, cmap=plt.cm.Greens)\n",
    "axes[1].invert_yaxis()"
   ]
  },
  {
   "cell_type": "code",
   "execution_count": 122,
   "metadata": {
    "collapsed": false
   },
   "outputs": [
    {
     "data": {
      "image/png": "[encoded data removed]",
      "text/plain": [
       "<matplotlib.figure.Figure at 0x7f77943d6c90>"
      ]
     },
     "metadata": {},
     "output_type": "display_data"
    }
   ],
   "source": [
    "fig, axes = plt.subplots(1,2, figsize=(12,5))\n",
    "pca_cutoff_log = PCA(n_components=X_lognorm_cutoff.shape[1])\n",
    "pca_cutoff_log.fit(X_lognorm_cutoff)\n",
    "axes[0].plot(np.cumsum(pca_cutoff_log.explained_variance_ratio_), label='log cut-off')\n",
    "axes[0].set_ylim(0,1)\n",
    "axes[1].pcolor(pca_cutoff_log.components_, cmap=plt.cm.Greens)\n",
    "axes[1].invert_yaxis()"
   ]
  },
  {
   "cell_type": "code",
   "execution_count": 123,
   "metadata": {
    "collapsed": false
   },
   "outputs": [
    {
     "data": {
      "image/png": "[encoded data removed]",
      "text/plain": [
       "<matplotlib.figure.Figure at 0x7f7794c4f350>"
      ]
     },
     "metadata": {},
     "output_type": "display_data"
    }
   ],
   "source": [
    "plt.plot(np.cumsum(pca_state_log.explained_variance_ratio_), label='states')\n",
    "plt.plot(np.cumsum(pca_cutoff_log.explained_variance_ratio_), label='cut-off')\n",
    "plt.xlabel('# components')\n",
    "plt.ylabel('fraction explained variance')\n",
    "plt.legend()\n",
    "plt.ylim(0,1)\n",
    "plt.show()"
   ]
  },
  {
   "cell_type": "code",
   "execution_count": 124,
   "metadata": {
    "collapsed": false
   },
   "outputs": [
    {
     "data": {
      "text/html": [
       "<div>\n",
       "<table border=\"1\" class=\"dataframe\">\n",
       "  <thead>\n",
       "    <tr style=\"text-align: right;\">\n",
       "      <th></th>\n",
       "      <th>cut-off</th>\n",
       "      <th>state</th>\n",
       "    </tr>\n",
       "  </thead>\n",
       "  <tbody>\n",
       "    <tr>\n",
       "      <th>1</th>\n",
       "      <td>0.745659</td>\n",
       "      <td>0.444742</td>\n",
       "    </tr>\n",
       "    <tr>\n",
       "      <th>2</th>\n",
       "      <td>0.843552</td>\n",
       "      <td>0.866521</td>\n",
       "    </tr>\n",
       "    <tr>\n",
       "      <th>3</th>\n",
       "      <td>0.901627</td>\n",
       "      <td>0.973143</td>\n",
       "    </tr>\n",
       "    <tr>\n",
       "      <th>4</th>\n",
       "      <td>0.946637</td>\n",
       "      <td>0.985616</td>\n",
       "    </tr>\n",
       "    <tr>\n",
       "      <th>5</th>\n",
       "      <td>0.982494</td>\n",
       "      <td>0.992913</td>\n",
       "    </tr>\n",
       "    <tr>\n",
       "      <th>6</th>\n",
       "      <td>0.993277</td>\n",
       "      <td>0.996674</td>\n",
       "    </tr>\n",
       "    <tr>\n",
       "      <th>7</th>\n",
       "      <td>0.998187</td>\n",
       "      <td>0.998454</td>\n",
       "    </tr>\n",
       "    <tr>\n",
       "      <th>8</th>\n",
       "      <td>0.999643</td>\n",
       "      <td>0.999800</td>\n",
       "    </tr>\n",
       "    <tr>\n",
       "      <th>9</th>\n",
       "      <td>1.000000</td>\n",
       "      <td>1.000000</td>\n",
       "    </tr>\n",
       "  </tbody>\n",
       "</table>\n",
       "</div>"
      ],
      "text/plain": [
       "    cut-off     state\n",
       "1  0.745659  0.444742\n",
       "2  0.843552  0.866521\n",
       "3  0.901627  0.973143\n",
       "4  0.946637  0.985616\n",
       "5  0.982494  0.992913\n",
       "6  0.993277  0.996674\n",
       "7  0.998187  0.998454\n",
       "8  0.999643  0.999800\n",
       "9  1.000000  1.000000"
      ]
     },
     "execution_count": 124,
     "metadata": {},
     "output_type": "execute_result"
    }
   ],
   "source": [
    "cumvars = pd.DataFrame({'state': np.cumsum(pca_state_log.explained_variance_ratio_), \n",
    "              'cut-off': np.cumsum(pca_cutoff_log.explained_variance_ratio_)})\n",
    "cumvars.index = np.arange(1, len(cumvars)+1)\n",
    "cumvars"
   ]
  },
  {
   "cell_type": "code",
   "execution_count": 125,
   "metadata": {
    "collapsed": false
   },
   "outputs": [
    {
     "data": {
      "image/png": "[encoded data removed]",
      "text/plain": [
       "<matplotlib.figure.Figure at 0x7f77942942d0>"
      ]
     },
     "metadata": {},
     "output_type": "display_data"
    }
   ],
   "source": [
    "cor_states_log = np.corrcoef(X_lognorm_states.transpose())\n",
    "cor_cutoff_log = np.corrcoef(X_lognorm_cutoff.transpose())\n",
    "\n",
    "fig, axes = plt.subplots(2,2, figsize=(10,10))\n",
    "get_pcolorplot(cor_cutoff_log, axes[0,0])\n",
    "get_pcolorplot(cor_states_log, axes[0,1])\n",
    "get_pcolorplot(np.abs(cor_cutoff_log), axes[1,0], plt.cm.Greys, 0, 1)\n",
    "get_pcolorplot(np.abs(cor_states_log), axes[1,1], plt.cm.Greys, 0, 1)"
   ]
  },
  {
   "cell_type": "code",
   "execution_count": 117,
   "metadata": {
    "collapsed": false
   },
   "outputs": [
    {
     "name": "stdout",
     "output_type": "stream",
     "text": [
      "cutoff: 0.38±0.27\n",
      "states: 0.53±0.24\n"
     ]
    }
   ],
   "source": [
    "cor_cutoff_log_values = cor_cutoff_log[~np.eye(cor_cutoff_log.shape[0], dtype=bool)]\n",
    "cor_states_log_values = cor_states_log[~np.eye(cor_states_log.shape[0], dtype=bool)]\n",
    "\n",
    "print('cutoff: {:.2f}±{:.2f}'.format(np.mean(np.abs(cor_cutoff_log_values)), np.std(np.abs(cor_cutoff_log_values))))\n",
    "print('states: {:.2f}±{:.2f}'.format(np.mean(np.abs(cor_states_log_values)), np.std(np.abs(cor_states_log_values))))"
   ]
  },
  {
   "cell_type": "code",
   "execution_count": 33,
   "metadata": {
    "collapsed": false
   },
   "outputs": [
    {
     "data": {
      "text/plain": [
       "<matplotlib.collections.PathCollection at 0x7f7794e3db50>"
      ]
     },
     "execution_count": 33,
     "metadata": {},
     "output_type": "execute_result"
    },
    {
     "data": {
      "image/png": "[encoded data removed]",
      "text/plain": [
       "<matplotlib.figure.Figure at 0x7f7794eff790>"
      ]
     },
     "metadata": {},
     "output_type": "display_data"
    }
   ],
   "source": [
    "fig, axes = plt.subplots(1,2, figsize=(12,5))\n",
    "\n",
    "cutoff_transformed_log = pca_cutoff_log.transform(X_lognorm_cutoff)\n",
    "axes[0].scatter(cutoff_transformed_log[:,0], cutoff_transformed_log[:,1])\n",
    "\n",
    "states_transformed_log = pca_state_log.transform(X_lognorm_states)\n",
    "axes[1].scatter(states_transformed_log[:,0], states_transformed_log[:,1])"
   ]
  },
  {
   "cell_type": "code",
   "execution_count": null,
   "metadata": {
    "collapsed": false
   },
   "outputs": [],
   "source": [
    "fig, axes = plt.subplots(1,2, figsize=(12,5))\n",
    "\n",
    "axes[0].scatter(X_lognorm_cutoff[:,0], X_lognorm_cutoff[:,1])\n",
    "axes[1].scatter(X_lognorm_states[:,0], X_lognorm_states[:,1])"
   ]
  },
  {
   "cell_type": "code",
   "execution_count": null,
   "metadata": {
    "collapsed": false
   },
   "outputs": [],
   "source": [
    "fig, axes = plt.subplots(1,2, figsize=(12,5))\n",
    "\n",
    "axes[0].scatter(X_cutoff[:,0], X_cutoff[:,1])\n",
    "axes[1].scatter(X_states[:,0], X_states[:,1])"
   ]
  },
  {
   "cell_type": "code",
   "execution_count": null,
   "metadata": {
    "collapsed": false
   },
   "outputs": [],
   "source": [
    "for i in range(10):\n",
    "    fig, axes = plt.subplots(1,2, figsize=(12,5))\n",
    "    axes[0].scatter(X_cutoff[:,i], X_lognorm_cutoff[:,i])\n",
    "    axes[1].scatter(X_states[:,i], X_lognorm_states[:,i])\n",
    "    plt.show()"
   ]
  },
  {
   "cell_type": "markdown",
   "metadata": {},
   "source": [
    "# Correlation"
   ]
  },
  {
   "cell_type": "code",
   "execution_count": 77,
   "metadata": {
    "collapsed": false
   },
   "outputs": [
    {
     "data": {
      "image/png": "[encoded data removed]",
      "text/plain": [
       "<matplotlib.figure.Figure at 0x7f7794bb5550>"
      ]
     },
     "metadata": {},
     "output_type": "display_data"
    }
   ],
   "source": [
    "cor_states = np.corrcoef(X_states.transpose())\n",
    "cor_cutoff = np.corrcoef(X_cutoff.transpose())\n",
    "fig, axes = plt.subplots(2,2, figsize=(10,10))\n",
    "get_pcolorplot(cor_cutoff, axes[0,0])\n",
    "get_pcolorplot(cor_states, axes[0,1])\n",
    "get_pcolorplot(np.abs(cor_cutoff), axes[1,0], plt.cm.Greys, 0, 1)\n",
    "get_pcolorplot(np.abs(cor_states), axes[1,1], plt.cm.Greys, 0, 1)"
   ]
  },
  {
   "cell_type": "code",
   "execution_count": 78,
   "metadata": {
    "collapsed": false
   },
   "outputs": [
    {
     "name": "stdout",
     "output_type": "stream",
     "text": [
      "(0.27441128578840751, 0.25177732880029052)\n"
     ]
    }
   ],
   "source": [
    "# Get average absolute intercorrelation\n",
    "dim = cor_cutoff.shape[0]\n",
    "avgcor_cutoff = (np.abs(cor_cutoff).sum() - dim)/(dim*dim-dim)\n",
    "dim = cor_states.shape[0]\n",
    "avgcor_state = (np.abs(cor_states).sum() - dim)/(dim*dim-dim)\n",
    "print(avgcor_cutoff, avgcor_state)"
   ]
  },
  {
   "cell_type": "code",
   "execution_count": 79,
   "metadata": {
    "collapsed": false
   },
   "outputs": [
    {
     "name": "stdout",
     "output_type": "stream",
     "text": [
      "cutoff: 0.27±0.24\n",
      "states: 0.25±0.18\n"
     ]
    }
   ],
   "source": [
    "cor_cutoff_values = cor_cutoff[~np.eye(cor_cutoff.shape[0], dtype=bool)]\n",
    "cor_states_values = cor_states[~np.eye(cor_states.shape[0], dtype=bool)]\n",
    "\n",
    "print('cutoff: {:.2f}±{:.2f}'.format(np.mean(np.abs(cor_cutoff_values)), np.std(np.abs(cor_cutoff_values))))\n",
    "print('states: {:.2f}±{:.2f}'.format(np.mean(np.abs(cor_states_values)), np.std(np.abs(cor_states_values))))"
   ]
  },
  {
   "cell_type": "code",
   "execution_count": 98,
   "metadata": {
    "collapsed": false
   },
   "outputs": [
    {
     "data": {
      "image/png": "[encoded data removed]",
      "text/plain": [
       "<matplotlib.figure.Figure at 0x7f7795bb4810>"
      ]
     },
     "metadata": {},
     "output_type": "display_data"
    }
   ],
   "source": [
    "plt.boxplot((cor_cutoff_values, cor_states_values));"
   ]
  },
  {
   "cell_type": "code",
   "execution_count": 100,
   "metadata": {
    "collapsed": false
   },
   "outputs": [
    {
     "data": {
      "image/png": "[encoded data removed]",
      "text/plain": [
       "<matplotlib.figure.Figure at 0x7f7794d43610>"
      ]
     },
     "metadata": {},
     "output_type": "display_data"
    }
   ],
   "source": [
    "plt.boxplot((np.abs(cor_cutoff_values), np.abs(cor_states_values)));"
   ]
  },
  {
   "cell_type": "code",
   "execution_count": 108,
   "metadata": {
    "collapsed": false
   },
   "outputs": [
    {
     "name": "stdout",
     "output_type": "stream",
     "text": [
      "16\n",
      "12\n"
     ]
    }
   ],
   "source": [
    "print(sum(np.abs(cor_cutoff_values)>.5))\n",
    "print(sum(np.abs(cor_states_values)>.5))"
   ]
  },
  {
   "cell_type": "code",
   "execution_count": 80,
   "metadata": {
    "collapsed": false
   },
   "outputs": [
    {
     "name": "stdout",
     "output_type": "stream",
     "text": [
      "Ttest_indResult(statistic=0.58227054112994392, pvalue=0.56113983975569215)\n",
      "p-value: 0.281\n"
     ]
    }
   ],
   "source": [
    "# Calculate t-test (this one is two-sided and we want one sided, so divide by 2)\n",
    "import scipy\n",
    "res = scipy.stats.ttest_ind(cor_cutoff_values, cor_states_values, equal_var=False)\n",
    "print(res)\n",
    "print('p-value: {:.3f}'.format(res.pvalue / 2))"
   ]
  },
  {
   "cell_type": "code",
   "execution_count": 81,
   "metadata": {
    "collapsed": false
   },
   "outputs": [],
   "source": [
    "heuristic_classes = [' 1 - sustained activity',  #1\n",
    "                     ' 2 - non-bouted inactivity', #2\n",
    "                     ' 3 - >=30min inactivity', #3 \n",
    "                     ' 4 - 10-19min inactivity', #4\n",
    "                     ' 5 - non-bouted LPA', #5\n",
    "                     ' 6 - >=10min LPA', #6\n",
    "                     ' 7 - 1-9min LPA', #7\n",
    "                     ' 8 - non-bouted MVPA', #8\n",
    "                     ' 9 - >=10min MVPA', #9\n",
    "                    '10 - 1-9min MVPA' #10\n",
    "                     ]\n",
    "get_heuristic = lambda i: heuristic_classes[int(i)-1]"
   ]
  },
  {
   "cell_type": "code",
   "execution_count": 82,
   "metadata": {
    "collapsed": false
   },
   "outputs": [],
   "source": [
    "cutoff_times_norm.columns = heuristic_classes\n",
    "state_times_norm.columns = np.arange(10)"
   ]
  },
  {
   "cell_type": "code",
   "execution_count": 83,
   "metadata": {
    "collapsed": false
   },
   "outputs": [],
   "source": [
    "cor = np.zeros((X_states.shape[1], X_cutoff.shape[1]))\n",
    "\n",
    "for i in range(X_states.shape[1]):\n",
    "    for j in range(X_cutoff.shape[1]):\n",
    "        cor[i, j] = np.corrcoef(X_states[:,i], X_cutoff[:,j])[0,1]"
   ]
  },
  {
   "cell_type": "code",
   "execution_count": 84,
   "metadata": {
    "collapsed": false,
    "scrolled": true
   },
   "outputs": [
    {
     "data": {
      "text/html": [
       "<div>\n",
       "<table border=\"1\" class=\"dataframe\">\n",
       "  <thead>\n",
       "    <tr style=\"text-align: right;\">\n",
       "      <th></th>\n",
       "      <th>1 - sustained activity</th>\n",
       "      <th>2 - non-bouted inactivity</th>\n",
       "      <th>3 - &gt;=30min inactivity</th>\n",
       "      <th>4 - 10-19min inactivity</th>\n",
       "      <th>5 - non-bouted LPA</th>\n",
       "      <th>6 - &gt;=10min LPA</th>\n",
       "      <th>7 - 1-9min LPA</th>\n",
       "      <th>8 - non-bouted MVPA</th>\n",
       "      <th>9 - &gt;=10min MVPA</th>\n",
       "      <th>10 - 1-9min MVPA</th>\n",
       "    </tr>\n",
       "  </thead>\n",
       "  <tbody>\n",
       "    <tr>\n",
       "      <th>0</th>\n",
       "      <td>-0.108543</td>\n",
       "      <td>0.276759</td>\n",
       "      <td>-0.187546</td>\n",
       "      <td>-0.135079</td>\n",
       "      <td>0.312582</td>\n",
       "      <td>0.048281</td>\n",
       "      <td>0.543753</td>\n",
       "      <td>0.058762</td>\n",
       "      <td>-0.029168</td>\n",
       "      <td>0.014748</td>\n",
       "    </tr>\n",
       "    <tr>\n",
       "      <th>1</th>\n",
       "      <td>-0.229365</td>\n",
       "      <td>0.217556</td>\n",
       "      <td>-0.333444</td>\n",
       "      <td>-0.126394</td>\n",
       "      <td>0.316616</td>\n",
       "      <td>-0.006202</td>\n",
       "      <td>-0.043460</td>\n",
       "      <td>0.554934</td>\n",
       "      <td>0.586035</td>\n",
       "      <td>0.685387</td>\n",
       "    </tr>\n",
       "    <tr>\n",
       "      <th>2</th>\n",
       "      <td>-0.288402</td>\n",
       "      <td>0.311191</td>\n",
       "      <td>-0.432104</td>\n",
       "      <td>-0.234663</td>\n",
       "      <td>0.502111</td>\n",
       "      <td>-0.016166</td>\n",
       "      <td>0.045060</td>\n",
       "      <td>0.684079</td>\n",
       "      <td>0.667329</td>\n",
       "      <td>0.809696</td>\n",
       "    </tr>\n",
       "    <tr>\n",
       "      <th>3</th>\n",
       "      <td>-0.410932</td>\n",
       "      <td>0.553726</td>\n",
       "      <td>-0.544500</td>\n",
       "      <td>-0.202829</td>\n",
       "      <td>0.848484</td>\n",
       "      <td>-0.019480</td>\n",
       "      <td>0.364302</td>\n",
       "      <td>0.829109</td>\n",
       "      <td>0.227948</td>\n",
       "      <td>0.545771</td>\n",
       "    </tr>\n",
       "    <tr>\n",
       "      <th>4</th>\n",
       "      <td>-0.110095</td>\n",
       "      <td>0.055579</td>\n",
       "      <td>-0.106268</td>\n",
       "      <td>-0.099954</td>\n",
       "      <td>0.277917</td>\n",
       "      <td>0.316210</td>\n",
       "      <td>0.669285</td>\n",
       "      <td>0.162977</td>\n",
       "      <td>0.006896</td>\n",
       "      <td>0.009190</td>\n",
       "    </tr>\n",
       "    <tr>\n",
       "      <th>5</th>\n",
       "      <td>0.987432</td>\n",
       "      <td>-0.395944</td>\n",
       "      <td>-0.108517</td>\n",
       "      <td>-0.025765</td>\n",
       "      <td>-0.487595</td>\n",
       "      <td>0.067559</td>\n",
       "      <td>-0.167604</td>\n",
       "      <td>-0.389196</td>\n",
       "      <td>-0.193810</td>\n",
       "      <td>-0.276880</td>\n",
       "    </tr>\n",
       "    <tr>\n",
       "      <th>6</th>\n",
       "      <td>0.017369</td>\n",
       "      <td>-0.632277</td>\n",
       "      <td>0.761114</td>\n",
       "      <td>0.195408</td>\n",
       "      <td>-0.700130</td>\n",
       "      <td>-0.088955</td>\n",
       "      <td>-0.319711</td>\n",
       "      <td>-0.614223</td>\n",
       "      <td>-0.267371</td>\n",
       "      <td>-0.491776</td>\n",
       "    </tr>\n",
       "    <tr>\n",
       "      <th>7</th>\n",
       "      <td>-0.408940</td>\n",
       "      <td>0.425748</td>\n",
       "      <td>-0.318797</td>\n",
       "      <td>0.018792</td>\n",
       "      <td>0.400478</td>\n",
       "      <td>-0.086078</td>\n",
       "      <td>-0.152073</td>\n",
       "      <td>0.590143</td>\n",
       "      <td>0.282444</td>\n",
       "      <td>0.480867</td>\n",
       "    </tr>\n",
       "    <tr>\n",
       "      <th>8</th>\n",
       "      <td>-0.353535</td>\n",
       "      <td>0.094554</td>\n",
       "      <td>0.229495</td>\n",
       "      <td>0.140122</td>\n",
       "      <td>-0.043104</td>\n",
       "      <td>0.020359</td>\n",
       "      <td>0.005129</td>\n",
       "      <td>-0.224911</td>\n",
       "      <td>-0.092394</td>\n",
       "      <td>-0.168644</td>\n",
       "    </tr>\n",
       "    <tr>\n",
       "      <th>9</th>\n",
       "      <td>-0.579183</td>\n",
       "      <td>0.806279</td>\n",
       "      <td>-0.466974</td>\n",
       "      <td>-0.044402</td>\n",
       "      <td>0.792879</td>\n",
       "      <td>-0.054055</td>\n",
       "      <td>0.182917</td>\n",
       "      <td>0.566970</td>\n",
       "      <td>0.039197</td>\n",
       "      <td>0.246530</td>\n",
       "    </tr>\n",
       "  </tbody>\n",
       "</table>\n",
       "</div>"
      ],
      "text/plain": [
       "    1 - sustained activity   2 - non-bouted inactivity  \\\n",
       "0                -0.108543                    0.276759   \n",
       "1                -0.229365                    0.217556   \n",
       "2                -0.288402                    0.311191   \n",
       "3                -0.410932                    0.553726   \n",
       "4                -0.110095                    0.055579   \n",
       "5                 0.987432                   -0.395944   \n",
       "6                 0.017369                   -0.632277   \n",
       "7                -0.408940                    0.425748   \n",
       "8                -0.353535                    0.094554   \n",
       "9                -0.579183                    0.806279   \n",
       "\n",
       "    3 - >=30min inactivity   4 - 10-19min inactivity   5 - non-bouted LPA  \\\n",
       "0                -0.187546                 -0.135079             0.312582   \n",
       "1                -0.333444                 -0.126394             0.316616   \n",
       "2                -0.432104                 -0.234663             0.502111   \n",
       "3                -0.544500                 -0.202829             0.848484   \n",
       "4                -0.106268                 -0.099954             0.277917   \n",
       "5                -0.108517                 -0.025765            -0.487595   \n",
       "6                 0.761114                  0.195408            -0.700130   \n",
       "7                -0.318797                  0.018792             0.400478   \n",
       "8                 0.229495                  0.140122            -0.043104   \n",
       "9                -0.466974                 -0.044402             0.792879   \n",
       "\n",
       "    6 - >=10min LPA   7 - 1-9min LPA   8 - non-bouted MVPA   9 - >=10min MVPA  \\\n",
       "0          0.048281         0.543753              0.058762          -0.029168   \n",
       "1         -0.006202        -0.043460              0.554934           0.586035   \n",
       "2         -0.016166         0.045060              0.684079           0.667329   \n",
       "3         -0.019480         0.364302              0.829109           0.227948   \n",
       "4          0.316210         0.669285              0.162977           0.006896   \n",
       "5          0.067559        -0.167604             -0.389196          -0.193810   \n",
       "6         -0.088955        -0.319711             -0.614223          -0.267371   \n",
       "7         -0.086078        -0.152073              0.590143           0.282444   \n",
       "8          0.020359         0.005129             -0.224911          -0.092394   \n",
       "9         -0.054055         0.182917              0.566970           0.039197   \n",
       "\n",
       "   10 - 1-9min MVPA  \n",
       "0          0.014748  \n",
       "1          0.685387  \n",
       "2          0.809696  \n",
       "3          0.545771  \n",
       "4          0.009190  \n",
       "5         -0.276880  \n",
       "6         -0.491776  \n",
       "7          0.480867  \n",
       "8         -0.168644  \n",
       "9          0.246530  "
      ]
     },
     "execution_count": 84,
     "metadata": {},
     "output_type": "execute_result"
    }
   ],
   "source": [
    "cor_df = pd.DataFrame(cor)\n",
    "cor_df.columns = heuristic_classes\n",
    "cor_df"
   ]
  },
  {
   "cell_type": "code",
   "execution_count": 85,
   "metadata": {
    "collapsed": false
   },
   "outputs": [
    {
     "data": {
      "text/plain": [
       "Int64Index([0, 1, 2, 3, 4, 5, 6, 7, 8, 9], dtype='int64')"
      ]
     },
     "execution_count": 85,
     "metadata": {},
     "output_type": "execute_result"
    }
   ],
   "source": [
    "cor_df.index"
   ]
  },
  {
   "cell_type": "code",
   "execution_count": 86,
   "metadata": {
    "collapsed": false
   },
   "outputs": [
    {
     "data": {
      "text/html": [
       "<div>\n",
       "<table border=\"1\" class=\"dataframe\">\n",
       "  <thead>\n",
       "    <tr style=\"text-align: right;\">\n",
       "      <th></th>\n",
       "      <th>1 - sustained activity</th>\n",
       "      <th>2 - non-bouted inactivity</th>\n",
       "      <th>3 - &gt;=30min inactivity</th>\n",
       "      <th>4 - 10-19min inactivity</th>\n",
       "      <th>5 - non-bouted LPA</th>\n",
       "      <th>6 - &gt;=10min LPA</th>\n",
       "      <th>7 - 1-9min LPA</th>\n",
       "      <th>8 - non-bouted MVPA</th>\n",
       "      <th>9 - &gt;=10min MVPA</th>\n",
       "      <th>10 - 1-9min MVPA</th>\n",
       "    </tr>\n",
       "  </thead>\n",
       "  <tbody>\n",
       "    <tr>\n",
       "      <th>5</th>\n",
       "      <td>0.987432</td>\n",
       "      <td>-0.395944</td>\n",
       "      <td>-0.108517</td>\n",
       "      <td>-0.025765</td>\n",
       "      <td>-0.487595</td>\n",
       "      <td>0.067559</td>\n",
       "      <td>-0.167604</td>\n",
       "      <td>-0.389196</td>\n",
       "      <td>-0.193810</td>\n",
       "      <td>-0.276880</td>\n",
       "    </tr>\n",
       "    <tr>\n",
       "      <th>6</th>\n",
       "      <td>0.017369</td>\n",
       "      <td>-0.632277</td>\n",
       "      <td>0.761114</td>\n",
       "      <td>0.195408</td>\n",
       "      <td>-0.700130</td>\n",
       "      <td>-0.088955</td>\n",
       "      <td>-0.319711</td>\n",
       "      <td>-0.614223</td>\n",
       "      <td>-0.267371</td>\n",
       "      <td>-0.491776</td>\n",
       "    </tr>\n",
       "    <tr>\n",
       "      <th>8</th>\n",
       "      <td>-0.353535</td>\n",
       "      <td>0.094554</td>\n",
       "      <td>0.229495</td>\n",
       "      <td>0.140122</td>\n",
       "      <td>-0.043104</td>\n",
       "      <td>0.020359</td>\n",
       "      <td>0.005129</td>\n",
       "      <td>-0.224911</td>\n",
       "      <td>-0.092394</td>\n",
       "      <td>-0.168644</td>\n",
       "    </tr>\n",
       "    <tr>\n",
       "      <th>9</th>\n",
       "      <td>-0.579183</td>\n",
       "      <td>0.806279</td>\n",
       "      <td>-0.466974</td>\n",
       "      <td>-0.044402</td>\n",
       "      <td>0.792879</td>\n",
       "      <td>-0.054055</td>\n",
       "      <td>0.182917</td>\n",
       "      <td>0.566970</td>\n",
       "      <td>0.039197</td>\n",
       "      <td>0.246530</td>\n",
       "    </tr>\n",
       "    <tr>\n",
       "      <th>0</th>\n",
       "      <td>-0.108543</td>\n",
       "      <td>0.276759</td>\n",
       "      <td>-0.187546</td>\n",
       "      <td>-0.135079</td>\n",
       "      <td>0.312582</td>\n",
       "      <td>0.048281</td>\n",
       "      <td>0.543753</td>\n",
       "      <td>0.058762</td>\n",
       "      <td>-0.029168</td>\n",
       "      <td>0.014748</td>\n",
       "    </tr>\n",
       "    <tr>\n",
       "      <th>7</th>\n",
       "      <td>-0.408940</td>\n",
       "      <td>0.425748</td>\n",
       "      <td>-0.318797</td>\n",
       "      <td>0.018792</td>\n",
       "      <td>0.400478</td>\n",
       "      <td>-0.086078</td>\n",
       "      <td>-0.152073</td>\n",
       "      <td>0.590143</td>\n",
       "      <td>0.282444</td>\n",
       "      <td>0.480867</td>\n",
       "    </tr>\n",
       "    <tr>\n",
       "      <th>4</th>\n",
       "      <td>-0.110095</td>\n",
       "      <td>0.055579</td>\n",
       "      <td>-0.106268</td>\n",
       "      <td>-0.099954</td>\n",
       "      <td>0.277917</td>\n",
       "      <td>0.316210</td>\n",
       "      <td>0.669285</td>\n",
       "      <td>0.162977</td>\n",
       "      <td>0.006896</td>\n",
       "      <td>0.009190</td>\n",
       "    </tr>\n",
       "    <tr>\n",
       "      <th>3</th>\n",
       "      <td>-0.410932</td>\n",
       "      <td>0.553726</td>\n",
       "      <td>-0.544500</td>\n",
       "      <td>-0.202829</td>\n",
       "      <td>0.848484</td>\n",
       "      <td>-0.019480</td>\n",
       "      <td>0.364302</td>\n",
       "      <td>0.829109</td>\n",
       "      <td>0.227948</td>\n",
       "      <td>0.545771</td>\n",
       "    </tr>\n",
       "    <tr>\n",
       "      <th>2</th>\n",
       "      <td>-0.288402</td>\n",
       "      <td>0.311191</td>\n",
       "      <td>-0.432104</td>\n",
       "      <td>-0.234663</td>\n",
       "      <td>0.502111</td>\n",
       "      <td>-0.016166</td>\n",
       "      <td>0.045060</td>\n",
       "      <td>0.684079</td>\n",
       "      <td>0.667329</td>\n",
       "      <td>0.809696</td>\n",
       "    </tr>\n",
       "    <tr>\n",
       "      <th>1</th>\n",
       "      <td>-0.229365</td>\n",
       "      <td>0.217556</td>\n",
       "      <td>-0.333444</td>\n",
       "      <td>-0.126394</td>\n",
       "      <td>0.316616</td>\n",
       "      <td>-0.006202</td>\n",
       "      <td>-0.043460</td>\n",
       "      <td>0.554934</td>\n",
       "      <td>0.586035</td>\n",
       "      <td>0.685387</td>\n",
       "    </tr>\n",
       "  </tbody>\n",
       "</table>\n",
       "</div>"
      ],
      "text/plain": [
       "    1 - sustained activity   2 - non-bouted inactivity  \\\n",
       "5                 0.987432                   -0.395944   \n",
       "6                 0.017369                   -0.632277   \n",
       "8                -0.353535                    0.094554   \n",
       "9                -0.579183                    0.806279   \n",
       "0                -0.108543                    0.276759   \n",
       "7                -0.408940                    0.425748   \n",
       "4                -0.110095                    0.055579   \n",
       "3                -0.410932                    0.553726   \n",
       "2                -0.288402                    0.311191   \n",
       "1                -0.229365                    0.217556   \n",
       "\n",
       "    3 - >=30min inactivity   4 - 10-19min inactivity   5 - non-bouted LPA  \\\n",
       "5                -0.108517                 -0.025765            -0.487595   \n",
       "6                 0.761114                  0.195408            -0.700130   \n",
       "8                 0.229495                  0.140122            -0.043104   \n",
       "9                -0.466974                 -0.044402             0.792879   \n",
       "0                -0.187546                 -0.135079             0.312582   \n",
       "7                -0.318797                  0.018792             0.400478   \n",
       "4                -0.106268                 -0.099954             0.277917   \n",
       "3                -0.544500                 -0.202829             0.848484   \n",
       "2                -0.432104                 -0.234663             0.502111   \n",
       "1                -0.333444                 -0.126394             0.316616   \n",
       "\n",
       "    6 - >=10min LPA   7 - 1-9min LPA   8 - non-bouted MVPA   9 - >=10min MVPA  \\\n",
       "5          0.067559        -0.167604             -0.389196          -0.193810   \n",
       "6         -0.088955        -0.319711             -0.614223          -0.267371   \n",
       "8          0.020359         0.005129             -0.224911          -0.092394   \n",
       "9         -0.054055         0.182917              0.566970           0.039197   \n",
       "0          0.048281         0.543753              0.058762          -0.029168   \n",
       "7         -0.086078        -0.152073              0.590143           0.282444   \n",
       "4          0.316210         0.669285              0.162977           0.006896   \n",
       "3         -0.019480         0.364302              0.829109           0.227948   \n",
       "2         -0.016166         0.045060              0.684079           0.667329   \n",
       "1         -0.006202        -0.043460              0.554934           0.586035   \n",
       "\n",
       "   10 - 1-9min MVPA  \n",
       "5         -0.276880  \n",
       "6         -0.491776  \n",
       "8         -0.168644  \n",
       "9          0.246530  \n",
       "0          0.014748  \n",
       "7          0.480867  \n",
       "4          0.009190  \n",
       "3          0.545771  \n",
       "2          0.809696  \n",
       "1          0.685387  "
      ]
     },
     "execution_count": 86,
     "metadata": {},
     "output_type": "execute_result"
    }
   ],
   "source": [
    "state_order = [5, 6, 8, 9, 0, 7, 4, 3, 2, 1]\n",
    "cor_df = cor_df.loc[state_order, :]\n",
    "cor_ordered = cor_df.as_matrix()\n",
    "cor_df"
   ]
  },
  {
   "cell_type": "code",
   "execution_count": 87,
   "metadata": {
    "collapsed": false
   },
   "outputs": [
    {
     "data": {
      "image/png": "[encoded data removed]",
      "text/plain": [
       "<matplotlib.figure.Figure at 0x7f779475ae90>"
      ]
     },
     "metadata": {},
     "output_type": "display_data"
    }
   ],
   "source": [
    "fig, axes = plt.subplots(2,1, figsize=(10,10))\n",
    "get_pcolorplot(cor_ordered.transpose(), axes[0], xlabels=cor_df.index, ylabels=cor_df.columns)\n",
    "get_pcolorplot(np.abs(cor_ordered.transpose()), axes[1], plt.cm.Greys, 0, 1, xlabels=cor_df.index, ylabels=cor_df.columns)"
   ]
  },
  {
   "cell_type": "code",
   "execution_count": 88,
   "metadata": {
    "collapsed": false
   },
   "outputs": [
    {
     "data": {
      "text/plain": [
       " 1 - sustained activity     5    0.987432\n",
       " 5 - non-bouted LPA         3    0.848484\n",
       " 8 - non-bouted MVPA        3    0.829109\n",
       "10 - 1-9min MVPA            2    0.809696\n",
       " 2 - non-bouted inactivity  9    0.806279\n",
       " 5 - non-bouted LPA         9    0.792879\n",
       " 3 - >=30min inactivity     6    0.761114\n",
       "10 - 1-9min MVPA            1    0.685387\n",
       " 8 - non-bouted MVPA        2    0.684079\n",
       " 7 - 1-9min LPA             4    0.669285\n",
       " 9 - >=10min MVPA           2    0.667329\n",
       " 8 - non-bouted MVPA        7    0.590143\n",
       " 9 - >=10min MVPA           1    0.586035\n",
       " 8 - non-bouted MVPA        9    0.566970\n",
       "                            1    0.554934\n",
       " 2 - non-bouted inactivity  3    0.553726\n",
       "10 - 1-9min MVPA            3    0.545771\n",
       " 7 - 1-9min LPA             0    0.543753\n",
       " 5 - non-bouted LPA         2    0.502111\n",
       "10 - 1-9min MVPA            7    0.480867\n",
       " 2 - non-bouted inactivity  7    0.425748\n",
       " 5 - non-bouted LPA         7    0.400478\n",
       " 7 - 1-9min LPA             3    0.364302\n",
       " 5 - non-bouted LPA         1    0.316616\n",
       " 6 - >=10min LPA            4    0.316210\n",
       " 5 - non-bouted LPA         0    0.312582\n",
       " 2 - non-bouted inactivity  2    0.311191\n",
       " 9 - >=10min MVPA           7    0.282444\n",
       " 5 - non-bouted LPA         4    0.277917\n",
       " 2 - non-bouted inactivity  0    0.276759\n",
       "                                   ...   \n",
       " 4 - 10-19min inactivity    0   -0.135079\n",
       " 7 - 1-9min LPA             7   -0.152073\n",
       "                            5   -0.167604\n",
       "10 - 1-9min MVPA            8   -0.168644\n",
       " 3 - >=30min inactivity     0   -0.187546\n",
       " 9 - >=10min MVPA           5   -0.193810\n",
       " 4 - 10-19min inactivity    3   -0.202829\n",
       " 8 - non-bouted MVPA        8   -0.224911\n",
       " 1 - sustained activity     1   -0.229365\n",
       " 4 - 10-19min inactivity    2   -0.234663\n",
       " 9 - >=10min MVPA           6   -0.267371\n",
       "10 - 1-9min MVPA            5   -0.276880\n",
       " 1 - sustained activity     2   -0.288402\n",
       " 3 - >=30min inactivity     7   -0.318797\n",
       " 7 - 1-9min LPA             6   -0.319711\n",
       " 3 - >=30min inactivity     1   -0.333444\n",
       " 1 - sustained activity     8   -0.353535\n",
       " 8 - non-bouted MVPA        5   -0.389196\n",
       " 2 - non-bouted inactivity  5   -0.395944\n",
       " 1 - sustained activity     7   -0.408940\n",
       "                            3   -0.410932\n",
       " 3 - >=30min inactivity     2   -0.432104\n",
       "                            9   -0.466974\n",
       " 5 - non-bouted LPA         5   -0.487595\n",
       "10 - 1-9min MVPA            6   -0.491776\n",
       " 3 - >=30min inactivity     3   -0.544500\n",
       " 1 - sustained activity     9   -0.579183\n",
       " 8 - non-bouted MVPA        6   -0.614223\n",
       " 2 - non-bouted inactivity  6   -0.632277\n",
       " 5 - non-bouted LPA         6   -0.700130\n",
       "dtype: float64"
      ]
     },
     "execution_count": 88,
     "metadata": {},
     "output_type": "execute_result"
    }
   ],
   "source": [
    "cor_series = cor_df.unstack()\n",
    "cor_series.sort_values(ascending=False)"
   ]
  },
  {
   "cell_type": "code",
   "execution_count": 89,
   "metadata": {
    "collapsed": false
   },
   "outputs": [
    {
     "data": {
      "text/plain": [
       "Index([u' 1 - sustained activity', u' 2 - non-bouted inactivity',\n",
       "       u' 3 - >=30min inactivity', u' 4 - 10-19min inactivity',\n",
       "       u' 5 - non-bouted LPA', u' 6 - >=10min LPA', u' 7 - 1-9min LPA',\n",
       "       u' 8 - non-bouted MVPA', u' 9 - >=10min MVPA', u'10 - 1-9min MVPA'],\n",
       "      dtype='object')"
      ]
     },
     "execution_count": 89,
     "metadata": {},
     "output_type": "execute_result"
    }
   ],
   "source": [
    "cutoff_times_norm.columns"
   ]
  },
  {
   "cell_type": "markdown",
   "metadata": {},
   "source": [
    " Now join states and categories based on the acceleration value"
   ]
  },
  {
   "cell_type": "code",
   "execution_count": 90,
   "metadata": {
    "collapsed": false
   },
   "outputs": [
    {
     "data": {
      "text/plain": [
       "{'LPA': [' 5 - non-bouted LPA', ' 6 - >=10min LPA', ' 7 - 1-9min LPA'],\n",
       " 'MVPA': [' 8 - non-bouted MVPA', ' 9 - >=10min MVPA', '10 - 1-9min MVPA'],\n",
       " 'inactivity': [' 2 - non-bouted inactivity',\n",
       "  ' 3 - >=30min inactivity',\n",
       "  ' 4 - 10-19min inactivity'],\n",
       " 'sustained': [' 1 - sustained activity']}"
      ]
     },
     "execution_count": 90,
     "metadata": {},
     "output_type": "execute_result"
    }
   ],
   "source": [
    "import re\n",
    "group_names = ['sustained', 'inactivity', 'LPA', 'MVPA']\n",
    "cutoff_groups = {n: [c for c in heuristic_classes if re.findall(n, c)] for n in group_names}\n",
    "cutoff_groups"
   ]
  },
  {
   "cell_type": "code",
   "execution_count": 91,
   "metadata": {
    "collapsed": false
   },
   "outputs": [],
   "source": [
    "cutoff_grouped = pd.DataFrame({k: cutoff_times_norm[cutoff_groups[k]].sum(axis=1) for k in group_names})\n",
    "cutoff_grouped = cutoff_grouped[group_names]"
   ]
  },
  {
   "cell_type": "code",
   "execution_count": 92,
   "metadata": {
    "collapsed": false
   },
   "outputs": [],
   "source": [
    "#state_groups = {'sustained':[2,9], 'inactivity': [0,3,4,6], 'LPA': [5, 1, 7], 'MVPA': [8]}\n",
    "state_groups = {'sustained':[5], 'inactivity': [6, 8], 'LPA': [9, 0, 7, 4], 'MVPA': [3, 2, 1]}\n",
    "state_grouped = pd.DataFrame({k: state_times_norm[state_groups[k]].sum(axis=1) for k in group_names})\n",
    "state_grouped = state_grouped[group_names]"
   ]
  },
  {
   "cell_type": "code",
   "execution_count": 93,
   "metadata": {
    "collapsed": false
   },
   "outputs": [
    {
     "data": {
      "text/html": [
       "<div>\n",
       "<table border=\"1\" class=\"dataframe\">\n",
       "  <thead>\n",
       "    <tr style=\"text-align: right;\">\n",
       "      <th></th>\n",
       "      <th>c: sustained</th>\n",
       "      <th>c: inactivity</th>\n",
       "      <th>c: LPA</th>\n",
       "      <th>c: MVPA</th>\n",
       "    </tr>\n",
       "  </thead>\n",
       "  <tbody>\n",
       "    <tr>\n",
       "      <th>s: sustained</th>\n",
       "      <td>0.987432</td>\n",
       "      <td>-0.466972</td>\n",
       "      <td>-0.467228</td>\n",
       "      <td>-0.357108</td>\n",
       "    </tr>\n",
       "    <tr>\n",
       "      <th>s: inactivity</th>\n",
       "      <td>-0.200373</td>\n",
       "      <td>0.924710</td>\n",
       "      <td>-0.660159</td>\n",
       "      <td>-0.643420</td>\n",
       "    </tr>\n",
       "    <tr>\n",
       "      <th>s: LPA</th>\n",
       "      <td>-0.596130</td>\n",
       "      <td>-0.162576</td>\n",
       "      <td>0.871432</td>\n",
       "      <td>0.421310</td>\n",
       "    </tr>\n",
       "    <tr>\n",
       "      <th>s: MVPA</th>\n",
       "      <td>-0.408362</td>\n",
       "      <td>-0.560576</td>\n",
       "      <td>0.716864</td>\n",
       "      <td>0.953346</td>\n",
       "    </tr>\n",
       "  </tbody>\n",
       "</table>\n",
       "</div>"
      ],
      "text/plain": [
       "               c: sustained  c: inactivity    c: LPA   c: MVPA\n",
       "s: sustained       0.987432      -0.466972 -0.467228 -0.357108\n",
       "s: inactivity     -0.200373       0.924710 -0.660159 -0.643420\n",
       "s: LPA            -0.596130      -0.162576  0.871432  0.421310\n",
       "s: MVPA           -0.408362      -0.560576  0.716864  0.953346"
      ]
     },
     "execution_count": 93,
     "metadata": {},
     "output_type": "execute_result"
    },
    {
     "data": {
      "image/png": "[encoded data removed]",
      "text/plain": [
       "<matplotlib.figure.Figure at 0x7f779452a590>"
      ]
     },
     "metadata": {},
     "output_type": "display_data"
    }
   ],
   "source": [
    "X_states_grouped = state_grouped.as_matrix()\n",
    "X_cutoff_grouped = cutoff_grouped.as_matrix()\n",
    "cor = np.zeros((X_states_grouped.shape[1], X_cutoff_grouped.shape[1]))\n",
    "\n",
    "for i in range(X_states_grouped.shape[1]):\n",
    "    for j in range(X_cutoff_grouped.shape[1]):\n",
    "        cor[i, j] = np.corrcoef(X_states_grouped[:,i], X_cutoff_grouped[:,j])[0,1]\n",
    "        \n",
    "cor_df = pd.DataFrame(cor)\n",
    "cor_df.columns = ['c: '+ x for x in cutoff_grouped.columns]\n",
    "cor_df.index = ['s: '+ x for x in state_grouped.columns]\n",
    "\n",
    "fig, axes = plt.subplots(2,1, figsize=(10,10))\n",
    "get_pcolorplot(cor, axes[0])\n",
    "get_pcolorplot(np.abs(cor), axes[1], plt.cm.Greys, 0, 1)\n",
    "cor_df"
   ]
  },
  {
   "cell_type": "code",
   "execution_count": null,
   "metadata": {
    "collapsed": true
   },
   "outputs": [],
   "source": []
  },
  {
   "cell_type": "code",
   "execution_count": null,
   "metadata": {
    "collapsed": true
   },
   "outputs": [],
   "source": []
  },
  {
   "cell_type": "code",
   "execution_count": null,
   "metadata": {
    "collapsed": true
   },
   "outputs": [],
   "source": []
  }
 ],
 "metadata": {
  "anaconda-cloud": {},
  "kernelspec": {
   "display_name": "Python [conda env:ucl2]",
   "language": "python",
   "name": "conda-env-ucl2-py"
  },
  "language_info": {
   "codemirror_mode": {
    "name": "ipython",
    "version": 2
   },
   "file_extension": ".py",
   "mimetype": "text/x-python",
   "name": "python",
   "nbconvert_exporter": "python",
   "pygments_lexer": "ipython2",
   "version": "2.7.12"
  }
 },
 "nbformat": 4,
 "nbformat_minor": 0
}
