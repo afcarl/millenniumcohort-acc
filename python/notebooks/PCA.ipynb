{
 "cells": [
  {
   "cell_type": "code",
   "execution_count": 1,
   "metadata": {
    "collapsed": true
   },
   "outputs": [],
   "source": [
    "%matplotlib inline"
   ]
  },
  {
   "cell_type": "code",
   "execution_count": 38,
   "metadata": {
    "collapsed": true
   },
   "outputs": [],
   "source": [
    "import sqlite3\n",
    "import os\n",
    "import pandas as pd\n",
    "import matplotlib.pyplot as plt\n",
    "import numpy as np"
   ]
  },
  {
   "cell_type": "code",
   "execution_count": 5,
   "metadata": {
    "collapsed": false
   },
   "outputs": [],
   "source": [
    "import sys\n",
    "sys.path.insert(0, os.path.abspath('..'))\n",
    "from milleniumcohort import create_config\n",
    "config = create_config('../config.yml')"
   ]
  },
  {
   "cell_type": "code",
   "execution_count": 6,
   "metadata": {
    "collapsed": false
   },
   "outputs": [],
   "source": [
    "conn = sqlite3.connect(os.path.join(config.model_path, 'milleniumcohort.db'))"
   ]
  },
  {
   "cell_type": "code",
   "execution_count": 7,
   "metadata": {
    "collapsed": true
   },
   "outputs": [],
   "source": [
    "state_times_long = pd.read_sql('Select filename, state, count(*) from data_with_states group by filename, state', conn)\n",
    "state_times = state_times_long.pivot('filename', 'state')"
   ]
  },
  {
   "cell_type": "code",
   "execution_count": 40,
   "metadata": {
    "collapsed": true
   },
   "outputs": [],
   "source": [
    "cutoff_times_long = pd.read_sql('Select filename, heuristic, count(*) from data_with_states group by filename, heuristic', conn)\n",
    "cutoff_times = cutoff_times_long.pivot('filename', 'heuristic')"
   ]
  },
  {
   "cell_type": "code",
   "execution_count": 13,
   "metadata": {
    "collapsed": true
   },
   "outputs": [],
   "source": [
    "total_5sec = state_times.sum(axis=1)\n",
    "state_times_norm = state_times.divide(total_5sec, axis='index')\n",
    "\n",
    "# Only take min 20 hours\n",
    "state_times_norm = state_times_norm[total_5sec>20*60*12]\n",
    "state_times_norm = state_times_norm.fillna(0)"
   ]
  },
  {
   "cell_type": "code",
   "execution_count": 41,
   "metadata": {
    "collapsed": false
   },
   "outputs": [],
   "source": [
    "total_5sec = cutoff_times.sum(axis=1)\n",
    "cutoff_times_norm = cutoff_times.divide(total_5sec, axis='index')\n",
    "\n",
    "# Only take min 20 hours\n",
    "cutoff_times_norm = cutoff_times_norm[total_5sec>20*60*12]\n",
    "cutoff_times_norm = cutoff_times_norm.fillna(0)"
   ]
  },
  {
   "cell_type": "code",
   "execution_count": 23,
   "metadata": {
    "collapsed": true
   },
   "outputs": [],
   "source": [
    "from sklearn.decomposition import PCA"
   ]
  },
  {
   "cell_type": "code",
   "execution_count": 43,
   "metadata": {
    "collapsed": false
   },
   "outputs": [
    {
     "name": "stdout",
     "output_type": "stream",
     "text": [
      "(1190, 10)\n"
     ]
    },
    {
     "data": {
      "text/plain": [
       "[<matplotlib.lines.Line2D at 0x7fa974c78750>]"
      ]
     },
     "execution_count": 43,
     "metadata": {},
     "output_type": "execute_result"
    },
    {
     "data": {
      "image/png": "[encoded data removed]",
      "text/plain": [
       "<matplotlib.figure.Figure at 0x7fa974d038d0>"
      ]
     },
     "metadata": {},
     "output_type": "display_data"
    }
   ],
   "source": [
    "X_states = state_times_norm.as_matrix()\n",
    "print(X_states.shape)\n",
    "pca = PCA(n_components=X_states.shape[1])\n",
    "pca.fit(X_states)\n",
    "plt.plot(np.cumsum(pca.explained_variance_ratio_))"
   ]
  },
  {
   "cell_type": "code",
   "execution_count": 45,
   "metadata": {
    "collapsed": false
   },
   "outputs": [
    {
     "name": "stdout",
     "output_type": "stream",
     "text": [
      "(1190, 7)\n"
     ]
    },
    {
     "data": {
      "text/plain": [
       "[<matplotlib.lines.Line2D at 0x7fa974bb3d90>]"
      ]
     },
     "execution_count": 45,
     "metadata": {},
     "output_type": "execute_result"
    },
    {
     "data": {
      "image/png": "[encoded data removed]",
      "text/plain": [
       "<matplotlib.figure.Figure at 0x7fa974c3f610>"
      ]
     },
     "metadata": {},
     "output_type": "display_data"
    }
   ],
   "source": [
    "X_cutoff = cutoff_times_norm.as_matrix()\n",
    "print(X_cutoff.shape)\n",
    "pca_cutoff = PCA(n_components=X_cutoff.shape[1])\n",
    "pca_cutoff.fit(X_cutoff)\n",
    "plt.plot(np.cumsum(pca_cutoff.explained_variance_ratio_))"
   ]
  },
  {
   "cell_type": "code",
   "execution_count": 64,
   "metadata": {
    "collapsed": false
   },
   "outputs": [],
   "source": [
    "cmap = plt.cm.get_cmap('coolwarm')"
   ]
  },
  {
   "cell_type": "code",
   "execution_count": 69,
   "metadata": {
    "collapsed": false
   },
   "outputs": [
    {
     "data": {
      "text/plain": [
       "array([[ 0.24809122,  0.32601302,  0.77766865,  1.        ],\n",
       "       [ 0.25723398,  0.33966055,  0.7896614 ,  1.        ],\n",
       "       [ 0.24351984,  0.31918926,  0.77167228,  1.        ]])"
      ]
     },
     "execution_count": 69,
     "metadata": {},
     "output_type": "execute_result"
    }
   ],
   "source": [
    "cmap([4,6,3])"
   ]
  },
  {
   "cell_type": "code",
   "execution_count": null,
   "metadata": {
    "collapsed": false
   },
   "outputs": [],
   "source": [
    "correlations_states = pd.DataFrame(np.corrcoef(X_states.transpose()))\n",
    "correlations_states.style.applymap(lambda v:  ['background-color: %s' % str(color) for color in cmap(v/256.0)])"
   ]
  },
  {
   "cell_type": "code",
   "execution_count": 52,
   "metadata": {
    "collapsed": false
   },
   "outputs": [
    {
     "data": {
      "text/html": [
       "<style  type=\"text/css\" >\n",
       "    #T_93ce558a_5287_11e7_9227_080027811109row0_col0 {\n",
       "            background-color:  #b40426;\n",
       "        }    #T_93ce558a_5287_11e7_9227_080027811109row0_col1 {\n",
       "            background-color:  #5e7de7;\n",
       "        }    #T_93ce558a_5287_11e7_9227_080027811109row0_col2 {\n",
       "            background-color:  #3b4cc0;\n",
       "        }    #T_93ce558a_5287_11e7_9227_080027811109row0_col3 {\n",
       "            background-color:  #485fd1;\n",
       "        }    #T_93ce558a_5287_11e7_9227_080027811109row0_col4 {\n",
       "            background-color:  #7ea1fa;\n",
       "        }    #T_93ce558a_5287_11e7_9227_080027811109row0_col5 {\n",
       "            background-color:  #5470de;\n",
       "        }    #T_93ce558a_5287_11e7_9227_080027811109row0_col6 {\n",
       "            background-color:  #89acfd;\n",
       "        }    #T_93ce558a_5287_11e7_9227_080027811109row1_col0 {\n",
       "            background-color:  #86a9fc;\n",
       "        }    #T_93ce558a_5287_11e7_9227_080027811109row1_col1 {\n",
       "            background-color:  #b40426;\n",
       "        }    #T_93ce558a_5287_11e7_9227_080027811109row1_col2 {\n",
       "            background-color:  #f29274;\n",
       "        }    #T_93ce558a_5287_11e7_9227_080027811109row1_col3 {\n",
       "            background-color:  #f7b093;\n",
       "        }    #T_93ce558a_5287_11e7_9227_080027811109row1_col4 {\n",
       "            background-color:  #a3c2fe;\n",
       "        }    #T_93ce558a_5287_11e7_9227_080027811109row1_col5 {\n",
       "            background-color:  #e5d8d1;\n",
       "        }    #T_93ce558a_5287_11e7_9227_080027811109row1_col6 {\n",
       "            background-color:  #3b4cc0;\n",
       "        }    #T_93ce558a_5287_11e7_9227_080027811109row2_col0 {\n",
       "            background-color:  #5977e3;\n",
       "        }    #T_93ce558a_5287_11e7_9227_080027811109row2_col1 {\n",
       "            background-color:  #f39778;\n",
       "        }    #T_93ce558a_5287_11e7_9227_080027811109row2_col2 {\n",
       "            background-color:  #b40426;\n",
       "        }    #T_93ce558a_5287_11e7_9227_080027811109row2_col3 {\n",
       "            background-color:  #d65244;\n",
       "        }    #T_93ce558a_5287_11e7_9227_080027811109row2_col4 {\n",
       "            background-color:  #b9d0f9;\n",
       "        }    #T_93ce558a_5287_11e7_9227_080027811109row2_col5 {\n",
       "            background-color:  #f7af91;\n",
       "        }    #T_93ce558a_5287_11e7_9227_080027811109row2_col6 {\n",
       "            background-color:  #3b4cc0;\n",
       "        }    #T_93ce558a_5287_11e7_9227_080027811109row3_col0 {\n",
       "            background-color:  #6687ed;\n",
       "        }    #T_93ce558a_5287_11e7_9227_080027811109row3_col1 {\n",
       "            background-color:  #f7b497;\n",
       "        }    #T_93ce558a_5287_11e7_9227_080027811109row3_col2 {\n",
       "            background-color:  #d65244;\n",
       "        }    #T_93ce558a_5287_11e7_9227_080027811109row3_col3 {\n",
       "            background-color:  #b40426;\n",
       "        }    #T_93ce558a_5287_11e7_9227_080027811109row3_col4 {\n",
       "            background-color:  #c9d7f0;\n",
       "        }    #T_93ce558a_5287_11e7_9227_080027811109row3_col5 {\n",
       "            background-color:  #ed8366;\n",
       "        }    #T_93ce558a_5287_11e7_9227_080027811109row3_col6 {\n",
       "            background-color:  #3b4cc0;\n",
       "        }    #T_93ce558a_5287_11e7_9227_080027811109row4_col0 {\n",
       "            background-color:  #4358cb;\n",
       "        }    #T_93ce558a_5287_11e7_9227_080027811109row4_col1 {\n",
       "            background-color:  #4358cb;\n",
       "        }    #T_93ce558a_5287_11e7_9227_080027811109row4_col2 {\n",
       "            background-color:  #6a8bef;\n",
       "        }    #T_93ce558a_5287_11e7_9227_080027811109row4_col3 {\n",
       "            background-color:  #84a7fc;\n",
       "        }    #T_93ce558a_5287_11e7_9227_080027811109row4_col4 {\n",
       "            background-color:  #b40426;\n",
       "        }    #T_93ce558a_5287_11e7_9227_080027811109row4_col5 {\n",
       "            background-color:  #bcd2f7;\n",
       "        }    #T_93ce558a_5287_11e7_9227_080027811109row4_col6 {\n",
       "            background-color:  #3b4cc0;\n",
       "        }    #T_93ce558a_5287_11e7_9227_080027811109row5_col0 {\n",
       "            background-color:  #516ddb;\n",
       "        }    #T_93ce558a_5287_11e7_9227_080027811109row5_col1 {\n",
       "            background-color:  #d2dbe8;\n",
       "        }    #T_93ce558a_5287_11e7_9227_080027811109row5_col2 {\n",
       "            background-color:  #f7ba9f;\n",
       "        }    #T_93ce558a_5287_11e7_9227_080027811109row5_col3 {\n",
       "            background-color:  #f18d6f;\n",
       "        }    #T_93ce558a_5287_11e7_9227_080027811109row5_col4 {\n",
       "            background-color:  #dcdddd;\n",
       "        }    #T_93ce558a_5287_11e7_9227_080027811109row5_col5 {\n",
       "            background-color:  #b40426;\n",
       "        }    #T_93ce558a_5287_11e7_9227_080027811109row5_col6 {\n",
       "            background-color:  #3b4cc0;\n",
       "        }    #T_93ce558a_5287_11e7_9227_080027811109row6_col0 {\n",
       "            background-color:  #adc9fd;\n",
       "        }    #T_93ce558a_5287_11e7_9227_080027811109row6_col1 {\n",
       "            background-color:  #3b4cc0;\n",
       "        }    #T_93ce558a_5287_11e7_9227_080027811109row6_col2 {\n",
       "            background-color:  #455cce;\n",
       "        }    #T_93ce558a_5287_11e7_9227_080027811109row6_col3 {\n",
       "            background-color:  #455cce;\n",
       "        }    #T_93ce558a_5287_11e7_9227_080027811109row6_col4 {\n",
       "            background-color:  #9dbdff;\n",
       "        }    #T_93ce558a_5287_11e7_9227_080027811109row6_col5 {\n",
       "            background-color:  #6687ed;\n",
       "        }    #T_93ce558a_5287_11e7_9227_080027811109row6_col6 {\n",
       "            background-color:  #b40426;\n",
       "        }</style>  \n",
       "<table id=\"T_93ce558a_5287_11e7_9227_080027811109\" > \n",
       "<thead>    <tr> \n",
       "        <th class=\"blank level0\" ></th> \n",
       "        <th class=\"col_heading level0 col0\" >0</th> \n",
       "        <th class=\"col_heading level0 col1\" >1</th> \n",
       "        <th class=\"col_heading level0 col2\" >2</th> \n",
       "        <th class=\"col_heading level0 col3\" >3</th> \n",
       "        <th class=\"col_heading level0 col4\" >4</th> \n",
       "        <th class=\"col_heading level0 col5\" >5</th> \n",
       "        <th class=\"col_heading level0 col6\" >6</th> \n",
       "    </tr></thead> \n",
       "<tbody>    <tr> \n",
       "        <th id=\"T_93ce558a_5287_11e7_9227_080027811109\" class=\"row_heading level0 row0\" >0</th> \n",
       "        <td id=\"T_93ce558a_5287_11e7_9227_080027811109row0_col0\" class=\"data row0 col0\" >1</td> \n",
       "        <td id=\"T_93ce558a_5287_11e7_9227_080027811109row0_col1\" class=\"data row0 col1\" >-0.301452</td> \n",
       "        <td id=\"T_93ce558a_5287_11e7_9227_080027811109row0_col2\" class=\"data row0 col2\" >-0.472309</td> \n",
       "        <td id=\"T_93ce558a_5287_11e7_9227_080027811109row0_col3\" class=\"data row0 col3\" >-0.407263</td> \n",
       "        <td id=\"T_93ce558a_5287_11e7_9227_080027811109row0_col4\" class=\"data row0 col4\" >-0.166039</td> \n",
       "        <td id=\"T_93ce558a_5287_11e7_9227_080027811109row0_col5\" class=\"data row0 col5\" >-0.349531</td> \n",
       "        <td id=\"T_93ce558a_5287_11e7_9227_080027811109row0_col6\" class=\"data row0 col6\" >-0.120458</td> \n",
       "    </tr>    <tr> \n",
       "        <th id=\"T_93ce558a_5287_11e7_9227_080027811109\" class=\"row_heading level0 row1\" >1</th> \n",
       "        <td id=\"T_93ce558a_5287_11e7_9227_080027811109row1_col0\" class=\"data row1 col0\" >-0.301452</td> \n",
       "        <td id=\"T_93ce558a_5287_11e7_9227_080027811109row1_col1\" class=\"data row1 col1\" >1</td> \n",
       "        <td id=\"T_93ce558a_5287_11e7_9227_080027811109row1_col2\" class=\"data row1 col2\" >0.603222</td> \n",
       "        <td id=\"T_93ce558a_5287_11e7_9227_080027811109row1_col3\" class=\"data row1 col3\" >0.473667</td> \n",
       "        <td id=\"T_93ce558a_5287_11e7_9227_080027811109row1_col4\" class=\"data row1 col4\" >-0.165442</td> \n",
       "        <td id=\"T_93ce558a_5287_11e7_9227_080027811109row1_col5\" class=\"data row1 col5\" >0.208035</td> \n",
       "        <td id=\"T_93ce558a_5287_11e7_9227_080027811109row1_col6\" class=\"data row1 col6\" >-0.697425</td> \n",
       "    </tr>    <tr> \n",
       "        <th id=\"T_93ce558a_5287_11e7_9227_080027811109\" class=\"row_heading level0 row2\" >2</th> \n",
       "        <td id=\"T_93ce558a_5287_11e7_9227_080027811109row2_col0\" class=\"data row2 col0\" >-0.472309</td> \n",
       "        <td id=\"T_93ce558a_5287_11e7_9227_080027811109row2_col1\" class=\"data row2 col1\" >0.603222</td> \n",
       "        <td id=\"T_93ce558a_5287_11e7_9227_080027811109row2_col2\" class=\"data row2 col2\" >1</td> \n",
       "        <td id=\"T_93ce558a_5287_11e7_9227_080027811109row2_col3\" class=\"data row2 col3\" >0.835129</td> \n",
       "        <td id=\"T_93ce558a_5287_11e7_9227_080027811109row2_col4\" class=\"data row2 col4\" >-0.0187434</td> \n",
       "        <td id=\"T_93ce558a_5287_11e7_9227_080027811109row2_col5\" class=\"data row2 col5\" >0.499556</td> \n",
       "        <td id=\"T_93ce558a_5287_11e7_9227_080027811109row2_col6\" class=\"data row2 col6\" >-0.633488</td> \n",
       "    </tr>    <tr> \n",
       "        <th id=\"T_93ce558a_5287_11e7_9227_080027811109\" class=\"row_heading level0 row3\" >3</th> \n",
       "        <td id=\"T_93ce558a_5287_11e7_9227_080027811109row3_col0\" class=\"data row3 col0\" >-0.407263</td> \n",
       "        <td id=\"T_93ce558a_5287_11e7_9227_080027811109row3_col1\" class=\"data row3 col1\" >0.473667</td> \n",
       "        <td id=\"T_93ce558a_5287_11e7_9227_080027811109row3_col2\" class=\"data row3 col2\" >0.835129</td> \n",
       "        <td id=\"T_93ce558a_5287_11e7_9227_080027811109row3_col3\" class=\"data row3 col3\" >1</td> \n",
       "        <td id=\"T_93ce558a_5287_11e7_9227_080027811109row3_col4\" class=\"data row3 col4\" >0.0680107</td> \n",
       "        <td id=\"T_93ce558a_5287_11e7_9227_080027811109row3_col5\" class=\"data row3 col5\" >0.67624</td> \n",
       "        <td id=\"T_93ce558a_5287_11e7_9227_080027811109row3_col6\" class=\"data row3 col6\" >-0.631378</td> \n",
       "    </tr>    <tr> \n",
       "        <th id=\"T_93ce558a_5287_11e7_9227_080027811109\" class=\"row_heading level0 row4\" >4</th> \n",
       "        <td id=\"T_93ce558a_5287_11e7_9227_080027811109row4_col0\" class=\"data row4 col0\" >-0.166039</td> \n",
       "        <td id=\"T_93ce558a_5287_11e7_9227_080027811109row4_col1\" class=\"data row4 col1\" >-0.165442</td> \n",
       "        <td id=\"T_93ce558a_5287_11e7_9227_080027811109row4_col2\" class=\"data row4 col2\" >-0.0187434</td> \n",
       "        <td id=\"T_93ce558a_5287_11e7_9227_080027811109row4_col3\" class=\"data row4 col3\" >0.0680107</td> \n",
       "        <td id=\"T_93ce558a_5287_11e7_9227_080027811109row4_col4\" class=\"data row4 col4\" >1</td> \n",
       "        <td id=\"T_93ce558a_5287_11e7_9227_080027811109row4_col5\" class=\"data row4 col5\" >0.267769</td> \n",
       "        <td id=\"T_93ce558a_5287_11e7_9227_080027811109row4_col6\" class=\"data row4 col6\" >-0.19922</td> \n",
       "    </tr>    <tr> \n",
       "        <th id=\"T_93ce558a_5287_11e7_9227_080027811109\" class=\"row_heading level0 row5\" >5</th> \n",
       "        <td id=\"T_93ce558a_5287_11e7_9227_080027811109row5_col0\" class=\"data row5 col0\" >-0.349531</td> \n",
       "        <td id=\"T_93ce558a_5287_11e7_9227_080027811109row5_col1\" class=\"data row5 col1\" >0.208035</td> \n",
       "        <td id=\"T_93ce558a_5287_11e7_9227_080027811109row5_col2\" class=\"data row5 col2\" >0.499556</td> \n",
       "        <td id=\"T_93ce558a_5287_11e7_9227_080027811109row5_col3\" class=\"data row5 col3\" >0.67624</td> \n",
       "        <td id=\"T_93ce558a_5287_11e7_9227_080027811109row5_col4\" class=\"data row5 col4\" >0.267769</td> \n",
       "        <td id=\"T_93ce558a_5287_11e7_9227_080027811109row5_col5\" class=\"data row5 col5\" >1</td> \n",
       "        <td id=\"T_93ce558a_5287_11e7_9227_080027811109row5_col6\" class=\"data row5 col6\" >-0.460695</td> \n",
       "    </tr>    <tr> \n",
       "        <th id=\"T_93ce558a_5287_11e7_9227_080027811109\" class=\"row_heading level0 row6\" >6</th> \n",
       "        <td id=\"T_93ce558a_5287_11e7_9227_080027811109row6_col0\" class=\"data row6 col0\" >-0.120458</td> \n",
       "        <td id=\"T_93ce558a_5287_11e7_9227_080027811109row6_col1\" class=\"data row6 col1\" >-0.697425</td> \n",
       "        <td id=\"T_93ce558a_5287_11e7_9227_080027811109row6_col2\" class=\"data row6 col2\" >-0.633488</td> \n",
       "        <td id=\"T_93ce558a_5287_11e7_9227_080027811109row6_col3\" class=\"data row6 col3\" >-0.631378</td> \n",
       "        <td id=\"T_93ce558a_5287_11e7_9227_080027811109row6_col4\" class=\"data row6 col4\" >-0.19922</td> \n",
       "        <td id=\"T_93ce558a_5287_11e7_9227_080027811109row6_col5\" class=\"data row6 col5\" >-0.460695</td> \n",
       "        <td id=\"T_93ce558a_5287_11e7_9227_080027811109row6_col6\" class=\"data row6 col6\" >1</td> \n",
       "    </tr></tbody> \n",
       "</table> "
      ],
      "text/plain": [
       "<pandas.io.formats.style.Styler at 0x7fa97347a610>"
      ]
     },
     "execution_count": 52,
     "metadata": {},
     "output_type": "execute_result"
    }
   ],
   "source": [
    "correlations_cutoff = pd.DataFrame(np.corrcoef(X_cutoff.transpose()))\n",
    "correlations_cutoff.style.background_gradient(cmap='coolwarm',axis=1)"
   ]
  },
  {
   "cell_type": "code",
   "execution_count": null,
   "metadata": {
    "collapsed": true
   },
   "outputs": [],
   "source": []
  }
 ],
 "metadata": {
  "anaconda-cloud": {},
  "kernelspec": {
   "display_name": "Python [conda env:ucl2]",
   "language": "python",
   "name": "conda-env-ucl2-py"
  },
  "language_info": {
   "codemirror_mode": {
    "name": "ipython",
    "version": 2
   },
   "file_extension": ".py",
   "mimetype": "text/x-python",
   "name": "python",
   "nbconvert_exporter": "python",
   "pygments_lexer": "ipython2",
   "version": "2.7.12"
  }
 },
 "nbformat": 4,
 "nbformat_minor": 0
}
