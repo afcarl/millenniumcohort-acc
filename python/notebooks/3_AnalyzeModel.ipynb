{
 "cells": [
  {
   "cell_type": "code",
   "execution_count": 2,
   "metadata": {
    "collapsed": false
   },
   "outputs": [],
   "source": [
    "%matplotlib inline\n",
    "%load_ext autoreload\n",
    "%autoreload 2\n",
    "import pandas as pd\n",
    "import os\n",
    "import numpy as np\n",
    "import matplotlib.pyplot as plt\n",
    "import sys"
   ]
  },
  {
   "cell_type": "code",
   "execution_count": 4,
   "metadata": {
    "collapsed": false
   },
   "outputs": [],
   "source": [
    "sys.path.insert(0, os.path.abspath('..'))\n",
    "from UKMovementSensing import hsmm\n",
    "from milleniumcohort import create_config"
   ]
  },
  {
   "cell_type": "code",
   "execution_count": 6,
   "metadata": {
    "collapsed": false
   },
   "outputs": [],
   "source": [
    "config = create_config('../config.yml')\n",
    "config.create_data_paths()"
   ]
  },
  {
   "cell_type": "markdown",
   "metadata": {},
   "source": [
    "## Load model"
   ]
  },
  {
   "cell_type": "code",
   "execution_count": 8,
   "metadata": {
    "collapsed": false
   },
   "outputs": [],
   "source": [
    "import pickle\n",
    "with open(config.model_file, 'r') as f:\n",
    "    model = pickle.load(file=f)"
   ]
  },
  {
   "cell_type": "code",
   "execution_count": 9,
   "metadata": {
    "collapsed": false
   },
   "outputs": [
    {
     "name": "stdout",
     "output_type": "stream",
     "text": [
      "{'mu': array([ 0.01504721]), 'sigma': array([[ 0.00096502]])}\n",
      "{'mu': array([ 0.0058569]), 'sigma': array([[ 0.0004863]])}\n",
      "{'mu': array([ 0.07824656]), 'sigma': array([[ 0.02387891]])}\n",
      "{'mu': array([ 0.04052145]), 'sigma': array([[ 0.00500122]])}\n"
     ]
    }
   ],
   "source": [
    "for o in model.obs_distns:\n",
    "    print(o.params)"
   ]
  },
  {
   "cell_type": "code",
   "execution_count": 11,
   "metadata": {
    "collapsed": false
   },
   "outputs": [
    {
     "data": {
      "text/html": [
       "\n",
       "        <style  type=\"text/css\" >\n",
       "        \n",
       "        \n",
       "            #T_c615a236_3965_11e7_bee5_080027811109row0_col0 {\n",
       "            \n",
       "                background-color:  #6282ea;\n",
       "            \n",
       "            }\n",
       "        \n",
       "            #T_c615a236_3965_11e7_bee5_080027811109row0_col1 {\n",
       "            \n",
       "                background-color:  #3b4cc0;\n",
       "            \n",
       "            }\n",
       "        \n",
       "            #T_c615a236_3965_11e7_bee5_080027811109row0_col2 {\n",
       "            \n",
       "                background-color:  #b40426;\n",
       "            \n",
       "            }\n",
       "        \n",
       "            #T_c615a236_3965_11e7_bee5_080027811109row0_col3 {\n",
       "            \n",
       "                background-color:  #d7dce3;\n",
       "            \n",
       "            }\n",
       "        \n",
       "        </style>\n",
       "\n",
       "        <table id=\"T_c615a236_3965_11e7_bee5_080027811109\" None>\n",
       "        \n",
       "\n",
       "        <thead>\n",
       "            \n",
       "            <tr>\n",
       "                \n",
       "                <th class=\"blank\">\n",
       "                \n",
       "                <th class=\"col_heading level0 col0\">0\n",
       "                \n",
       "                <th class=\"col_heading level0 col1\">1\n",
       "                \n",
       "                <th class=\"col_heading level0 col2\">2\n",
       "                \n",
       "                <th class=\"col_heading level0 col3\">3\n",
       "                \n",
       "            </tr>\n",
       "            \n",
       "        </thead>\n",
       "        <tbody>\n",
       "            \n",
       "            <tr>\n",
       "                \n",
       "                <th id=\"T_c615a236_3965_11e7_bee5_080027811109\" class=\"row_heading level3 row0\">\n",
       "                    acceleration\n",
       "                \n",
       "                <td id=\"T_c615a236_3965_11e7_bee5_080027811109row0_col0\" class=\"data row0 col0\">\n",
       "                    0.0150472\n",
       "                \n",
       "                <td id=\"T_c615a236_3965_11e7_bee5_080027811109row0_col1\" class=\"data row0 col1\">\n",
       "                    0.0058569\n",
       "                \n",
       "                <td id=\"T_c615a236_3965_11e7_bee5_080027811109row0_col2\" class=\"data row0 col2\">\n",
       "                    0.0782466\n",
       "                \n",
       "                <td id=\"T_c615a236_3965_11e7_bee5_080027811109row0_col3\" class=\"data row0 col3\">\n",
       "                    0.0405215\n",
       "                \n",
       "            </tr>\n",
       "            \n",
       "        </tbody>\n",
       "        </table>\n",
       "        "
      ],
      "text/plain": [
       "<pandas.core.style.Styler at 0x7fed0fa4c210>"
      ]
     },
     "execution_count": 11,
     "metadata": {},
     "output_type": "execute_result"
    }
   ],
   "source": [
    "means = pd.DataFrame([o.params['mu'] for o in model.obs_distns], columns=config.hsmmconfig.column_names)\n",
    "means.transpose().style.background_gradient(cmap='coolwarm',axis=1)"
   ]
  },
  {
   "cell_type": "code",
   "execution_count": 13,
   "metadata": {
    "collapsed": false
   },
   "outputs": [
    {
     "data": {
      "text/html": [
       "\n",
       "        <style  type=\"text/css\" >\n",
       "        \n",
       "        \n",
       "            #T_cc276ccc_3965_11e7_bee5_080027811109row0_col0 {\n",
       "            \n",
       "                background-color:  #4055c8;\n",
       "            \n",
       "            }\n",
       "        \n",
       "            #T_cc276ccc_3965_11e7_bee5_080027811109row0_col1 {\n",
       "            \n",
       "                background-color:  #3b4cc0;\n",
       "            \n",
       "            }\n",
       "        \n",
       "            #T_cc276ccc_3965_11e7_bee5_080027811109row0_col2 {\n",
       "            \n",
       "                background-color:  #b40426;\n",
       "            \n",
       "            }\n",
       "        \n",
       "            #T_cc276ccc_3965_11e7_bee5_080027811109row0_col3 {\n",
       "            \n",
       "                background-color:  #799cf8;\n",
       "            \n",
       "            }\n",
       "        \n",
       "        </style>\n",
       "\n",
       "        <table id=\"T_cc276ccc_3965_11e7_bee5_080027811109\" None>\n",
       "        \n",
       "\n",
       "        <thead>\n",
       "            \n",
       "            <tr>\n",
       "                \n",
       "                <th class=\"blank\">\n",
       "                \n",
       "                <th class=\"col_heading level0 col0\">0\n",
       "                \n",
       "                <th class=\"col_heading level0 col1\">1\n",
       "                \n",
       "                <th class=\"col_heading level0 col2\">2\n",
       "                \n",
       "                <th class=\"col_heading level0 col3\">3\n",
       "                \n",
       "            </tr>\n",
       "            \n",
       "        </thead>\n",
       "        <tbody>\n",
       "            \n",
       "            <tr>\n",
       "                \n",
       "                <th id=\"T_cc276ccc_3965_11e7_bee5_080027811109\" class=\"row_heading level3 row0\">\n",
       "                    acceleration\n",
       "                \n",
       "                <td id=\"T_cc276ccc_3965_11e7_bee5_080027811109row0_col0\" class=\"data row0 col0\">\n",
       "                    0.00096502\n",
       "                \n",
       "                <td id=\"T_cc276ccc_3965_11e7_bee5_080027811109row0_col1\" class=\"data row0 col1\">\n",
       "                    0.000486297\n",
       "                \n",
       "                <td id=\"T_cc276ccc_3965_11e7_bee5_080027811109row0_col2\" class=\"data row0 col2\">\n",
       "                    0.0238789\n",
       "                \n",
       "                <td id=\"T_cc276ccc_3965_11e7_bee5_080027811109row0_col3\" class=\"data row0 col3\">\n",
       "                    0.00500122\n",
       "                \n",
       "            </tr>\n",
       "            \n",
       "        </tbody>\n",
       "        </table>\n",
       "        "
      ],
      "text/plain": [
       "<pandas.core.style.Styler at 0x7fed0f35b150>"
      ]
     },
     "execution_count": 13,
     "metadata": {},
     "output_type": "execute_result"
    }
   ],
   "source": [
    "sigmas = pd.DataFrame([o.params['sigma'][0] for o in model.obs_distns], columns=config.hsmmconfig.column_names)\n",
    "sigmas.transpose().style.background_gradient(cmap='coolwarm',axis=1)"
   ]
  },
  {
   "cell_type": "code",
   "execution_count": 14,
   "metadata": {
    "collapsed": false
   },
   "outputs": [
    {
     "data": {
      "text/html": [
       "<div>\n",
       "<table border=\"1\" class=\"dataframe\">\n",
       "  <thead>\n",
       "    <tr style=\"text-align: right;\">\n",
       "      <th></th>\n",
       "      <th>0</th>\n",
       "      <th>1</th>\n",
       "      <th>2</th>\n",
       "      <th>3</th>\n",
       "    </tr>\n",
       "  </thead>\n",
       "  <tbody>\n",
       "    <tr>\n",
       "      <th>duration</th>\n",
       "      <td>374</td>\n",
       "      <td>336.151</td>\n",
       "      <td>348.541</td>\n",
       "      <td>343.16</td>\n",
       "    </tr>\n",
       "    <tr>\n",
       "      <th>duration_sec</th>\n",
       "      <td>1870 sec</td>\n",
       "      <td>1681 sec</td>\n",
       "      <td>1743 sec</td>\n",
       "      <td>1716 sec</td>\n",
       "    </tr>\n",
       "  </tbody>\n",
       "</table>\n",
       "</div>"
      ],
      "text/plain": [
       "                     0         1         2         3\n",
       "duration           374   336.151   348.541    343.16\n",
       "duration_sec  1870 sec  1681 sec  1743 sec  1716 sec"
      ]
     },
     "execution_count": 14,
     "metadata": {},
     "output_type": "execute_result"
    }
   ],
   "source": [
    "durations = pd.DataFrame([o.params['lmbda'] for o in model.dur_distns], columns=['duration'])\n",
    "durations['duration_sec'] = [\"{} sec\".format(int(round(x*5))) for x in durations['duration']]\n",
    "durations.transpose()"
   ]
  },
  {
   "cell_type": "code",
   "execution_count": 15,
   "metadata": {
    "collapsed": false
   },
   "outputs": [
    {
     "data": {
      "text/html": [
       "\n",
       "        <style  type=\"text/css\" >\n",
       "        \n",
       "        \n",
       "            #T_cde52c20_3965_11e7_bee5_080027811109row0_col0 {\n",
       "            \n",
       "                background-color:  #f7fcfd;\n",
       "            \n",
       "            }\n",
       "        \n",
       "            #T_cde52c20_3965_11e7_bee5_080027811109row0_col1 {\n",
       "            \n",
       "                background-color:  #00441b;\n",
       "            \n",
       "            }\n",
       "        \n",
       "            #T_cde52c20_3965_11e7_bee5_080027811109row0_col2 {\n",
       "            \n",
       "                background-color:  #78cab1;\n",
       "            \n",
       "            }\n",
       "        \n",
       "            #T_cde52c20_3965_11e7_bee5_080027811109row0_col3 {\n",
       "            \n",
       "                background-color:  #afe1d5;\n",
       "            \n",
       "            }\n",
       "        \n",
       "            #T_cde52c20_3965_11e7_bee5_080027811109row1_col0 {\n",
       "            \n",
       "                background-color:  #00441b;\n",
       "            \n",
       "            }\n",
       "        \n",
       "            #T_cde52c20_3965_11e7_bee5_080027811109row1_col1 {\n",
       "            \n",
       "                background-color:  #f7fcfd;\n",
       "            \n",
       "            }\n",
       "        \n",
       "            #T_cde52c20_3965_11e7_bee5_080027811109row1_col2 {\n",
       "            \n",
       "                background-color:  #e6f5f9;\n",
       "            \n",
       "            }\n",
       "        \n",
       "            #T_cde52c20_3965_11e7_bee5_080027811109row1_col3 {\n",
       "            \n",
       "                background-color:  #e7f6f9;\n",
       "            \n",
       "            }\n",
       "        \n",
       "            #T_cde52c20_3965_11e7_bee5_080027811109row2_col0 {\n",
       "            \n",
       "                background-color:  #38a367;\n",
       "            \n",
       "            }\n",
       "        \n",
       "            #T_cde52c20_3965_11e7_bee5_080027811109row2_col1 {\n",
       "            \n",
       "                background-color:  #f0f9fb;\n",
       "            \n",
       "            }\n",
       "        \n",
       "            #T_cde52c20_3965_11e7_bee5_080027811109row2_col2 {\n",
       "            \n",
       "                background-color:  #f7fcfd;\n",
       "            \n",
       "            }\n",
       "        \n",
       "            #T_cde52c20_3965_11e7_bee5_080027811109row2_col3 {\n",
       "            \n",
       "                background-color:  #00441b;\n",
       "            \n",
       "            }\n",
       "        \n",
       "            #T_cde52c20_3965_11e7_bee5_080027811109row3_col0 {\n",
       "            \n",
       "                background-color:  #59bb93;\n",
       "            \n",
       "            }\n",
       "        \n",
       "            #T_cde52c20_3965_11e7_bee5_080027811109row3_col1 {\n",
       "            \n",
       "                background-color:  #f7fcfd;\n",
       "            \n",
       "            }\n",
       "        \n",
       "            #T_cde52c20_3965_11e7_bee5_080027811109row3_col2 {\n",
       "            \n",
       "                background-color:  #00441b;\n",
       "            \n",
       "            }\n",
       "        \n",
       "            #T_cde52c20_3965_11e7_bee5_080027811109row3_col3 {\n",
       "            \n",
       "                background-color:  #f7fcfd;\n",
       "            \n",
       "            }\n",
       "        \n",
       "        </style>\n",
       "\n",
       "        <table id=\"T_cde52c20_3965_11e7_bee5_080027811109\" None>\n",
       "        \n",
       "\n",
       "        <thead>\n",
       "            \n",
       "            <tr>\n",
       "                \n",
       "                <th class=\"blank\">\n",
       "                \n",
       "                <th class=\"col_heading level0 col0\">0\n",
       "                \n",
       "                <th class=\"col_heading level0 col1\">1\n",
       "                \n",
       "                <th class=\"col_heading level0 col2\">2\n",
       "                \n",
       "                <th class=\"col_heading level0 col3\">3\n",
       "                \n",
       "            </tr>\n",
       "            \n",
       "        </thead>\n",
       "        <tbody>\n",
       "            \n",
       "            <tr>\n",
       "                \n",
       "                <th id=\"T_cde52c20_3965_11e7_bee5_080027811109\" class=\"row_heading level3 row0\">\n",
       "                    0\n",
       "                \n",
       "                <td id=\"T_cde52c20_3965_11e7_bee5_080027811109row0_col0\" class=\"data row0 col0\">\n",
       "                    0\n",
       "                \n",
       "                <td id=\"T_cde52c20_3965_11e7_bee5_080027811109row0_col1\" class=\"data row0 col1\">\n",
       "                    0.651232\n",
       "                \n",
       "                <td id=\"T_cde52c20_3965_11e7_bee5_080027811109row0_col2\" class=\"data row0 col2\">\n",
       "                    0.230001\n",
       "                \n",
       "                <td id=\"T_cde52c20_3965_11e7_bee5_080027811109row0_col3\" class=\"data row0 col3\">\n",
       "                    0.118767\n",
       "                \n",
       "            </tr>\n",
       "            \n",
       "            <tr>\n",
       "                \n",
       "                <th id=\"T_cde52c20_3965_11e7_bee5_080027811109\" class=\"row_heading level3 row1\">\n",
       "                    1\n",
       "                \n",
       "                <td id=\"T_cde52c20_3965_11e7_bee5_080027811109row1_col0\" class=\"data row1 col0\">\n",
       "                    0.899491\n",
       "                \n",
       "                <td id=\"T_cde52c20_3965_11e7_bee5_080027811109row1_col1\" class=\"data row1 col1\">\n",
       "                    0\n",
       "                \n",
       "                <td id=\"T_cde52c20_3965_11e7_bee5_080027811109row1_col2\" class=\"data row1 col2\">\n",
       "                    0.0596752\n",
       "                \n",
       "                <td id=\"T_cde52c20_3965_11e7_bee5_080027811109row1_col3\" class=\"data row1 col3\">\n",
       "                    0.0408337\n",
       "                \n",
       "            </tr>\n",
       "            \n",
       "            <tr>\n",
       "                \n",
       "                <th id=\"T_cde52c20_3965_11e7_bee5_080027811109\" class=\"row_heading level3 row2\">\n",
       "                    2\n",
       "                \n",
       "                <td id=\"T_cde52c20_3965_11e7_bee5_080027811109row2_col0\" class=\"data row2 col0\">\n",
       "                    0.595878\n",
       "                \n",
       "                <td id=\"T_cde52c20_3965_11e7_bee5_080027811109row2_col1\" class=\"data row2 col1\">\n",
       "                    0.0350475\n",
       "                \n",
       "                <td id=\"T_cde52c20_3965_11e7_bee5_080027811109row2_col2\" class=\"data row2 col2\">\n",
       "                    0\n",
       "                \n",
       "                <td id=\"T_cde52c20_3965_11e7_bee5_080027811109row2_col3\" class=\"data row2 col3\">\n",
       "                    0.369074\n",
       "                \n",
       "            </tr>\n",
       "            \n",
       "            <tr>\n",
       "                \n",
       "                <th id=\"T_cde52c20_3965_11e7_bee5_080027811109\" class=\"row_heading level3 row3\">\n",
       "                    3\n",
       "                \n",
       "                <td id=\"T_cde52c20_3965_11e7_bee5_080027811109row3_col0\" class=\"data row3 col0\">\n",
       "                    0.491894\n",
       "                \n",
       "                <td id=\"T_cde52c20_3965_11e7_bee5_080027811109row3_col1\" class=\"data row3 col1\">\n",
       "                    0.00172149\n",
       "                \n",
       "                <td id=\"T_cde52c20_3965_11e7_bee5_080027811109row3_col2\" class=\"data row3 col2\">\n",
       "                    0.506385\n",
       "                \n",
       "                <td id=\"T_cde52c20_3965_11e7_bee5_080027811109row3_col3\" class=\"data row3 col3\">\n",
       "                    0\n",
       "                \n",
       "            </tr>\n",
       "            \n",
       "        </tbody>\n",
       "        </table>\n",
       "        "
      ],
      "text/plain": [
       "<pandas.core.style.Styler at 0x7fed0f31c650>"
      ]
     },
     "execution_count": 15,
     "metadata": {},
     "output_type": "execute_result"
    }
   ],
   "source": [
    "# Transition probablilites\n",
    "pd.DataFrame(model.trans_distn.trans_matrix).style.background_gradient(cmap='BuGn')"
   ]
  },
  {
   "cell_type": "code",
   "execution_count": 16,
   "metadata": {
    "collapsed": false
   },
   "outputs": [],
   "source": [
    "concat = pd.concat([means, sigmas], axis=1, keys=['mean', 'sigma'])\n",
    "concat = concat.reorder_levels(order=[1,0], axis=1)\n",
    "concat[('duration', 'lmbda')] = durations['duration_sec']"
   ]
  },
  {
   "cell_type": "code",
   "execution_count": 17,
   "metadata": {
    "collapsed": false
   },
   "outputs": [
    {
     "data": {
      "text/html": [
       "<div>\n",
       "<table border=\"1\" class=\"dataframe\">\n",
       "  <thead>\n",
       "    <tr>\n",
       "      <th></th>\n",
       "      <th colspan=\"2\" halign=\"left\">acceleration</th>\n",
       "      <th>duration</th>\n",
       "    </tr>\n",
       "    <tr>\n",
       "      <th></th>\n",
       "      <th>mean</th>\n",
       "      <th>sigma</th>\n",
       "      <th>lmbda</th>\n",
       "    </tr>\n",
       "  </thead>\n",
       "  <tbody>\n",
       "    <tr>\n",
       "      <th>0</th>\n",
       "      <td>0.015047</td>\n",
       "      <td>0.000965</td>\n",
       "      <td>1870 sec</td>\n",
       "    </tr>\n",
       "    <tr>\n",
       "      <th>1</th>\n",
       "      <td>0.005857</td>\n",
       "      <td>0.000486</td>\n",
       "      <td>1681 sec</td>\n",
       "    </tr>\n",
       "    <tr>\n",
       "      <th>2</th>\n",
       "      <td>0.078247</td>\n",
       "      <td>0.023879</td>\n",
       "      <td>1743 sec</td>\n",
       "    </tr>\n",
       "    <tr>\n",
       "      <th>3</th>\n",
       "      <td>0.040521</td>\n",
       "      <td>0.005001</td>\n",
       "      <td>1716 sec</td>\n",
       "    </tr>\n",
       "  </tbody>\n",
       "</table>\n",
       "</div>"
      ],
      "text/plain": [
       "  acceleration            duration\n",
       "          mean     sigma     lmbda\n",
       "0     0.015047  0.000965  1870 sec\n",
       "1     0.005857  0.000486  1681 sec\n",
       "2     0.078247  0.023879  1743 sec\n",
       "3     0.040521  0.005001  1716 sec"
      ]
     },
     "execution_count": 17,
     "metadata": {},
     "output_type": "execute_result"
    }
   ],
   "source": [
    "concat"
   ]
  },
  {
   "cell_type": "code",
   "execution_count": 18,
   "metadata": {
    "collapsed": true
   },
   "outputs": [],
   "source": [
    "concat.transpose().to_clipboard()"
   ]
  },
  {
   "cell_type": "code",
   "execution_count": null,
   "metadata": {
    "collapsed": true
   },
   "outputs": [],
   "source": []
  }
 ],
 "metadata": {
  "anaconda-cloud": {},
  "kernelspec": {
   "display_name": "Python [default]",
   "language": "python",
   "name": "python2"
  },
  "language_info": {
   "codemirror_mode": {
    "name": "ipython",
    "version": 2
   },
   "file_extension": ".py",
   "mimetype": "text/x-python",
   "name": "python",
   "nbconvert_exporter": "python",
   "pygments_lexer": "ipython2",
   "version": "2.7.11"
  }
 },
 "nbformat": 4,
 "nbformat_minor": 0
}
