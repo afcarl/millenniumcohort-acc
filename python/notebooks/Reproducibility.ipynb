{
 "cells": [
  {
   "cell_type": "code",
   "execution_count": 1,
   "metadata": {
    "collapsed": true
   },
   "outputs": [],
   "source": [
    "%matplotlib inline\n",
    "%load_ext autoreload\n",
    "%autoreload 2\n",
    "import pandas as pd\n",
    "import os\n",
    "import numpy as np\n",
    "import matplotlib.pyplot as plt\n",
    "import sys"
   ]
  },
  {
   "cell_type": "code",
   "execution_count": 2,
   "metadata": {
    "collapsed": true
   },
   "outputs": [],
   "source": [
    "sys.path.insert(0, os.path.abspath('..'))\n",
    "from UKMovementSensing import hsmm\n",
    "from milleniumcohort import create_config"
   ]
  },
  {
   "cell_type": "code",
   "execution_count": 3,
   "metadata": {
    "collapsed": true
   },
   "outputs": [],
   "source": [
    "config = create_config('../config.yml')\n",
    "config.create_data_paths()"
   ]
  },
  {
   "cell_type": "code",
   "execution_count": 5,
   "metadata": {
    "collapsed": true
   },
   "outputs": [],
   "source": [
    "model_file_orig = '/media/sf_VBox_Shared/London/CLSdata500/results/mod_10st_0b_15r_720t_acceleration/model.pkl'\n",
    "model_file_sub = '/media/sf_VBox_Shared/London/CLSdata250/results/mod_10st_0b_15r_720t_acceleration/model.pkl'"
   ]
  },
  {
   "cell_type": "code",
   "execution_count": 6,
   "metadata": {
    "collapsed": false
   },
   "outputs": [],
   "source": [
    "import pickle\n",
    "with open(model_file_orig, 'r') as f:\n",
    "    model_orig = pickle.load(file=f)\n",
    "    \n",
    "with open(model_file_sub, 'r') as f:\n",
    "    model_sub = pickle.load(file=f)"
   ]
  },
  {
   "cell_type": "code",
   "execution_count": 63,
   "metadata": {
    "collapsed": false
   },
   "outputs": [],
   "source": [
    "params_orig = pd.DataFrame([[o.params['mu'][0]*1000 for o in model_orig.obs_distns],\n",
    "              [o.params['sigma'][0][0]*1000 for o in model_orig.obs_distns]]).transpose().reset_index()\n",
    "params_orig.columns = ['state', 'mean', 'sigma']\n",
    "\n",
    "params_sub = pd.DataFrame([[o.params['mu'][0]*1000 for o in model_sub.obs_distns],\n",
    "              [o.params['sigma'][0][0]*1000 for o in model_sub.obs_distns]]).transpose().reset_index()\n",
    "params_sub.columns = ['state', 'mean', 'sigma']"
   ]
  },
  {
   "cell_type": "code",
   "execution_count": 65,
   "metadata": {
    "collapsed": false
   },
   "outputs": [],
   "source": [
    "params_orig = params_orig.sort_values('mean')\n",
    "params_orig.index = range(len(params_orig))"
   ]
  },
  {
   "cell_type": "code",
   "execution_count": 66,
   "metadata": {
    "collapsed": false
   },
   "outputs": [],
   "source": [
    "params_sub = params_sub.sort_values('mean')\n",
    "params_sub.index = range(len(params_sub))"
   ]
  },
  {
   "cell_type": "code",
   "execution_count": 67,
   "metadata": {
    "collapsed": false
   },
   "outputs": [
    {
     "data": {
      "text/html": [
       "<div>\n",
       "<table border=\"1\" class=\"dataframe\">\n",
       "  <thead>\n",
       "    <tr>\n",
       "      <th></th>\n",
       "      <th colspan=\"3\" halign=\"left\">orig</th>\n",
       "      <th colspan=\"3\" halign=\"left\">sub</th>\n",
       "    </tr>\n",
       "    <tr>\n",
       "      <th></th>\n",
       "      <th>state</th>\n",
       "      <th>mean</th>\n",
       "      <th>sigma</th>\n",
       "      <th>state</th>\n",
       "      <th>mean</th>\n",
       "      <th>sigma</th>\n",
       "    </tr>\n",
       "  </thead>\n",
       "  <tbody>\n",
       "    <tr>\n",
       "      <th>0</th>\n",
       "      <td>5</td>\n",
       "      <td>0.016563</td>\n",
       "      <td>0.000247</td>\n",
       "      <td>1</td>\n",
       "      <td>0.039983</td>\n",
       "      <td>0.000496</td>\n",
       "    </tr>\n",
       "    <tr>\n",
       "      <th>1</th>\n",
       "      <td>6</td>\n",
       "      <td>5.224012</td>\n",
       "      <td>0.017303</td>\n",
       "      <td>2</td>\n",
       "      <td>5.808443</td>\n",
       "      <td>0.022846</td>\n",
       "    </tr>\n",
       "    <tr>\n",
       "      <th>2</th>\n",
       "      <td>8</td>\n",
       "      <td>18.955417</td>\n",
       "      <td>0.251233</td>\n",
       "      <td>0</td>\n",
       "      <td>20.978779</td>\n",
       "      <td>0.252522</td>\n",
       "    </tr>\n",
       "    <tr>\n",
       "      <th>3</th>\n",
       "      <td>9</td>\n",
       "      <td>35.370388</td>\n",
       "      <td>0.906046</td>\n",
       "      <td>9</td>\n",
       "      <td>29.143078</td>\n",
       "      <td>0.585609</td>\n",
       "    </tr>\n",
       "    <tr>\n",
       "      <th>4</th>\n",
       "      <td>0</td>\n",
       "      <td>46.900395</td>\n",
       "      <td>0.639371</td>\n",
       "      <td>3</td>\n",
       "      <td>63.189587</td>\n",
       "      <td>1.526341</td>\n",
       "    </tr>\n",
       "    <tr>\n",
       "      <th>5</th>\n",
       "      <td>7</td>\n",
       "      <td>78.407262</td>\n",
       "      <td>4.107857</td>\n",
       "      <td>7</td>\n",
       "      <td>71.372049</td>\n",
       "      <td>3.268943</td>\n",
       "    </tr>\n",
       "    <tr>\n",
       "      <th>6</th>\n",
       "      <td>4</td>\n",
       "      <td>87.347681</td>\n",
       "      <td>2.112939</td>\n",
       "      <td>8</td>\n",
       "      <td>88.824289</td>\n",
       "      <td>2.485879</td>\n",
       "    </tr>\n",
       "    <tr>\n",
       "      <th>7</th>\n",
       "      <td>3</td>\n",
       "      <td>100.141043</td>\n",
       "      <td>4.148632</td>\n",
       "      <td>4</td>\n",
       "      <td>104.392948</td>\n",
       "      <td>4.548113</td>\n",
       "    </tr>\n",
       "    <tr>\n",
       "      <th>8</th>\n",
       "      <td>2</td>\n",
       "      <td>172.369195</td>\n",
       "      <td>9.846896</td>\n",
       "      <td>5</td>\n",
       "      <td>199.503537</td>\n",
       "      <td>13.513618</td>\n",
       "    </tr>\n",
       "    <tr>\n",
       "      <th>9</th>\n",
       "      <td>1</td>\n",
       "      <td>483.348122</td>\n",
       "      <td>226.759184</td>\n",
       "      <td>6</td>\n",
       "      <td>547.683055</td>\n",
       "      <td>273.429208</td>\n",
       "    </tr>\n",
       "  </tbody>\n",
       "</table>\n",
       "</div>"
      ],
      "text/plain": [
       "   orig                           sub                        \n",
       "  state        mean       sigma state        mean       sigma\n",
       "0     5    0.016563    0.000247     1    0.039983    0.000496\n",
       "1     6    5.224012    0.017303     2    5.808443    0.022846\n",
       "2     8   18.955417    0.251233     0   20.978779    0.252522\n",
       "3     9   35.370388    0.906046     9   29.143078    0.585609\n",
       "4     0   46.900395    0.639371     3   63.189587    1.526341\n",
       "5     7   78.407262    4.107857     7   71.372049    3.268943\n",
       "6     4   87.347681    2.112939     8   88.824289    2.485879\n",
       "7     3  100.141043    4.148632     4  104.392948    4.548113\n",
       "8     2  172.369195    9.846896     5  199.503537   13.513618\n",
       "9     1  483.348122  226.759184     6  547.683055  273.429208"
      ]
     },
     "execution_count": 67,
     "metadata": {},
     "output_type": "execute_result"
    }
   ],
   "source": [
    "params = pd.concat([params_orig, params_sub], axis=1, keys=['orig', 'sub'])\n",
    "params"
   ]
  },
  {
   "cell_type": "code",
   "execution_count": 68,
   "metadata": {
    "collapsed": false
   },
   "outputs": [
    {
     "data": {
      "image/png": "[encoded data removed]",
      "text/plain": [
       "<matplotlib.figure.Figure at 0x7f52a5f50a90>"
      ]
     },
     "metadata": {},
     "output_type": "display_data"
    }
   ],
   "source": [
    "maxval = 800\n",
    "plt.figure()\n",
    "plt.errorbar(x=params_orig['mean'], y=params_sub['mean'],\n",
    "             xerr=params_orig['sigma'], yerr=params_sub['sigma'], \n",
    "             fmt='o', ecolor='r')\n",
    "plt.plot(range(maxval), range(maxval))\n",
    "plt.xlim(0, maxval)\n",
    "plt.ylim(0, maxval)\n",
    "plt.show()"
   ]
  },
  {
   "cell_type": "code",
   "execution_count": 69,
   "metadata": {
    "collapsed": false
   },
   "outputs": [
    {
     "data": {
      "text/plain": [
       "<matplotlib.collections.PathCollection at 0x7f52a5e80c50>"
      ]
     },
     "execution_count": 69,
     "metadata": {},
     "output_type": "execute_result"
    },
    {
     "data": {
      "image/png": "[encoded data removed]",
      "text/plain": [
       "<matplotlib.figure.Figure at 0x7f52a6169b50>"
      ]
     },
     "metadata": {},
     "output_type": "display_data"
    }
   ],
   "source": [
    "diff = params_orig['mean'] - params_sub['mean']\n",
    "avg = 0.5 * (params_orig['mean'] + params_sub['mean'])\n",
    "plt.scatter(avg, diff)"
   ]
  },
  {
   "cell_type": "code",
   "execution_count": 71,
   "metadata": {
    "collapsed": false
   },
   "outputs": [
    {
     "data": {
      "text/plain": [
       "0    94.897847\n",
       "1    33.775745\n",
       "2     8.053741\n",
       "3    -6.873060\n",
       "4    25.476891\n",
       "5    -1.712624\n",
       "6     0.698841\n",
       "7     1.024894\n",
       "8     2.755624\n",
       "9     0.283715\n",
       "dtype: float64"
      ]
     },
     "execution_count": 71,
     "metadata": {},
     "output_type": "execute_result"
    }
   ],
   "source": [
    "n_orig = 500\n",
    "n_sub = 1 # 250\n",
    "SE = params_orig['sigma'] / np.sqrt(n_sub)\n",
    "z = (params_sub['mean'] - params_orig['mean']) / SE\n",
    "z"
   ]
  },
  {
   "cell_type": "markdown",
   "metadata": {},
   "source": [
    "# Reproduce states on these 250"
   ]
  },
  {
   "cell_type": "code",
   "execution_count": 82,
   "metadata": {
    "collapsed": true
   },
   "outputs": [],
   "source": [
    "# Import data with states\n",
    "filenames = os.listdir(config.states_path)\n",
    "filenames = [fn for fn in filenames if os.path.isfile(os.path.join(config.states_path,fn))]"
   ]
  },
  {
   "cell_type": "code",
   "execution_count": 83,
   "metadata": {
    "collapsed": true
   },
   "outputs": [],
   "source": [
    "data_list = []\n",
    "# Should be: acc, state1, state2"
   ]
  },
  {
   "cell_type": "code",
   "execution_count": 84,
   "metadata": {
    "collapsed": false
   },
   "outputs": [
    {
     "ename": "KeyboardInterrupt",
     "evalue": "",
     "output_type": "error",
     "traceback": [
      "\u001b[0;31m---------------------------------------------------------------------------\u001b[0m",
      "\u001b[0;31mKeyboardInterrupt\u001b[0m                         Traceback (most recent call last)",
      "\u001b[0;32m<ipython-input-84-6bd87377945b>\u001b[0m in \u001b[0;36m<module>\u001b[0;34m()\u001b[0m\n\u001b[1;32m      4\u001b[0m                           parse_dates=True)\n\u001b[1;32m      5\u001b[0m     \u001b[0mX\u001b[0m \u001b[0;34m=\u001b[0m \u001b[0mdataset\u001b[0m\u001b[0;34m[\u001b[0m\u001b[0mconfig\u001b[0m\u001b[0;34m.\u001b[0m\u001b[0mhsmmconfig\u001b[0m\u001b[0;34m.\u001b[0m\u001b[0mcolumn_names\u001b[0m\u001b[0;34m]\u001b[0m\u001b[0;34m.\u001b[0m\u001b[0mas_matrix\u001b[0m\u001b[0;34m(\u001b[0m\u001b[0;34m)\u001b[0m\u001b[0;34m\u001b[0m\u001b[0m\n\u001b[0;32m----> 6\u001b[0;31m     \u001b[0mprediction\u001b[0m \u001b[0;34m=\u001b[0m \u001b[0mmodel_orig\u001b[0m\u001b[0;34m.\u001b[0m\u001b[0mpredict\u001b[0m\u001b[0;34m(\u001b[0m\u001b[0mX\u001b[0m\u001b[0;34m,\u001b[0m \u001b[0;36m0\u001b[0m\u001b[0;34m)\u001b[0m\u001b[0;34m\u001b[0m\u001b[0m\n\u001b[0m\u001b[1;32m      7\u001b[0m     \u001b[0mdataset\u001b[0m\u001b[0;34m[\u001b[0m\u001b[0;34m'state_orig'\u001b[0m\u001b[0;34m]\u001b[0m \u001b[0;34m=\u001b[0m \u001b[0mprediction\u001b[0m\u001b[0;34m[\u001b[0m\u001b[0;36m1\u001b[0m\u001b[0;34m]\u001b[0m\u001b[0;34m\u001b[0m\u001b[0m\n\u001b[1;32m      8\u001b[0m     \u001b[0mdata_list\u001b[0m\u001b[0;34m.\u001b[0m\u001b[0mappend\u001b[0m\u001b[0;34m(\u001b[0m\u001b[0mdataset\u001b[0m\u001b[0;34m[\u001b[0m\u001b[0;34m[\u001b[0m\u001b[0;34m'acceleration'\u001b[0m\u001b[0;34m,\u001b[0m \u001b[0;34m'state'\u001b[0m\u001b[0;34m,\u001b[0m \u001b[0;34m'state_orig'\u001b[0m\u001b[0;34m]\u001b[0m\u001b[0;34m]\u001b[0m\u001b[0;34m)\u001b[0m\u001b[0;34m\u001b[0m\u001b[0m\n",
      "\u001b[0;32m/home/dafne/anaconda2/envs/ucl2/lib/python2.7/site-packages/pyhsmm/models.pyc\u001b[0m in \u001b[0;36mpredict\u001b[0;34m(self, seed_data, timesteps, **kwargs)\u001b[0m\n\u001b[1;32m    118\u001b[0m         \u001b[0mself\u001b[0m\u001b[0;34m.\u001b[0m\u001b[0madd_data\u001b[0m\u001b[0;34m(\u001b[0m\u001b[0mfull_data\u001b[0m\u001b[0;34m,\u001b[0m\u001b[0;34m**\u001b[0m\u001b[0mkwargs\u001b[0m\u001b[0;34m)\u001b[0m\u001b[0;34m\u001b[0m\u001b[0m\n\u001b[1;32m    119\u001b[0m         \u001b[0ms\u001b[0m \u001b[0;34m=\u001b[0m \u001b[0mself\u001b[0m\u001b[0;34m.\u001b[0m\u001b[0mstates_list\u001b[0m\u001b[0;34m.\u001b[0m\u001b[0mpop\u001b[0m\u001b[0;34m(\u001b[0m\u001b[0;34m)\u001b[0m\u001b[0;34m\u001b[0m\u001b[0m\n\u001b[0;32m--> 120\u001b[0;31m         \u001b[0ms\u001b[0m\u001b[0;34m.\u001b[0m\u001b[0mresample\u001b[0m\u001b[0;34m(\u001b[0m\u001b[0;34m)\u001b[0m  \u001b[0;31m# fills in states\u001b[0m\u001b[0;34m\u001b[0m\u001b[0m\n\u001b[0m\u001b[1;32m    121\u001b[0m         \u001b[0;32mreturn\u001b[0m \u001b[0mself\u001b[0m\u001b[0;34m.\u001b[0m\u001b[0m_generate_obs\u001b[0m\u001b[0;34m(\u001b[0m\u001b[0ms\u001b[0m\u001b[0;34m)\u001b[0m\u001b[0;34m,\u001b[0m \u001b[0ms\u001b[0m\u001b[0;34m.\u001b[0m\u001b[0mstateseq\u001b[0m  \u001b[0;31m# fills in nan obs\u001b[0m\u001b[0;34m\u001b[0m\u001b[0m\n\u001b[1;32m    122\u001b[0m \u001b[0;34m\u001b[0m\u001b[0m\n",
      "\u001b[0;32m/home/dafne/anaconda2/envs/ucl2/lib/python2.7/site-packages/pyhsmm/internals/hsmm_states.pyc\u001b[0m in \u001b[0;36mresample\u001b[0;34m(self)\u001b[0m\n\u001b[1;32m    323\u001b[0m \u001b[0;34m\u001b[0m\u001b[0m\n\u001b[1;32m    324\u001b[0m     \u001b[0;32mdef\u001b[0m \u001b[0mresample\u001b[0m\u001b[0;34m(\u001b[0m\u001b[0mself\u001b[0m\u001b[0;34m)\u001b[0m\u001b[0;34m:\u001b[0m\u001b[0;34m\u001b[0m\u001b[0m\n\u001b[0;32m--> 325\u001b[0;31m         \u001b[0mbetal\u001b[0m\u001b[0;34m,\u001b[0m \u001b[0mbetastarl\u001b[0m \u001b[0;34m=\u001b[0m \u001b[0mself\u001b[0m\u001b[0;34m.\u001b[0m\u001b[0mmessages_backwards\u001b[0m\u001b[0;34m(\u001b[0m\u001b[0;34m)\u001b[0m\u001b[0;34m\u001b[0m\u001b[0m\n\u001b[0m\u001b[1;32m    326\u001b[0m         \u001b[0mself\u001b[0m\u001b[0;34m.\u001b[0m\u001b[0msample_forwards\u001b[0m\u001b[0;34m(\u001b[0m\u001b[0mbetal\u001b[0m\u001b[0;34m,\u001b[0m\u001b[0mbetastarl\u001b[0m\u001b[0;34m)\u001b[0m\u001b[0;34m\u001b[0m\u001b[0m\n\u001b[1;32m    327\u001b[0m \u001b[0;34m\u001b[0m\u001b[0m\n",
      "\u001b[0;32m/home/dafne/anaconda2/envs/ucl2/lib/python2.7/site-packages/pyhsmm/internals/hsmm_states.pyc\u001b[0m in \u001b[0;36mmessages_backwards\u001b[0;34m(self)\u001b[0m\n\u001b[1;32m    505\u001b[0m                 \u001b[0mnp\u001b[0m\u001b[0;34m.\u001b[0m\u001b[0mmaximum\u001b[0m\u001b[0;34m(\u001b[0m\u001b[0mself\u001b[0m\u001b[0;34m.\u001b[0m\u001b[0mtrans_matrix\u001b[0m\u001b[0;34m,\u001b[0m\u001b[0;36m1e-50\u001b[0m\u001b[0;34m)\u001b[0m\u001b[0;34m,\u001b[0m\u001b[0mself\u001b[0m\u001b[0;34m.\u001b[0m\u001b[0maBl\u001b[0m\u001b[0;34m,\u001b[0m\u001b[0mnp\u001b[0m\u001b[0;34m.\u001b[0m\u001b[0mmaximum\u001b[0m\u001b[0;34m(\u001b[0m\u001b[0mself\u001b[0m\u001b[0;34m.\u001b[0m\u001b[0maDl\u001b[0m\u001b[0;34m,\u001b[0m\u001b[0;34m-\u001b[0m\u001b[0;36m1000000\u001b[0m\u001b[0;34m)\u001b[0m\u001b[0;34m,\u001b[0m\u001b[0;34m\u001b[0m\u001b[0m\n\u001b[1;32m    506\u001b[0m                 \u001b[0mself\u001b[0m\u001b[0;34m.\u001b[0m\u001b[0maDsl\u001b[0m\u001b[0;34m,\u001b[0m\u001b[0mnp\u001b[0m\u001b[0;34m.\u001b[0m\u001b[0mempty_like\u001b[0m\u001b[0;34m(\u001b[0m\u001b[0mself\u001b[0m\u001b[0;34m.\u001b[0m\u001b[0maBl\u001b[0m\u001b[0;34m)\u001b[0m\u001b[0;34m,\u001b[0m\u001b[0mnp\u001b[0m\u001b[0;34m.\u001b[0m\u001b[0mempty_like\u001b[0m\u001b[0;34m(\u001b[0m\u001b[0mself\u001b[0m\u001b[0;34m.\u001b[0m\u001b[0maBl\u001b[0m\u001b[0;34m)\u001b[0m\u001b[0;34m,\u001b[0m\u001b[0;34m\u001b[0m\u001b[0m\n\u001b[0;32m--> 507\u001b[0;31m                 self.right_censoring,self.trunc if self.trunc is not None else self.T)\n\u001b[0m\u001b[1;32m    508\u001b[0m         \u001b[0;32massert\u001b[0m \u001b[0;32mnot\u001b[0m \u001b[0mnp\u001b[0m\u001b[0;34m.\u001b[0m\u001b[0misnan\u001b[0m\u001b[0;34m(\u001b[0m\u001b[0mbetal\u001b[0m\u001b[0;34m)\u001b[0m\u001b[0;34m.\u001b[0m\u001b[0many\u001b[0m\u001b[0;34m(\u001b[0m\u001b[0;34m)\u001b[0m\u001b[0;34m\u001b[0m\u001b[0m\n\u001b[1;32m    509\u001b[0m         \u001b[0;32massert\u001b[0m \u001b[0;32mnot\u001b[0m \u001b[0mnp\u001b[0m\u001b[0;34m.\u001b[0m\u001b[0misnan\u001b[0m\u001b[0;34m(\u001b[0m\u001b[0mbetastarl\u001b[0m\u001b[0;34m)\u001b[0m\u001b[0;34m.\u001b[0m\u001b[0many\u001b[0m\u001b[0;34m(\u001b[0m\u001b[0;34m)\u001b[0m\u001b[0;34m\u001b[0m\u001b[0m\n",
      "\u001b[0;31mKeyboardInterrupt\u001b[0m: "
     ]
    }
   ],
   "source": [
    "for fn in filenames:\n",
    "    dataset = pd.read_csv(os.path.join(config.states_path,fn), \n",
    "                          encoding='utf-8', index_col='timestamp', \n",
    "                          parse_dates=True)\n",
    "    X = dataset[config.hsmmconfig.column_names].as_matrix()\n",
    "    prediction = model_orig.predict(X, 0)\n",
    "    dataset['state_orig'] = prediction[1]\n",
    "    data_list.append(dataset[['acceleration', 'state', 'state_orig']])"
   ]
  },
  {
   "cell_type": "code",
   "execution_count": null,
   "metadata": {
    "collapsed": true
   },
   "outputs": [],
   "source": []
  }
 ],
 "metadata": {
  "anaconda-cloud": {},
  "kernelspec": {
   "display_name": "Python [conda env:ucl2]",
   "language": "python",
   "name": "conda-env-ucl2-py"
  },
  "language_info": {
   "codemirror_mode": {
    "name": "ipython",
    "version": 2
   },
   "file_extension": ".py",
   "mimetype": "text/x-python",
   "name": "python",
   "nbconvert_exporter": "python",
   "pygments_lexer": "ipython2",
   "version": "2.7.12"
  }
 },
 "nbformat": 4,
 "nbformat_minor": 0
}
