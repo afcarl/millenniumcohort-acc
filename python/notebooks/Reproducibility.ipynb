{
 "cells": [
  {
   "cell_type": "code",
   "execution_count": 1,
   "metadata": {
    "collapsed": true
   },
   "outputs": [],
   "source": [
    "%matplotlib inline\n",
    "%load_ext autoreload\n",
    "%autoreload 2\n",
    "import pandas as pd\n",
    "import os\n",
    "import numpy as np\n",
    "import matplotlib.pyplot as plt\n",
    "import sys"
   ]
  },
  {
   "cell_type": "code",
   "execution_count": 2,
   "metadata": {
    "collapsed": true
   },
   "outputs": [],
   "source": [
    "sys.path.insert(0, os.path.abspath('..'))\n",
    "from UKMovementSensing import hsmm\n",
    "from milleniumcohort import create_config"
   ]
  },
  {
   "cell_type": "code",
   "execution_count": 3,
   "metadata": {
    "collapsed": true
   },
   "outputs": [],
   "source": [
    "config = create_config('../config.yml')\n",
    "config.create_data_paths()"
   ]
  },
  {
   "cell_type": "code",
   "execution_count": 4,
   "metadata": {
    "collapsed": true
   },
   "outputs": [],
   "source": [
    "model_file_orig = '/media/sf_VBox_Shared/London/CLSdata500/results/mod_10st_0b_15r_720t_acceleration/model.pkl'\n",
    "model_file_sub = '/media/sf_VBox_Shared/London/CLSdata250/results/mod_10st_0b_15r_720t_acceleration/model.pkl'"
   ]
  },
  {
   "cell_type": "code",
   "execution_count": 5,
   "metadata": {
    "collapsed": false
   },
   "outputs": [],
   "source": [
    "import pickle\n",
    "with open(model_file_orig, 'r') as f:\n",
    "    model_orig = pickle.load(file=f)\n",
    "    \n",
    "with open(model_file_sub, 'r') as f:\n",
    "    model_sub = pickle.load(file=f)"
   ]
  },
  {
   "cell_type": "code",
   "execution_count": 69,
   "metadata": {
    "collapsed": false
   },
   "outputs": [],
   "source": [
    "params_orig = pd.DataFrame(\n",
    "            [[o.params['mu'][0]*1000 for o in model_orig.obs_distns],\n",
    "              [o.params['sigma'][0][0]*1000 for o in model_orig.obs_distns],\n",
    "             [o.params['lmbda'] for o in model_orig.dur_distns]\n",
    "            ]\n",
    "                          ).transpose().reset_index()\n",
    "params_orig.columns = ['state', 'mean', 'sigma', 'lmbda']\n",
    "\n",
    "params_sub = pd.DataFrame([[o.params['mu'][0]*1000 for o in model_sub.obs_distns],\n",
    "              [o.params['sigma'][0][0]*1000 for o in model_sub.obs_distns],\n",
    "            [o.params['lmbda'] for o in model_sub.dur_distns]]).transpose().reset_index()\n",
    "params_sub.columns = ['state', 'mean', 'sigma', 'lmbda']"
   ]
  },
  {
   "cell_type": "code",
   "execution_count": 71,
   "metadata": {
    "collapsed": false
   },
   "outputs": [],
   "source": [
    "params_orig = params_orig.sort_values('mean')\n",
    "params_orig.index = range(len(params_orig))"
   ]
  },
  {
   "cell_type": "code",
   "execution_count": 72,
   "metadata": {
    "collapsed": false
   },
   "outputs": [],
   "source": [
    "params_sub = params_sub.sort_values('mean')\n",
    "params_sub.index = range(len(params_sub))"
   ]
  },
  {
   "cell_type": "code",
   "execution_count": 73,
   "metadata": {
    "collapsed": false
   },
   "outputs": [
    {
     "data": {
      "text/html": [
       "<div>\n",
       "<table border=\"1\" class=\"dataframe\">\n",
       "  <thead>\n",
       "    <tr>\n",
       "      <th></th>\n",
       "      <th colspan=\"4\" halign=\"left\">orig</th>\n",
       "      <th colspan=\"4\" halign=\"left\">sub</th>\n",
       "    </tr>\n",
       "    <tr>\n",
       "      <th></th>\n",
       "      <th>state</th>\n",
       "      <th>mean</th>\n",
       "      <th>sigma</th>\n",
       "      <th>lmbda</th>\n",
       "      <th>state</th>\n",
       "      <th>mean</th>\n",
       "      <th>sigma</th>\n",
       "      <th>lmbda</th>\n",
       "    </tr>\n",
       "  </thead>\n",
       "  <tbody>\n",
       "    <tr>\n",
       "      <th>0</th>\n",
       "      <td>5</td>\n",
       "      <td>0.016563</td>\n",
       "      <td>0.000247</td>\n",
       "      <td>118.712066</td>\n",
       "      <td>1</td>\n",
       "      <td>0.039983</td>\n",
       "      <td>0.000496</td>\n",
       "      <td>111.406793</td>\n",
       "    </tr>\n",
       "    <tr>\n",
       "      <th>1</th>\n",
       "      <td>6</td>\n",
       "      <td>5.224012</td>\n",
       "      <td>0.017303</td>\n",
       "      <td>28.711825</td>\n",
       "      <td>2</td>\n",
       "      <td>5.808443</td>\n",
       "      <td>0.022846</td>\n",
       "      <td>27.767786</td>\n",
       "    </tr>\n",
       "    <tr>\n",
       "      <th>2</th>\n",
       "      <td>8</td>\n",
       "      <td>18.955417</td>\n",
       "      <td>0.251233</td>\n",
       "      <td>61.785816</td>\n",
       "      <td>0</td>\n",
       "      <td>20.978779</td>\n",
       "      <td>0.252522</td>\n",
       "      <td>103.986623</td>\n",
       "    </tr>\n",
       "    <tr>\n",
       "      <th>3</th>\n",
       "      <td>9</td>\n",
       "      <td>35.370388</td>\n",
       "      <td>0.906046</td>\n",
       "      <td>23.354108</td>\n",
       "      <td>9</td>\n",
       "      <td>29.143078</td>\n",
       "      <td>0.585609</td>\n",
       "      <td>20.705249</td>\n",
       "    </tr>\n",
       "    <tr>\n",
       "      <th>4</th>\n",
       "      <td>0</td>\n",
       "      <td>46.900395</td>\n",
       "      <td>0.639371</td>\n",
       "      <td>144.161898</td>\n",
       "      <td>3</td>\n",
       "      <td>63.189587</td>\n",
       "      <td>1.526341</td>\n",
       "      <td>141.885096</td>\n",
       "    </tr>\n",
       "    <tr>\n",
       "      <th>5</th>\n",
       "      <td>7</td>\n",
       "      <td>78.407262</td>\n",
       "      <td>4.107857</td>\n",
       "      <td>2.805382</td>\n",
       "      <td>7</td>\n",
       "      <td>71.372049</td>\n",
       "      <td>3.268943</td>\n",
       "      <td>2.192069</td>\n",
       "    </tr>\n",
       "    <tr>\n",
       "      <th>6</th>\n",
       "      <td>4</td>\n",
       "      <td>87.347681</td>\n",
       "      <td>2.112939</td>\n",
       "      <td>165.343181</td>\n",
       "      <td>8</td>\n",
       "      <td>88.824289</td>\n",
       "      <td>2.485879</td>\n",
       "      <td>91.648088</td>\n",
       "    </tr>\n",
       "    <tr>\n",
       "      <th>7</th>\n",
       "      <td>3</td>\n",
       "      <td>100.141043</td>\n",
       "      <td>4.148632</td>\n",
       "      <td>53.318555</td>\n",
       "      <td>4</td>\n",
       "      <td>104.392948</td>\n",
       "      <td>4.548113</td>\n",
       "      <td>35.650313</td>\n",
       "    </tr>\n",
       "    <tr>\n",
       "      <th>8</th>\n",
       "      <td>2</td>\n",
       "      <td>172.369195</td>\n",
       "      <td>9.846896</td>\n",
       "      <td>57.472028</td>\n",
       "      <td>5</td>\n",
       "      <td>199.503537</td>\n",
       "      <td>13.513618</td>\n",
       "      <td>34.523140</td>\n",
       "    </tr>\n",
       "    <tr>\n",
       "      <th>9</th>\n",
       "      <td>1</td>\n",
       "      <td>483.348122</td>\n",
       "      <td>226.759184</td>\n",
       "      <td>3.891144</td>\n",
       "      <td>6</td>\n",
       "      <td>547.683055</td>\n",
       "      <td>273.429208</td>\n",
       "      <td>3.090514</td>\n",
       "    </tr>\n",
       "  </tbody>\n",
       "</table>\n",
       "</div>"
      ],
      "text/plain": [
       "   orig                                       sub                          \\\n",
       "  state        mean       sigma       lmbda state        mean       sigma   \n",
       "0     5    0.016563    0.000247  118.712066     1    0.039983    0.000496   \n",
       "1     6    5.224012    0.017303   28.711825     2    5.808443    0.022846   \n",
       "2     8   18.955417    0.251233   61.785816     0   20.978779    0.252522   \n",
       "3     9   35.370388    0.906046   23.354108     9   29.143078    0.585609   \n",
       "4     0   46.900395    0.639371  144.161898     3   63.189587    1.526341   \n",
       "5     7   78.407262    4.107857    2.805382     7   71.372049    3.268943   \n",
       "6     4   87.347681    2.112939  165.343181     8   88.824289    2.485879   \n",
       "7     3  100.141043    4.148632   53.318555     4  104.392948    4.548113   \n",
       "8     2  172.369195    9.846896   57.472028     5  199.503537   13.513618   \n",
       "9     1  483.348122  226.759184    3.891144     6  547.683055  273.429208   \n",
       "\n",
       "               \n",
       "        lmbda  \n",
       "0  111.406793  \n",
       "1   27.767786  \n",
       "2  103.986623  \n",
       "3   20.705249  \n",
       "4  141.885096  \n",
       "5    2.192069  \n",
       "6   91.648088  \n",
       "7   35.650313  \n",
       "8   34.523140  \n",
       "9    3.090514  "
      ]
     },
     "execution_count": 73,
     "metadata": {},
     "output_type": "execute_result"
    }
   ],
   "source": [
    "params = pd.concat([params_orig, params_sub], axis=1, keys=['orig', 'sub'])\n",
    "params"
   ]
  },
  {
   "cell_type": "code",
   "execution_count": 74,
   "metadata": {
    "collapsed": false
   },
   "outputs": [
    {
     "data": {
      "text/html": [
       "<div>\n",
       "<table border=\"1\" class=\"dataframe\">\n",
       "  <thead>\n",
       "    <tr>\n",
       "      <th></th>\n",
       "      <th colspan=\"6\" halign=\"left\">orig</th>\n",
       "      <th colspan=\"6\" halign=\"left\">sub</th>\n",
       "      <th colspan=\"5\" halign=\"left\">diff</th>\n",
       "    </tr>\n",
       "    <tr>\n",
       "      <th></th>\n",
       "      <th>lmbda</th>\n",
       "      <th>log_mean</th>\n",
       "      <th>log_sigma</th>\n",
       "      <th>mean</th>\n",
       "      <th>sigma</th>\n",
       "      <th>state</th>\n",
       "      <th>lmbda</th>\n",
       "      <th>log_mean</th>\n",
       "      <th>log_sigma</th>\n",
       "      <th>mean</th>\n",
       "      <th>sigma</th>\n",
       "      <th>state</th>\n",
       "      <th>mean</th>\n",
       "      <th>sigma</th>\n",
       "      <th>log_mean</th>\n",
       "      <th>log_sigma</th>\n",
       "      <th>lmbda</th>\n",
       "    </tr>\n",
       "  </thead>\n",
       "  <tbody>\n",
       "    <tr>\n",
       "      <th>0</th>\n",
       "      <td>118.712066</td>\n",
       "      <td>-1.780850</td>\n",
       "      <td>-3.607674</td>\n",
       "      <td>0.016563</td>\n",
       "      <td>0.000247</td>\n",
       "      <td>5</td>\n",
       "      <td>111.406793</td>\n",
       "      <td>-1.398123</td>\n",
       "      <td>-3.304822</td>\n",
       "      <td>0.039983</td>\n",
       "      <td>0.000496</td>\n",
       "      <td>1</td>\n",
       "      <td>-0.023420</td>\n",
       "      <td>-0.000249</td>\n",
       "      <td>-0.382727</td>\n",
       "      <td>-0.302852</td>\n",
       "      <td>7.305273</td>\n",
       "    </tr>\n",
       "    <tr>\n",
       "      <th>1</th>\n",
       "      <td>28.711825</td>\n",
       "      <td>0.718004</td>\n",
       "      <td>-1.761872</td>\n",
       "      <td>5.224012</td>\n",
       "      <td>0.017303</td>\n",
       "      <td>6</td>\n",
       "      <td>27.767786</td>\n",
       "      <td>0.764060</td>\n",
       "      <td>-1.641187</td>\n",
       "      <td>5.808443</td>\n",
       "      <td>0.022846</td>\n",
       "      <td>2</td>\n",
       "      <td>-0.584431</td>\n",
       "      <td>-0.005543</td>\n",
       "      <td>-0.046056</td>\n",
       "      <td>-0.120684</td>\n",
       "      <td>0.944038</td>\n",
       "    </tr>\n",
       "    <tr>\n",
       "      <th>2</th>\n",
       "      <td>61.785816</td>\n",
       "      <td>1.277733</td>\n",
       "      <td>-0.599924</td>\n",
       "      <td>18.955417</td>\n",
       "      <td>0.251233</td>\n",
       "      <td>8</td>\n",
       "      <td>103.986623</td>\n",
       "      <td>1.321780</td>\n",
       "      <td>-0.597701</td>\n",
       "      <td>20.978779</td>\n",
       "      <td>0.252522</td>\n",
       "      <td>0</td>\n",
       "      <td>-2.023362</td>\n",
       "      <td>-0.001289</td>\n",
       "      <td>-0.044047</td>\n",
       "      <td>-0.002223</td>\n",
       "      <td>-42.200807</td>\n",
       "    </tr>\n",
       "    <tr>\n",
       "      <th>3</th>\n",
       "      <td>23.354108</td>\n",
       "      <td>1.548640</td>\n",
       "      <td>-0.042850</td>\n",
       "      <td>35.370388</td>\n",
       "      <td>0.906046</td>\n",
       "      <td>9</td>\n",
       "      <td>20.705249</td>\n",
       "      <td>1.464535</td>\n",
       "      <td>-0.232392</td>\n",
       "      <td>29.143078</td>\n",
       "      <td>0.585609</td>\n",
       "      <td>9</td>\n",
       "      <td>6.227310</td>\n",
       "      <td>0.320437</td>\n",
       "      <td>0.084104</td>\n",
       "      <td>0.189542</td>\n",
       "      <td>2.648858</td>\n",
       "    </tr>\n",
       "    <tr>\n",
       "      <th>4</th>\n",
       "      <td>144.161898</td>\n",
       "      <td>1.671177</td>\n",
       "      <td>-0.194247</td>\n",
       "      <td>46.900395</td>\n",
       "      <td>0.639371</td>\n",
       "      <td>0</td>\n",
       "      <td>141.885096</td>\n",
       "      <td>1.800646</td>\n",
       "      <td>0.183652</td>\n",
       "      <td>63.189587</td>\n",
       "      <td>1.526341</td>\n",
       "      <td>3</td>\n",
       "      <td>-16.289192</td>\n",
       "      <td>-0.886970</td>\n",
       "      <td>-0.129469</td>\n",
       "      <td>-0.377899</td>\n",
       "      <td>2.276801</td>\n",
       "    </tr>\n",
       "    <tr>\n",
       "      <th>5</th>\n",
       "      <td>2.805382</td>\n",
       "      <td>1.894356</td>\n",
       "      <td>0.613615</td>\n",
       "      <td>78.407262</td>\n",
       "      <td>4.107857</td>\n",
       "      <td>7</td>\n",
       "      <td>2.192069</td>\n",
       "      <td>1.853528</td>\n",
       "      <td>0.514407</td>\n",
       "      <td>71.372049</td>\n",
       "      <td>3.268943</td>\n",
       "      <td>7</td>\n",
       "      <td>7.035213</td>\n",
       "      <td>0.838914</td>\n",
       "      <td>0.040828</td>\n",
       "      <td>0.099208</td>\n",
       "      <td>0.613313</td>\n",
       "    </tr>\n",
       "    <tr>\n",
       "      <th>6</th>\n",
       "      <td>165.343181</td>\n",
       "      <td>1.941251</td>\n",
       "      <td>0.324887</td>\n",
       "      <td>87.347681</td>\n",
       "      <td>2.112939</td>\n",
       "      <td>4</td>\n",
       "      <td>91.648088</td>\n",
       "      <td>1.948532</td>\n",
       "      <td>0.395480</td>\n",
       "      <td>88.824289</td>\n",
       "      <td>2.485879</td>\n",
       "      <td>8</td>\n",
       "      <td>-1.476608</td>\n",
       "      <td>-0.372941</td>\n",
       "      <td>-0.007280</td>\n",
       "      <td>-0.070593</td>\n",
       "      <td>73.695093</td>\n",
       "    </tr>\n",
       "    <tr>\n",
       "      <th>7</th>\n",
       "      <td>53.318555</td>\n",
       "      <td>2.000612</td>\n",
       "      <td>0.617905</td>\n",
       "      <td>100.141043</td>\n",
       "      <td>4.148632</td>\n",
       "      <td>3</td>\n",
       "      <td>35.650313</td>\n",
       "      <td>2.018671</td>\n",
       "      <td>0.657831</td>\n",
       "      <td>104.392948</td>\n",
       "      <td>4.548113</td>\n",
       "      <td>4</td>\n",
       "      <td>-4.251906</td>\n",
       "      <td>-0.399481</td>\n",
       "      <td>-0.018059</td>\n",
       "      <td>-0.039926</td>\n",
       "      <td>17.668243</td>\n",
       "    </tr>\n",
       "    <tr>\n",
       "      <th>8</th>\n",
       "      <td>57.472028</td>\n",
       "      <td>2.236460</td>\n",
       "      <td>0.993299</td>\n",
       "      <td>172.369195</td>\n",
       "      <td>9.846896</td>\n",
       "      <td>2</td>\n",
       "      <td>34.523140</td>\n",
       "      <td>2.299951</td>\n",
       "      <td>1.130772</td>\n",
       "      <td>199.503537</td>\n",
       "      <td>13.513618</td>\n",
       "      <td>5</td>\n",
       "      <td>-27.134341</td>\n",
       "      <td>-3.666721</td>\n",
       "      <td>-0.063491</td>\n",
       "      <td>-0.137472</td>\n",
       "      <td>22.948888</td>\n",
       "    </tr>\n",
       "    <tr>\n",
       "      <th>9</th>\n",
       "      <td>3.891144</td>\n",
       "      <td>2.684260</td>\n",
       "      <td>2.355565</td>\n",
       "      <td>483.348122</td>\n",
       "      <td>226.759184</td>\n",
       "      <td>1</td>\n",
       "      <td>3.090514</td>\n",
       "      <td>2.738529</td>\n",
       "      <td>2.436845</td>\n",
       "      <td>547.683055</td>\n",
       "      <td>273.429208</td>\n",
       "      <td>6</td>\n",
       "      <td>-64.334934</td>\n",
       "      <td>-46.670024</td>\n",
       "      <td>-0.054269</td>\n",
       "      <td>-0.081280</td>\n",
       "      <td>0.800631</td>\n",
       "    </tr>\n",
       "  </tbody>\n",
       "</table>\n",
       "</div>"
      ],
      "text/plain": [
       "         orig                                                           sub  \\\n",
       "        lmbda  log_mean log_sigma        mean       sigma state       lmbda   \n",
       "0  118.712066 -1.780850 -3.607674    0.016563    0.000247     5  111.406793   \n",
       "1   28.711825  0.718004 -1.761872    5.224012    0.017303     6   27.767786   \n",
       "2   61.785816  1.277733 -0.599924   18.955417    0.251233     8  103.986623   \n",
       "3   23.354108  1.548640 -0.042850   35.370388    0.906046     9   20.705249   \n",
       "4  144.161898  1.671177 -0.194247   46.900395    0.639371     0  141.885096   \n",
       "5    2.805382  1.894356  0.613615   78.407262    4.107857     7    2.192069   \n",
       "6  165.343181  1.941251  0.324887   87.347681    2.112939     4   91.648088   \n",
       "7   53.318555  2.000612  0.617905  100.141043    4.148632     3   35.650313   \n",
       "8   57.472028  2.236460  0.993299  172.369195    9.846896     2   34.523140   \n",
       "9    3.891144  2.684260  2.355565  483.348122  226.759184     1    3.090514   \n",
       "\n",
       "                                                          diff             \\\n",
       "   log_mean log_sigma        mean       sigma state       mean      sigma   \n",
       "0 -1.398123 -3.304822    0.039983    0.000496     1  -0.023420  -0.000249   \n",
       "1  0.764060 -1.641187    5.808443    0.022846     2  -0.584431  -0.005543   \n",
       "2  1.321780 -0.597701   20.978779    0.252522     0  -2.023362  -0.001289   \n",
       "3  1.464535 -0.232392   29.143078    0.585609     9   6.227310   0.320437   \n",
       "4  1.800646  0.183652   63.189587    1.526341     3 -16.289192  -0.886970   \n",
       "5  1.853528  0.514407   71.372049    3.268943     7   7.035213   0.838914   \n",
       "6  1.948532  0.395480   88.824289    2.485879     8  -1.476608  -0.372941   \n",
       "7  2.018671  0.657831  104.392948    4.548113     4  -4.251906  -0.399481   \n",
       "8  2.299951  1.130772  199.503537   13.513618     5 -27.134341  -3.666721   \n",
       "9  2.738529  2.436845  547.683055  273.429208     6 -64.334934 -46.670024   \n",
       "\n",
       "                                  \n",
       "   log_mean log_sigma      lmbda  \n",
       "0 -0.382727 -0.302852   7.305273  \n",
       "1 -0.046056 -0.120684   0.944038  \n",
       "2 -0.044047 -0.002223 -42.200807  \n",
       "3  0.084104  0.189542   2.648858  \n",
       "4 -0.129469 -0.377899   2.276801  \n",
       "5  0.040828  0.099208   0.613313  \n",
       "6 -0.007280 -0.070593  73.695093  \n",
       "7 -0.018059 -0.039926  17.668243  \n",
       "8 -0.063491 -0.137472  22.948888  \n",
       "9 -0.054269 -0.081280   0.800631  "
      ]
     },
     "execution_count": 74,
     "metadata": {},
     "output_type": "execute_result"
    }
   ],
   "source": [
    "params[('orig', 'log_mean')] = np.log10(params[('orig', 'mean')])\n",
    "params[('sub', 'log_mean')] = np.log10(params[('sub', 'mean')])\n",
    "params[('orig', 'log_sigma')] = np.log10(params[('orig', 'sigma')])\n",
    "params[('sub', 'log_sigma')] = np.log10(params[('sub', 'sigma')])\n",
    "params = params.sort_index(axis=1)\n",
    "for c in ('mean', 'sigma', 'log_mean', 'log_sigma', 'lmbda'):\n",
    "    params[('diff', c)] =  params[('orig', c)] - params[('sub', c)]\n",
    "params"
   ]
  },
  {
   "cell_type": "code",
   "execution_count": 26,
   "metadata": {
    "collapsed": false
   },
   "outputs": [
    {
     "data": {
      "image/png": "[encoded data removed]",
      "text/plain": [
       "<matplotlib.figure.Figure at 0x7f7b6b1b0b50>"
      ]
     },
     "metadata": {},
     "output_type": "display_data"
    }
   ],
   "source": [
    "maxval = 800\n",
    "plt.figure()\n",
    "plt.errorbar(x=params[('orig','mean')], y=params[('sub', 'mean')],\n",
    "             xerr=params[('orig','sigma')], yerr=params[('sub', 'sigma')], \n",
    "             fmt='o', ecolor='r')\n",
    "plt.plot(range(maxval), range(maxval))\n",
    "plt.xlim(0, maxval)\n",
    "plt.ylim(0, maxval)\n",
    "plt.show()"
   ]
  },
  {
   "cell_type": "code",
   "execution_count": 43,
   "metadata": {
    "collapsed": false
   },
   "outputs": [
    {
     "data": {
      "image/png": "[encoded data removed]",
      "text/plain": [
       "<matplotlib.figure.Figure at 0x7f7b6ad09f50>"
      ]
     },
     "metadata": {},
     "output_type": "display_data"
    }
   ],
   "source": [
    "minval = -4\n",
    "maxval = 4\n",
    "plt.figure(figsize=(15,15))\n",
    "plt.errorbar(x=params[('orig','log_mean')], y=params[('sub', 'log_mean')],\n",
    "             xerr=params[('orig','log_sigma')], yerr=params[('sub', 'log_sigma')], \n",
    "             fmt='o', ecolor='r')\n",
    "plt.plot(range(minval, maxval+1), range(minval, maxval+1))\n",
    "plt.xlim(0, maxval)\n",
    "plt.ylim(0, maxval)\n",
    "plt.show()"
   ]
  },
  {
   "cell_type": "code",
   "execution_count": 11,
   "metadata": {
    "collapsed": false
   },
   "outputs": [
    {
     "data": {
      "text/plain": [
       "<matplotlib.collections.PathCollection at 0x7f7b6b0c1e50>"
      ]
     },
     "execution_count": 11,
     "metadata": {},
     "output_type": "execute_result"
    },
    {
     "data": {
      "image/png": "[encoded data removed]",
      "text/plain": [
       "<matplotlib.figure.Figure at 0x7f7b6d2c2f10>"
      ]
     },
     "metadata": {},
     "output_type": "display_data"
    }
   ],
   "source": [
    "diff = params_orig['mean'] - params_sub['mean']\n",
    "avg = 0.5 * (params_orig['mean'] + params_sub['mean'])\n",
    "plt.scatter(avg, diff)"
   ]
  },
  {
   "cell_type": "code",
   "execution_count": 12,
   "metadata": {
    "collapsed": false
   },
   "outputs": [
    {
     "data": {
      "text/plain": [
       "0    94.897847\n",
       "1    33.775745\n",
       "2     8.053741\n",
       "3    -6.873060\n",
       "4    25.476891\n",
       "5    -1.712624\n",
       "6     0.698841\n",
       "7     1.024894\n",
       "8     2.755624\n",
       "9     0.283715\n",
       "dtype: float64"
      ]
     },
     "execution_count": 12,
     "metadata": {},
     "output_type": "execute_result"
    }
   ],
   "source": [
    "n_orig = 500\n",
    "n_sub = 1 # 250\n",
    "SE = params_orig['sigma'] / np.sqrt(n_sub)\n",
    "z = (params_sub['mean'] - params_orig['mean']) / SE\n",
    "z"
   ]
  },
  {
   "cell_type": "code",
   "execution_count": 20,
   "metadata": {
    "collapsed": false
   },
   "outputs": [
    {
     "data": {
      "image/png": "[encoded data removed]",
      "text/plain": [
       "<matplotlib.figure.Figure at 0x7f7b6ad5ff50>"
      ]
     },
     "metadata": {},
     "output_type": "display_data"
    }
   ],
   "source": [
    "plt.figure()\n",
    "positions_0 = list(range(len(params_sub)))\n",
    "positions_1 = [p+0.2 for p in positions_0]\n",
    "plt.errorbar(x=positions_0, y=params_orig['mean'],\n",
    "             yerr=params_orig['sigma'], \n",
    "             fmt='none', ecolor='b', elinewidth=2)\n",
    "plt.errorbar(x=positions_1, y=params_sub['mean'],\n",
    "             yerr=params_sub['sigma'], \n",
    "             fmt='none', ecolor='r', elinewidth=2)\n",
    "plt.show()"
   ]
  },
  {
   "cell_type": "code",
   "execution_count": 63,
   "metadata": {
    "collapsed": false
   },
   "outputs": [
    {
     "data": {
      "image/png": "[encoded data removed]",
      "text/plain": [
       "<matplotlib.figure.Figure at 0x7f7b6a96bed0>"
      ]
     },
     "metadata": {},
     "output_type": "display_data"
    }
   ],
   "source": [
    "fig = plt.figure(figsize=(15,5))\n",
    "ax = fig.add_subplot(111)\n",
    "positions = list(range(len(params_sub)))\n",
    "positions_0 = [p+0.1 for p in positions]\n",
    "positions_1 = [p+0.3 for p in positions]\n",
    "ax.errorbar(x=positions_0, y=params[('orig', 'log_mean')],\n",
    "             yerr=params[('orig', 'log_sigma')],\n",
    "             fmt='o', ecolor='b', color='b', elinewidth=2,  ms=5,capthick=1, mew=0, label='full 500')\n",
    "ax.errorbar(x=positions_1, y=params[('sub', 'log_mean')],\n",
    "             yerr=params[('sub', 'log_sigma')],\n",
    "             fmt='o', ecolor='r', color='r', ms=5,capthick=1, mew=0, elinewidth=2, label='sub 250')\n",
    "ax.set_xticks(positions)\n",
    "ax.legend(loc=4)\n",
    "ax.set_xlabel('states')\n",
    "ax.set_ylabel('log acceleration')\n",
    "plt.show()"
   ]
  },
  {
   "cell_type": "code",
   "execution_count": 77,
   "metadata": {
    "collapsed": false
   },
   "outputs": [
    {
     "data": {
      "image/png": "[encoded data removed]",
      "text/plain": [
       "<matplotlib.figure.Figure at 0x7f7b6a7c13d0>"
      ]
     },
     "metadata": {},
     "output_type": "display_data"
    }
   ],
   "source": [
    "fig = plt.figure(figsize=(15,5))\n",
    "ax = fig.add_subplot(111)\n",
    "positions = list(range(len(params_sub)))\n",
    "positions_0 = [p+0.1 for p in positions]\n",
    "positions_1 = [p+0.3 for p in positions]\n",
    "ax.errorbar(x=positions_0, y=params[('orig', 'lmbda')],\n",
    "             yerr=np.sqrt(params[('orig', 'lmbda')]),\n",
    "             fmt='o', ecolor='b', color='b', elinewidth=2,  ms=5,capthick=1, mew=0, label='full 500')\n",
    "ax.errorbar(x=positions_1, y=params[('sub', 'lmbda')],\n",
    "             yerr=np.sqrt(params[('sub', 'lmbda')]),\n",
    "             fmt='o', ecolor='r', color='r', ms=5,capthick=1, mew=0, elinewidth=2, label='sub 250')\n",
    "ax.set_xticks(positions)\n",
    "ax.legend(loc=2)\n",
    "ax.set_xlabel('states')\n",
    "ax.set_ylabel('duration')\n",
    "plt.show()"
   ]
  },
  {
   "cell_type": "markdown",
   "metadata": {},
   "source": [
    "# Reproduce states on these 250"
   ]
  },
  {
   "cell_type": "code",
   "execution_count": 82,
   "metadata": {
    "collapsed": true
   },
   "outputs": [],
   "source": [
    "# Import data with states\n",
    "filenames = os.listdir(config.states_path)\n",
    "filenames = [fn for fn in filenames if os.path.isfile(os.path.join(config.states_path,fn))]"
   ]
  },
  {
   "cell_type": "code",
   "execution_count": 83,
   "metadata": {
    "collapsed": true
   },
   "outputs": [],
   "source": [
    "data_list = []\n",
    "# Should be: acc, state1, state2"
   ]
  },
  {
   "cell_type": "code",
   "execution_count": 84,
   "metadata": {
    "collapsed": false
   },
   "outputs": [
    {
     "ename": "KeyboardInterrupt",
     "evalue": "",
     "output_type": "error",
     "traceback": [
      "\u001b[0;31m---------------------------------------------------------------------------\u001b[0m",
      "\u001b[0;31mKeyboardInterrupt\u001b[0m                         Traceback (most recent call last)",
      "\u001b[0;32m<ipython-input-84-6bd87377945b>\u001b[0m in \u001b[0;36m<module>\u001b[0;34m()\u001b[0m\n\u001b[1;32m      4\u001b[0m                           parse_dates=True)\n\u001b[1;32m      5\u001b[0m     \u001b[0mX\u001b[0m \u001b[0;34m=\u001b[0m \u001b[0mdataset\u001b[0m\u001b[0;34m[\u001b[0m\u001b[0mconfig\u001b[0m\u001b[0;34m.\u001b[0m\u001b[0mhsmmconfig\u001b[0m\u001b[0;34m.\u001b[0m\u001b[0mcolumn_names\u001b[0m\u001b[0;34m]\u001b[0m\u001b[0;34m.\u001b[0m\u001b[0mas_matrix\u001b[0m\u001b[0;34m(\u001b[0m\u001b[0;34m)\u001b[0m\u001b[0;34m\u001b[0m\u001b[0m\n\u001b[0;32m----> 6\u001b[0;31m     \u001b[0mprediction\u001b[0m \u001b[0;34m=\u001b[0m \u001b[0mmodel_orig\u001b[0m\u001b[0;34m.\u001b[0m\u001b[0mpredict\u001b[0m\u001b[0;34m(\u001b[0m\u001b[0mX\u001b[0m\u001b[0;34m,\u001b[0m \u001b[0;36m0\u001b[0m\u001b[0;34m)\u001b[0m\u001b[0;34m\u001b[0m\u001b[0m\n\u001b[0m\u001b[1;32m      7\u001b[0m     \u001b[0mdataset\u001b[0m\u001b[0;34m[\u001b[0m\u001b[0;34m'state_orig'\u001b[0m\u001b[0;34m]\u001b[0m \u001b[0;34m=\u001b[0m \u001b[0mprediction\u001b[0m\u001b[0;34m[\u001b[0m\u001b[0;36m1\u001b[0m\u001b[0;34m]\u001b[0m\u001b[0;34m\u001b[0m\u001b[0m\n\u001b[1;32m      8\u001b[0m     \u001b[0mdata_list\u001b[0m\u001b[0;34m.\u001b[0m\u001b[0mappend\u001b[0m\u001b[0;34m(\u001b[0m\u001b[0mdataset\u001b[0m\u001b[0;34m[\u001b[0m\u001b[0;34m[\u001b[0m\u001b[0;34m'acceleration'\u001b[0m\u001b[0;34m,\u001b[0m \u001b[0;34m'state'\u001b[0m\u001b[0;34m,\u001b[0m \u001b[0;34m'state_orig'\u001b[0m\u001b[0;34m]\u001b[0m\u001b[0;34m]\u001b[0m\u001b[0;34m)\u001b[0m\u001b[0;34m\u001b[0m\u001b[0m\n",
      "\u001b[0;32m/home/dafne/anaconda2/envs/ucl2/lib/python2.7/site-packages/pyhsmm/models.pyc\u001b[0m in \u001b[0;36mpredict\u001b[0;34m(self, seed_data, timesteps, **kwargs)\u001b[0m\n\u001b[1;32m    118\u001b[0m         \u001b[0mself\u001b[0m\u001b[0;34m.\u001b[0m\u001b[0madd_data\u001b[0m\u001b[0;34m(\u001b[0m\u001b[0mfull_data\u001b[0m\u001b[0;34m,\u001b[0m\u001b[0;34m**\u001b[0m\u001b[0mkwargs\u001b[0m\u001b[0;34m)\u001b[0m\u001b[0;34m\u001b[0m\u001b[0m\n\u001b[1;32m    119\u001b[0m         \u001b[0ms\u001b[0m \u001b[0;34m=\u001b[0m \u001b[0mself\u001b[0m\u001b[0;34m.\u001b[0m\u001b[0mstates_list\u001b[0m\u001b[0;34m.\u001b[0m\u001b[0mpop\u001b[0m\u001b[0;34m(\u001b[0m\u001b[0;34m)\u001b[0m\u001b[0;34m\u001b[0m\u001b[0m\n\u001b[0;32m--> 120\u001b[0;31m         \u001b[0ms\u001b[0m\u001b[0;34m.\u001b[0m\u001b[0mresample\u001b[0m\u001b[0;34m(\u001b[0m\u001b[0;34m)\u001b[0m  \u001b[0;31m# fills in states\u001b[0m\u001b[0;34m\u001b[0m\u001b[0m\n\u001b[0m\u001b[1;32m    121\u001b[0m         \u001b[0;32mreturn\u001b[0m \u001b[0mself\u001b[0m\u001b[0;34m.\u001b[0m\u001b[0m_generate_obs\u001b[0m\u001b[0;34m(\u001b[0m\u001b[0ms\u001b[0m\u001b[0;34m)\u001b[0m\u001b[0;34m,\u001b[0m \u001b[0ms\u001b[0m\u001b[0;34m.\u001b[0m\u001b[0mstateseq\u001b[0m  \u001b[0;31m# fills in nan obs\u001b[0m\u001b[0;34m\u001b[0m\u001b[0m\n\u001b[1;32m    122\u001b[0m \u001b[0;34m\u001b[0m\u001b[0m\n",
      "\u001b[0;32m/home/dafne/anaconda2/envs/ucl2/lib/python2.7/site-packages/pyhsmm/internals/hsmm_states.pyc\u001b[0m in \u001b[0;36mresample\u001b[0;34m(self)\u001b[0m\n\u001b[1;32m    323\u001b[0m \u001b[0;34m\u001b[0m\u001b[0m\n\u001b[1;32m    324\u001b[0m     \u001b[0;32mdef\u001b[0m \u001b[0mresample\u001b[0m\u001b[0;34m(\u001b[0m\u001b[0mself\u001b[0m\u001b[0;34m)\u001b[0m\u001b[0;34m:\u001b[0m\u001b[0;34m\u001b[0m\u001b[0m\n\u001b[0;32m--> 325\u001b[0;31m         \u001b[0mbetal\u001b[0m\u001b[0;34m,\u001b[0m \u001b[0mbetastarl\u001b[0m \u001b[0;34m=\u001b[0m \u001b[0mself\u001b[0m\u001b[0;34m.\u001b[0m\u001b[0mmessages_backwards\u001b[0m\u001b[0;34m(\u001b[0m\u001b[0;34m)\u001b[0m\u001b[0;34m\u001b[0m\u001b[0m\n\u001b[0m\u001b[1;32m    326\u001b[0m         \u001b[0mself\u001b[0m\u001b[0;34m.\u001b[0m\u001b[0msample_forwards\u001b[0m\u001b[0;34m(\u001b[0m\u001b[0mbetal\u001b[0m\u001b[0;34m,\u001b[0m\u001b[0mbetastarl\u001b[0m\u001b[0;34m)\u001b[0m\u001b[0;34m\u001b[0m\u001b[0m\n\u001b[1;32m    327\u001b[0m \u001b[0;34m\u001b[0m\u001b[0m\n",
      "\u001b[0;32m/home/dafne/anaconda2/envs/ucl2/lib/python2.7/site-packages/pyhsmm/internals/hsmm_states.pyc\u001b[0m in \u001b[0;36mmessages_backwards\u001b[0;34m(self)\u001b[0m\n\u001b[1;32m    505\u001b[0m                 \u001b[0mnp\u001b[0m\u001b[0;34m.\u001b[0m\u001b[0mmaximum\u001b[0m\u001b[0;34m(\u001b[0m\u001b[0mself\u001b[0m\u001b[0;34m.\u001b[0m\u001b[0mtrans_matrix\u001b[0m\u001b[0;34m,\u001b[0m\u001b[0;36m1e-50\u001b[0m\u001b[0;34m)\u001b[0m\u001b[0;34m,\u001b[0m\u001b[0mself\u001b[0m\u001b[0;34m.\u001b[0m\u001b[0maBl\u001b[0m\u001b[0;34m,\u001b[0m\u001b[0mnp\u001b[0m\u001b[0;34m.\u001b[0m\u001b[0mmaximum\u001b[0m\u001b[0;34m(\u001b[0m\u001b[0mself\u001b[0m\u001b[0;34m.\u001b[0m\u001b[0maDl\u001b[0m\u001b[0;34m,\u001b[0m\u001b[0;34m-\u001b[0m\u001b[0;36m1000000\u001b[0m\u001b[0;34m)\u001b[0m\u001b[0;34m,\u001b[0m\u001b[0;34m\u001b[0m\u001b[0m\n\u001b[1;32m    506\u001b[0m                 \u001b[0mself\u001b[0m\u001b[0;34m.\u001b[0m\u001b[0maDsl\u001b[0m\u001b[0;34m,\u001b[0m\u001b[0mnp\u001b[0m\u001b[0;34m.\u001b[0m\u001b[0mempty_like\u001b[0m\u001b[0;34m(\u001b[0m\u001b[0mself\u001b[0m\u001b[0;34m.\u001b[0m\u001b[0maBl\u001b[0m\u001b[0;34m)\u001b[0m\u001b[0;34m,\u001b[0m\u001b[0mnp\u001b[0m\u001b[0;34m.\u001b[0m\u001b[0mempty_like\u001b[0m\u001b[0;34m(\u001b[0m\u001b[0mself\u001b[0m\u001b[0;34m.\u001b[0m\u001b[0maBl\u001b[0m\u001b[0;34m)\u001b[0m\u001b[0;34m,\u001b[0m\u001b[0;34m\u001b[0m\u001b[0m\n\u001b[0;32m--> 507\u001b[0;31m                 self.right_censoring,self.trunc if self.trunc is not None else self.T)\n\u001b[0m\u001b[1;32m    508\u001b[0m         \u001b[0;32massert\u001b[0m \u001b[0;32mnot\u001b[0m \u001b[0mnp\u001b[0m\u001b[0;34m.\u001b[0m\u001b[0misnan\u001b[0m\u001b[0;34m(\u001b[0m\u001b[0mbetal\u001b[0m\u001b[0;34m)\u001b[0m\u001b[0;34m.\u001b[0m\u001b[0many\u001b[0m\u001b[0;34m(\u001b[0m\u001b[0;34m)\u001b[0m\u001b[0;34m\u001b[0m\u001b[0m\n\u001b[1;32m    509\u001b[0m         \u001b[0;32massert\u001b[0m \u001b[0;32mnot\u001b[0m \u001b[0mnp\u001b[0m\u001b[0;34m.\u001b[0m\u001b[0misnan\u001b[0m\u001b[0;34m(\u001b[0m\u001b[0mbetastarl\u001b[0m\u001b[0;34m)\u001b[0m\u001b[0;34m.\u001b[0m\u001b[0many\u001b[0m\u001b[0;34m(\u001b[0m\u001b[0;34m)\u001b[0m\u001b[0;34m\u001b[0m\u001b[0m\n",
      "\u001b[0;31mKeyboardInterrupt\u001b[0m: "
     ]
    }
   ],
   "source": [
    "for fn in filenames:\n",
    "    dataset = pd.read_csv(os.path.join(config.states_path,fn), \n",
    "                          encoding='utf-8', index_col='timestamp', \n",
    "                          parse_dates=True)\n",
    "    X = dataset[config.hsmmconfig.column_names].as_matrix()\n",
    "    prediction = model_orig.predict(X, 0)\n",
    "    dataset['state_orig'] = prediction[1]\n",
    "    data_list.append(dataset[['acceleration', 'state', 'state_orig']])"
   ]
  },
  {
   "cell_type": "code",
   "execution_count": null,
   "metadata": {
    "collapsed": true
   },
   "outputs": [],
   "source": []
  }
 ],
 "metadata": {
  "anaconda-cloud": {},
  "kernelspec": {
   "display_name": "Python [conda env:ucl2]",
   "language": "python",
   "name": "conda-env-ucl2-py"
  },
  "language_info": {
   "codemirror_mode": {
    "name": "ipython",
    "version": 2
   },
   "file_extension": ".py",
   "mimetype": "text/x-python",
   "name": "python",
   "nbconvert_exporter": "python",
   "pygments_lexer": "ipython2",
   "version": "2.7.12"
  }
 },
 "nbformat": 4,
 "nbformat_minor": 0
}
